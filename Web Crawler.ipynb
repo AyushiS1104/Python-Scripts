{
 "cells": [
  {
   "cell_type": "code",
   "execution_count": 28,
   "metadata": {
    "collapsed": true
   },
   "outputs": [],
   "source": [
    "from urllib.request import urlopen\n",
    "from bs4 import BeautifulSoup\n",
    "import requests\n",
    "import types\n",
    "import time\n",
    "import re\n",
    "import queue\n",
    "import string"
   ]
  },
  {
   "cell_type": "code",
   "execution_count": 29,
   "metadata": {
    "collapsed": false
   },
   "outputs": [],
   "source": [
    "#Get Seed URLs and URLs from the seed URL\n",
    "def getQueue(url_lst):\n",
    "    q = queue.Queue()\n",
    "    for url in url_lst:\n",
    "        r = requests.get(\"http://\" + url)\n",
    "        data = r.text\n",
    "        soup = BeautifulSoup(data,\"lxml\")\n",
    "        for link in soup.find_all('a'):\n",
    "            link = link.get('href')\n",
    "            if link!=None:\n",
    "                q.put(link)\n",
    "    return q"
   ]
  },
  {
   "cell_type": "code",
   "execution_count": 30,
   "metadata": {
    "collapsed": true
   },
   "outputs": [],
   "source": [
    "#Determine if page is relevant (before downloading)\n",
    "def classRel(url,html,rel_list):\n",
    "    soup = BeautifulSoup(html,\"lxml\")\n",
    "    text = soup.get_text()\n",
    "    text=text.lower()\n",
    "    rel_count=0\n",
    "    for item in rel_list:\n",
    "        item=item.lower()\n",
    "        if item in text:\n",
    "            rel_count += 1\n",
    "        else:\n",
    "            continue\n",
    "    if rel_count>=2:\n",
    "        return True\n",
    "    else:\n",
    "        return False"
   ]
  },
  {
   "cell_type": "code",
   "execution_count": 31,
   "metadata": {
    "collapsed": false
   },
   "outputs": [],
   "source": [
    "#Make sure the url is valid before crawling\n",
    "def makeVal(url):\n",
    "    if 'redlink' in url:\n",
    "        return None\n",
    "    name = getName(url)\n",
    "    name = re.sub(\"[^a-zA-Z]\",\"\",name)\n",
    "    if name == None:\n",
    "        return None\n",
    "    try:\n",
    "        if '#' in url:\n",
    "            return None\n",
    "        elif url[1]=='w':\n",
    "            url = \"http://en.wikipedia.org\" + url\n",
    "            return url\n",
    "        else:\n",
    "            return None\n",
    "    except IndexError:\n",
    "        print (\"bad page name\")"
   ]
  },
  {
   "cell_type": "code",
   "execution_count": 32,
   "metadata": {
    "collapsed": true
   },
   "outputs": [],
   "source": [
    "#Create a valid file name for the downloaded page\n",
    "def getName(url):\n",
    "    name = url.split('/')[-1]\n",
    "    if '.' in name:\n",
    "        name = name.split('.')[0]\n",
    "    return name"
   ]
  },
  {
   "cell_type": "code",
   "execution_count": 33,
   "metadata": {
    "collapsed": false
   },
   "outputs": [],
   "source": [
    "#Download pages from the urls in the queue\n",
    "def getPage(url,rel_list):\n",
    "    html = urlopen(url).read()\n",
    "    path=\"Crawled_Pages/\"\n",
    "    name = getName(url)\n",
    "    try:\n",
    "        if classRel(url,html,rel_list):\n",
    "            file = open(path+name+'.html','w')\n",
    "            file.write(str(html))\n",
    "            file.close()\n",
    "    except OSError:\n",
    "        print ('bad page')"
   ]
  },
  {
   "cell_type": "code",
   "execution_count": 34,
   "metadata": {
    "collapsed": false
   },
   "outputs": [],
   "source": [
    "#Get the relevant search terms from the user\n",
    "def getRelList():\n",
    "    rel_list = []\n",
    "    counter = 0\n",
    "    b = True\n",
    "    while b==True:\n",
    "        term = input('Enter a search term(Leave blank to end): ')\n",
    "        if term==\"\" and counter>=2:\n",
    "            b=False\n",
    "        elif term==\"\" and counter<2:\n",
    "            print('You need at least 2 search terms')\n",
    "            continue\n",
    "        else:\n",
    "            rel_list.append(term)\n",
    "            counter+=1\n",
    "    return rel_list"
   ]
  },
  {
   "cell_type": "code",
   "execution_count": 35,
   "metadata": {
    "collapsed": false
   },
   "outputs": [],
   "source": [
    "#Get the Seed URLs fromt the user\n",
    "def getSeeds():\n",
    "    seed_URLs = []\n",
    "    counter = 0\n",
    "    b = True\n",
    "    while b==True:\n",
    "        term = input('Enter a seed URL(Leave blank to end):')\n",
    "        if term==\"\" and counter>=1:\n",
    "            b=False\n",
    "        elif term==\"\" and counter<1:\n",
    "            print('You need at least 1 seed URL')\n",
    "            continue\n",
    "        else:\n",
    "            seed_URLs.append(term)\n",
    "            counter+=1\n",
    "    return seed_URLs"
   ]
  },
  {
   "cell_type": "code",
   "execution_count": 36,
   "metadata": {
    "collapsed": false,
    "scrolled": true
   },
   "outputs": [
    {
     "name": "stdout",
     "output_type": "stream",
     "text": [
      "Enter a seed URL(Leave blank to end):en.wikipedia.org/wiki/Hinduism\n",
      "Enter a seed URL(Leave blank to end):en.wikipedia.org/wiki/India\n",
      "Enter a seed URL(Leave blank to end):\n",
      "Enter a search term(Leave blank to end): mughal\n",
      "Enter a search term(Leave blank to end): muslim\n",
      "Enter a search term(Leave blank to end): cricket\n",
      "Enter a search term(Leave blank to end): pakistani\n",
      "Enter a search term(Leave blank to end): Indus\n",
      "Enter a search term(Leave blank to end): dharma\n",
      "Enter a search term(Leave blank to end): \n"
     ]
    }
   ],
   "source": [
    "#seed_URLs = ['en.wikipedia.org/wiki/Hinduism','en.wikipedia.org/wiki/India']\n",
    "#rel_list = ['Hindi','Mughal','Vishnu','muslim','cricket','modi','pakistan','Indus','dharma','british']\n",
    "seed_URLs = getSeeds()\n",
    "rel_list = getRelList()\n",
    "q=getQueue(seed_URLs)\n",
    "vis_URL = []\n",
    "while not q.empty():\n",
    "    url = q.get()\n",
    "    url = makeVal(url)\n",
    "    if url != None and url not in vis_URL:\n",
    "        getPage(url,rel_list)\n",
    "        vis_URL.append(url)\n",
    "    else:\n",
    "        continue"
   ]
  },
  {
   "cell_type": "code",
   "execution_count": null,
   "metadata": {
    "collapsed": true
   },
   "outputs": [],
   "source": []
  }
 ],
 "metadata": {
  "anaconda-cloud": {},
  "kernelspec": {
   "display_name": "Python 3",
   "language": "python",
   "name": "python3"
  },
  "language_info": {
   "codemirror_mode": {
    "name": "ipython",
    "version": 3
   },
   "file_extension": ".py",
   "mimetype": "text/x-python",
   "name": "python",
   "nbconvert_exporter": "python",
   "pygments_lexer": "ipython3",
   "version": "3.5.2"
  }
 },
 "nbformat": 4,
 "nbformat_minor": 1
}
