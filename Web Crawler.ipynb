{
 "cells": [
  {
   "cell_type": "code",
   "execution_count": 57,
   "metadata": {
    "collapsed": true
   },
   "outputs": [],
   "source": [
    "from urllib.request import urlopen\n",
    "from bs4 import BeautifulSoup\n",
    "import requests\n",
    "import types\n",
    "import time\n",
    "import re\n",
    "import queue\n",
    "import string"
   ]
  },
  {
   "cell_type": "code",
   "execution_count": 58,
   "metadata": {
    "collapsed": false
   },
   "outputs": [],
   "source": [
    "#Get Seed URLs and URLs from the seed URL\n",
    "def getQueue(url_lst):\n",
    "    q = queue.Queue()\n",
    "    for url in url_lst:\n",
    "        r = requests.get(\"http://\" + url)\n",
    "        data = r.text\n",
    "        soup = BeautifulSoup(data)\n",
    "        for link in soup.find_all('a'):\n",
    "            link = link.get('href')\n",
    "            if link!=None:\n",
    "                q.put(link)\n",
    "    return q"
   ]
  },
  {
   "cell_type": "code",
   "execution_count": 59,
   "metadata": {
    "collapsed": true
   },
   "outputs": [],
   "source": [
    "#Determine if page is relevant (before downloading)\n",
    "def classRel(url,html,rel_list):\n",
    "    soup = BeautifulSoup(html)\n",
    "    text = soup.get_text()\n",
    "    text=text.lower()\n",
    "    rel_count=0\n",
    "    for item in rel_list:\n",
    "        item=item.lower()\n",
    "        if item in text:\n",
    "            rel_count += 1\n",
    "        else:\n",
    "            continue\n",
    "    if rel_count>=2:\n",
    "        return True\n",
    "    else:\n",
    "        return False"
   ]
  },
  {
   "cell_type": "code",
   "execution_count": 60,
   "metadata": {
    "collapsed": false
   },
   "outputs": [],
   "source": [
    "#Make sure the url is valid before crawling\n",
    "def makeVal(url):\n",
    "    if 'redlink' in url:\n",
    "        return None\n",
    "    try:\n",
    "        if url[1]=='w':\n",
    "            url = \"http://en.wikipedia.org\" + url\n",
    "            return url\n",
    "        else:\n",
    "            return None\n",
    "    except IndexError:\n",
    "        print (\"All Done!\")"
   ]
  },
  {
   "cell_type": "code",
   "execution_count": 61,
   "metadata": {
    "collapsed": true
   },
   "outputs": [],
   "source": [
    "#Create a valid file name for the downloaded page\n",
    "def getName(url):\n",
    "    name = url.split('/')[-1]\n",
    "    if '.' in name:\n",
    "        name = name.split('.')[0]\n",
    "    return name"
   ]
  },
  {
   "cell_type": "code",
   "execution_count": 62,
   "metadata": {
    "collapsed": false
   },
   "outputs": [],
   "source": [
    "#Download pages from the urls in the queue\n",
    "def getPage(url,rel_list):\n",
    "    url = makeVal(url)\n",
    "    html = urlopen(url).read()\n",
    "    path=\"Crawled_Pages/\"\n",
    "    name = getName(url)\n",
    "    if classRel(url,html,rel_list):\n",
    "        file = open(path+name+'.html','w')\n",
    "        file.write(str(html))\n",
    "        file.close()"
   ]
  },
  {
   "cell_type": "code",
   "execution_count": 63,
   "metadata": {
    "collapsed": false
   },
   "outputs": [
    {
     "name": "stderr",
     "output_type": "stream",
     "text": [
      "C:\\Users\\amuth\\Anaconda3\\lib\\site-packages\\bs4\\__init__.py:181: UserWarning: No parser was explicitly specified, so I'm using the best available HTML parser for this system (\"lxml\"). This usually isn't a problem, but if you run this code on another system, or in a different virtual environment, it may use a different parser and behave differently.\n",
      "\n",
      "The code that caused this warning is on line 184 of the file C:\\Users\\amuth\\Anaconda3\\lib\\runpy.py. To get rid of this warning, change code that looks like this:\n",
      "\n",
      " BeautifulSoup([your markup])\n",
      "\n",
      "to this:\n",
      "\n",
      " BeautifulSoup([your markup], \"lxml\")\n",
      "\n",
      "  markup_type=markup_type))\n"
     ]
    },
    {
     "name": "stdout",
     "output_type": "stream",
     "text": [
      "All Done!\n",
      "All Done!\n"
     ]
    }
   ],
   "source": [
    "rel_list = ['Machine Learning','classification','analysis','extraction','data Science','algorithm','statistics']\n",
    "seed_URLs = ['en.wikipedia.org/wiki/Data_mining']\n",
    "q=getQueue(seed_URLs)\n",
    "vis_URL = []\n",
    "while not q.empty():\n",
    "    url = q.get()\n",
    "    if makeVal(url) != None and url not in vis_URL:\n",
    "        getPage(url,rel_list)\n",
    "        vis_URL.append(url)\n",
    "    else:\n",
    "        continue"
   ]
  },
  {
   "cell_type": "code",
   "execution_count": null,
   "metadata": {
    "collapsed": true
   },
   "outputs": [],
   "source": []
  },
  {
   "cell_type": "code",
   "execution_count": null,
   "metadata": {
    "collapsed": true
   },
   "outputs": [],
   "source": []
  },
  {
   "cell_type": "code",
   "execution_count": null,
   "metadata": {
    "collapsed": true
   },
   "outputs": [],
   "source": []
  },
  {
   "cell_type": "code",
   "execution_count": null,
   "metadata": {
    "collapsed": true
   },
   "outputs": [],
   "source": []
  }
 ],
 "metadata": {
  "anaconda-cloud": {},
  "kernelspec": {
   "display_name": "Python [default]",
   "language": "python",
   "name": "python3"
  },
  "language_info": {
   "codemirror_mode": {
    "name": "ipython",
    "version": 3
   },
   "file_extension": ".py",
   "mimetype": "text/x-python",
   "name": "python",
   "nbconvert_exporter": "python",
   "pygments_lexer": "ipython3",
   "version": "3.5.2"
  }
 },
 "nbformat": 4,
 "nbformat_minor": 1
}
