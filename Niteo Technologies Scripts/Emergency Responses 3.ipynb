{
 "cells": [
  {
   "cell_type": "code",
   "execution_count": 5,
   "metadata": {
    "collapsed": false
   },
   "outputs": [
    {
     "ename": "NameError",
     "evalue": "name 'warnings' is not defined",
     "output_type": "error",
     "traceback": [
      "\u001b[1;31m---------------------------------------------------------------------------\u001b[0m",
      "\u001b[1;31mNameError\u001b[0m                                 Traceback (most recent call last)",
      "\u001b[1;32m<ipython-input-5-b7672039db5b>\u001b[0m in \u001b[0;36m<module>\u001b[1;34m()\u001b[0m\n\u001b[0;32m      4\u001b[0m \u001b[1;32mimport\u001b[0m \u001b[0mmatplotlib\u001b[0m \u001b[1;32mas\u001b[0m \u001b[0mplt\u001b[0m\u001b[1;33m\u001b[0m\u001b[0m\n\u001b[0;32m      5\u001b[0m \u001b[0mget_ipython\u001b[0m\u001b[1;33m(\u001b[0m\u001b[1;33m)\u001b[0m\u001b[1;33m.\u001b[0m\u001b[0mmagic\u001b[0m\u001b[1;33m(\u001b[0m\u001b[1;34mu'matplotlib inline'\u001b[0m\u001b[1;33m)\u001b[0m\u001b[1;33m\u001b[0m\u001b[0m\n\u001b[1;32m----> 6\u001b[1;33m \u001b[0mwarnings\u001b[0m\u001b[1;33m.\u001b[0m\u001b[0mfilterwarnings\u001b[0m\u001b[1;33m(\u001b[0m\u001b[1;34m'ignore'\u001b[0m\u001b[1;33m)\u001b[0m\u001b[1;33m\u001b[0m\u001b[0m\n\u001b[0m\u001b[0;32m      7\u001b[0m \u001b[0mpd\u001b[0m\u001b[1;33m.\u001b[0m\u001b[0mset_option\u001b[0m\u001b[1;33m(\u001b[0m\u001b[1;34m'display.maxcolumns'\u001b[0m\u001b[1;33m,\u001b[0m\u001b[1;36m20\u001b[0m\u001b[1;33m)\u001b[0m\u001b[1;33m\u001b[0m\u001b[0m\n\u001b[0;32m      8\u001b[0m \u001b[0mpd\u001b[0m\u001b[1;33m.\u001b[0m\u001b[0mset_option\u001b[0m\u001b[1;33m(\u001b[0m\u001b[1;34m'display.maxrows'\u001b[0m\u001b[1;33m,\u001b[0m\u001b[1;36m25\u001b[0m\u001b[1;33m)\u001b[0m\u001b[1;33m\u001b[0m\u001b[0m\n",
      "\u001b[1;31mNameError\u001b[0m: name 'warnings' is not defined"
     ]
    }
   ],
   "source": [
    "from pandas import Series, DataFrame\n",
    "import pandas as pd\n",
    "import numpy as np\n",
    "import matplotlib as plt\n",
    "%matplotlib inline\n",
    "warnings.filterwarnings('ignore')\n",
    "pd.set_option('display.maxcolumns',20)\n",
    "pd.set_option('display.maxrows',25)"
   ]
  },
  {
   "cell_type": "code",
   "execution_count": 6,
   "metadata": {
    "collapsed": false
   },
   "outputs": [],
   "source": [
    "responses = pd.read_csv('../Niteo/Emergency_Response_Incidents.csv')"
   ]
  },
  {
   "cell_type": "code",
   "execution_count": 7,
   "metadata": {
    "collapsed": false
   },
   "outputs": [
    {
     "data": {
      "text/html": [
       "<div>\n",
       "<table border=\"1\" class=\"dataframe\">\n",
       "  <thead>\n",
       "    <tr style=\"text-align: right;\">\n",
       "      <th></th>\n",
       "      <th>Incident Type</th>\n",
       "      <th>Location</th>\n",
       "      <th>Borough</th>\n",
       "      <th>Creation Date</th>\n",
       "      <th>Closed Date</th>\n",
       "      <th>Latitude</th>\n",
       "      <th>Longitude</th>\n",
       "    </tr>\n",
       "  </thead>\n",
       "  <tbody>\n",
       "    <tr>\n",
       "      <th>0</th>\n",
       "      <td>Administration-Other</td>\n",
       "      <td>NaN</td>\n",
       "      <td>Brooklyn</td>\n",
       "      <td>12/31/2015  11:52:18 PM</td>\n",
       "      <td>1/1/2016   1:32:08AM</td>\n",
       "      <td>NaN</td>\n",
       "      <td>NaN</td>\n",
       "    </tr>\n",
       "    <tr>\n",
       "      <th>1</th>\n",
       "      <td>Transportation-Train Subway</td>\n",
       "      <td>Marcy Ave &amp; Broadway</td>\n",
       "      <td>Brooklyn</td>\n",
       "      <td>12/31/2015  5:00:43 PM</td>\n",
       "      <td>1/2/2016   4:03:10AM</td>\n",
       "      <td>40.708426</td>\n",
       "      <td>-73.957904</td>\n",
       "    </tr>\n",
       "    <tr>\n",
       "      <th>2</th>\n",
       "      <td>Law Enforcement-Suspicious Package</td>\n",
       "      <td>435 Ocean Parkway</td>\n",
       "      <td>Brooklyn</td>\n",
       "      <td>12/30/2015  1:55:21 PM</td>\n",
       "      <td>12/30/2015   2:00:18PM</td>\n",
       "      <td>40.637832</td>\n",
       "      <td>-73.973045</td>\n",
       "    </tr>\n",
       "    <tr>\n",
       "      <th>3</th>\n",
       "      <td>Fire-Manhole</td>\n",
       "      <td>NaN</td>\n",
       "      <td>Bronx</td>\n",
       "      <td>12/29/2015  1:57:37 PM</td>\n",
       "      <td>12/30/2015   2:47:14AM</td>\n",
       "      <td>40.733883</td>\n",
       "      <td>-74.031169</td>\n",
       "    </tr>\n",
       "    <tr>\n",
       "      <th>4</th>\n",
       "      <td>Fire-2nd Alarm</td>\n",
       "      <td>347 East 84 Street</td>\n",
       "      <td>Manhattan</td>\n",
       "      <td>12/28/2015  6:52:05 PM</td>\n",
       "      <td>12/28/2015   8:40:08PM</td>\n",
       "      <td>40.776093</td>\n",
       "      <td>-73.951568</td>\n",
       "    </tr>\n",
       "  </tbody>\n",
       "</table>\n",
       "</div>"
      ],
      "text/plain": [
       "                        Incident Type              Location    Borough  \\\n",
       "0                Administration-Other                   NaN   Brooklyn   \n",
       "1         Transportation-Train Subway  Marcy Ave & Broadway   Brooklyn   \n",
       "2  Law Enforcement-Suspicious Package     435 Ocean Parkway   Brooklyn   \n",
       "3                        Fire-Manhole                   NaN      Bronx   \n",
       "4                      Fire-2nd Alarm    347 East 84 Street  Manhattan   \n",
       "\n",
       "             Creation Date              Closed Date   Latitude  Longitude  \n",
       "0  12/31/2015  11:52:18 PM    1/1/2016   1:32:08AM         NaN        NaN  \n",
       "1   12/31/2015  5:00:43 PM    1/2/2016   4:03:10AM   40.708426 -73.957904  \n",
       "2   12/30/2015  1:55:21 PM  12/30/2015   2:00:18PM   40.637832 -73.973045  \n",
       "3   12/29/2015  1:57:37 PM  12/30/2015   2:47:14AM   40.733883 -74.031169  \n",
       "4   12/28/2015  6:52:05 PM  12/28/2015   8:40:08PM   40.776093 -73.951568  "
      ]
     },
     "execution_count": 7,
     "metadata": {},
     "output_type": "execute_result"
    }
   ],
   "source": [
    "responses.head()"
   ]
  },
  {
   "cell_type": "code",
   "execution_count": 6,
   "metadata": {
    "collapsed": false
   },
   "outputs": [
    {
     "data": {
      "text/plain": [
       "count                      2524\n",
       "unique                     2521\n",
       "top       5/11/2015  7:48:03 PM\n",
       "freq                          2\n",
       "Name: Creation Date, dtype: object"
      ]
     },
     "execution_count": 6,
     "metadata": {},
     "output_type": "execute_result"
    }
   ],
   "source": [
    "responses['Creation Date'].describe()"
   ]
  },
  {
   "cell_type": "code",
   "execution_count": 8,
   "metadata": {
    "collapsed": false
   },
   "outputs": [],
   "source": [
    "responses = responses.rename(columns={'Creation Date':'SDate','Closed Date':'EDate','Incident Type':'Incidents'})"
   ]
  },
  {
   "cell_type": "code",
   "execution_count": 65,
   "metadata": {
    "collapsed": false
   },
   "outputs": [
    {
     "data": {
      "text/html": [
       "<div>\n",
       "<table border=\"1\" class=\"dataframe\">\n",
       "  <thead>\n",
       "    <tr style=\"text-align: right;\">\n",
       "      <th></th>\n",
       "      <th>Incidents</th>\n",
       "      <th>Location</th>\n",
       "      <th>Borough</th>\n",
       "      <th>SDate</th>\n",
       "      <th>EDate</th>\n",
       "      <th>Latitude</th>\n",
       "      <th>Longitude</th>\n",
       "    </tr>\n",
       "  </thead>\n",
       "  <tbody>\n",
       "    <tr>\n",
       "      <th>0</th>\n",
       "      <td>Administration</td>\n",
       "      <td>NaN</td>\n",
       "      <td>brooklyn</td>\n",
       "      <td>12/31/2015  11:52:18 PM</td>\n",
       "      <td>1/1/2016   1:32:08AM</td>\n",
       "      <td>NaN</td>\n",
       "      <td>NaN</td>\n",
       "    </tr>\n",
       "    <tr>\n",
       "      <th>1</th>\n",
       "      <td>Transportation</td>\n",
       "      <td>Marcy Ave &amp; Broadway</td>\n",
       "      <td>brooklyn</td>\n",
       "      <td>12/31/2015  5:00:43 PM</td>\n",
       "      <td>1/2/2016   4:03:10AM</td>\n",
       "      <td>40.708426</td>\n",
       "      <td>-73.957904</td>\n",
       "    </tr>\n",
       "    <tr>\n",
       "      <th>2</th>\n",
       "      <td>Law Enforcement</td>\n",
       "      <td>435 Ocean Parkway</td>\n",
       "      <td>brooklyn</td>\n",
       "      <td>12/30/2015  1:55:21 PM</td>\n",
       "      <td>12/30/2015   2:00:18PM</td>\n",
       "      <td>40.637832</td>\n",
       "      <td>-73.973045</td>\n",
       "    </tr>\n",
       "    <tr>\n",
       "      <th>3</th>\n",
       "      <td>Fire</td>\n",
       "      <td>NaN</td>\n",
       "      <td>bronx</td>\n",
       "      <td>12/29/2015  1:57:37 PM</td>\n",
       "      <td>12/30/2015   2:47:14AM</td>\n",
       "      <td>40.733883</td>\n",
       "      <td>-74.031169</td>\n",
       "    </tr>\n",
       "    <tr>\n",
       "      <th>4</th>\n",
       "      <td>Fire</td>\n",
       "      <td>347 East 84 Street</td>\n",
       "      <td>manhattan</td>\n",
       "      <td>12/28/2015  6:52:05 PM</td>\n",
       "      <td>12/28/2015   8:40:08PM</td>\n",
       "      <td>40.776093</td>\n",
       "      <td>-73.951568</td>\n",
       "    </tr>\n",
       "  </tbody>\n",
       "</table>\n",
       "</div>"
      ],
      "text/plain": [
       "         Incidents              Location    Borough                    SDate  \\\n",
       "0   Administration                   NaN   brooklyn  12/31/2015  11:52:18 PM   \n",
       "1   Transportation  Marcy Ave & Broadway   brooklyn   12/31/2015  5:00:43 PM   \n",
       "2  Law Enforcement     435 Ocean Parkway   brooklyn   12/30/2015  1:55:21 PM   \n",
       "3             Fire                   NaN      bronx   12/29/2015  1:57:37 PM   \n",
       "4             Fire    347 East 84 Street  manhattan   12/28/2015  6:52:05 PM   \n",
       "\n",
       "                     EDate   Latitude  Longitude  \n",
       "0    1/1/2016   1:32:08AM         NaN        NaN  \n",
       "1    1/2/2016   4:03:10AM   40.708426 -73.957904  \n",
       "2  12/30/2015   2:00:18PM   40.637832 -73.973045  \n",
       "3  12/30/2015   2:47:14AM   40.733883 -74.031169  \n",
       "4  12/28/2015   8:40:08PM   40.776093 -73.951568  "
      ]
     },
     "execution_count": 65,
     "metadata": {},
     "output_type": "execute_result"
    }
   ],
   "source": [
    "responses.head()"
   ]
  },
  {
   "cell_type": "code",
   "execution_count": 66,
   "metadata": {
    "collapsed": false
   },
   "outputs": [],
   "source": [
    "responses['Borough']=responses.Borough.apply(lambda x:x.lower())"
   ]
  },
  {
   "cell_type": "code",
   "execution_count": 67,
   "metadata": {
    "collapsed": false
   },
   "outputs": [
    {
     "data": {
      "text/html": [
       "<div>\n",
       "<table border=\"1\" class=\"dataframe\">\n",
       "  <thead>\n",
       "    <tr style=\"text-align: right;\">\n",
       "      <th></th>\n",
       "      <th>Incidents</th>\n",
       "      <th>Location</th>\n",
       "      <th>Borough</th>\n",
       "      <th>SDate</th>\n",
       "      <th>EDate</th>\n",
       "      <th>Latitude</th>\n",
       "      <th>Longitude</th>\n",
       "    </tr>\n",
       "  </thead>\n",
       "  <tbody>\n",
       "    <tr>\n",
       "      <th>0</th>\n",
       "      <td>Administration</td>\n",
       "      <td>NaN</td>\n",
       "      <td>brooklyn</td>\n",
       "      <td>12/31/2015  11:52:18 PM</td>\n",
       "      <td>1/1/2016   1:32:08AM</td>\n",
       "      <td>NaN</td>\n",
       "      <td>NaN</td>\n",
       "    </tr>\n",
       "    <tr>\n",
       "      <th>1</th>\n",
       "      <td>Transportation</td>\n",
       "      <td>Marcy Ave &amp; Broadway</td>\n",
       "      <td>brooklyn</td>\n",
       "      <td>12/31/2015  5:00:43 PM</td>\n",
       "      <td>1/2/2016   4:03:10AM</td>\n",
       "      <td>40.708426</td>\n",
       "      <td>-73.957904</td>\n",
       "    </tr>\n",
       "    <tr>\n",
       "      <th>2</th>\n",
       "      <td>Law Enforcement</td>\n",
       "      <td>435 Ocean Parkway</td>\n",
       "      <td>brooklyn</td>\n",
       "      <td>12/30/2015  1:55:21 PM</td>\n",
       "      <td>12/30/2015   2:00:18PM</td>\n",
       "      <td>40.637832</td>\n",
       "      <td>-73.973045</td>\n",
       "    </tr>\n",
       "    <tr>\n",
       "      <th>3</th>\n",
       "      <td>Fire</td>\n",
       "      <td>NaN</td>\n",
       "      <td>bronx</td>\n",
       "      <td>12/29/2015  1:57:37 PM</td>\n",
       "      <td>12/30/2015   2:47:14AM</td>\n",
       "      <td>40.733883</td>\n",
       "      <td>-74.031169</td>\n",
       "    </tr>\n",
       "    <tr>\n",
       "      <th>4</th>\n",
       "      <td>Fire</td>\n",
       "      <td>347 East 84 Street</td>\n",
       "      <td>manhattan</td>\n",
       "      <td>12/28/2015  6:52:05 PM</td>\n",
       "      <td>12/28/2015   8:40:08PM</td>\n",
       "      <td>40.776093</td>\n",
       "      <td>-73.951568</td>\n",
       "    </tr>\n",
       "  </tbody>\n",
       "</table>\n",
       "</div>"
      ],
      "text/plain": [
       "         Incidents              Location    Borough                    SDate  \\\n",
       "0   Administration                   NaN   brooklyn  12/31/2015  11:52:18 PM   \n",
       "1   Transportation  Marcy Ave & Broadway   brooklyn   12/31/2015  5:00:43 PM   \n",
       "2  Law Enforcement     435 Ocean Parkway   brooklyn   12/30/2015  1:55:21 PM   \n",
       "3             Fire                   NaN      bronx   12/29/2015  1:57:37 PM   \n",
       "4             Fire    347 East 84 Street  manhattan   12/28/2015  6:52:05 PM   \n",
       "\n",
       "                     EDate   Latitude  Longitude  \n",
       "0    1/1/2016   1:32:08AM         NaN        NaN  \n",
       "1    1/2/2016   4:03:10AM   40.708426 -73.957904  \n",
       "2  12/30/2015   2:00:18PM   40.637832 -73.973045  \n",
       "3  12/30/2015   2:47:14AM   40.733883 -74.031169  \n",
       "4  12/28/2015   8:40:08PM   40.776093 -73.951568  "
      ]
     },
     "execution_count": 67,
     "metadata": {},
     "output_type": "execute_result"
    }
   ],
   "source": [
    "responses.head()"
   ]
  },
  {
   "cell_type": "code",
   "execution_count": 68,
   "metadata": {
    "collapsed": false
   },
   "outputs": [
    {
     "data": {
      "text/plain": [
       "count          2524\n",
       "unique            6\n",
       "top       manhattan\n",
       "freq            918\n",
       "Name: Borough, dtype: object"
      ]
     },
     "execution_count": 68,
     "metadata": {},
     "output_type": "execute_result"
    }
   ],
   "source": [
    "responses['Borough'].describe()"
   ]
  },
  {
   "cell_type": "code",
   "execution_count": 69,
   "metadata": {
    "collapsed": false
   },
   "outputs": [],
   "source": [
    "def cleaninc(x):\n",
    "    x=x.split('-')\n",
    "    return x[0]\n",
    "responses['Incidents']=responses.Incidents.apply(cleaninc)"
   ]
  },
  {
   "cell_type": "code",
   "execution_count": 70,
   "metadata": {
    "collapsed": false
   },
   "outputs": [
    {
     "data": {
      "text/html": [
       "<div>\n",
       "<table border=\"1\" class=\"dataframe\">\n",
       "  <thead>\n",
       "    <tr style=\"text-align: right;\">\n",
       "      <th></th>\n",
       "      <th>Incidents</th>\n",
       "      <th>Location</th>\n",
       "      <th>Borough</th>\n",
       "      <th>SDate</th>\n",
       "      <th>EDate</th>\n",
       "      <th>Latitude</th>\n",
       "      <th>Longitude</th>\n",
       "    </tr>\n",
       "  </thead>\n",
       "  <tbody>\n",
       "    <tr>\n",
       "      <th>0</th>\n",
       "      <td>Administration</td>\n",
       "      <td>NaN</td>\n",
       "      <td>brooklyn</td>\n",
       "      <td>12/31/2015  11:52:18 PM</td>\n",
       "      <td>1/1/2016   1:32:08AM</td>\n",
       "      <td>NaN</td>\n",
       "      <td>NaN</td>\n",
       "    </tr>\n",
       "    <tr>\n",
       "      <th>1</th>\n",
       "      <td>Transportation</td>\n",
       "      <td>Marcy Ave &amp; Broadway</td>\n",
       "      <td>brooklyn</td>\n",
       "      <td>12/31/2015  5:00:43 PM</td>\n",
       "      <td>1/2/2016   4:03:10AM</td>\n",
       "      <td>40.708426</td>\n",
       "      <td>-73.957904</td>\n",
       "    </tr>\n",
       "    <tr>\n",
       "      <th>2</th>\n",
       "      <td>Law Enforcement</td>\n",
       "      <td>435 Ocean Parkway</td>\n",
       "      <td>brooklyn</td>\n",
       "      <td>12/30/2015  1:55:21 PM</td>\n",
       "      <td>12/30/2015   2:00:18PM</td>\n",
       "      <td>40.637832</td>\n",
       "      <td>-73.973045</td>\n",
       "    </tr>\n",
       "    <tr>\n",
       "      <th>3</th>\n",
       "      <td>Fire</td>\n",
       "      <td>NaN</td>\n",
       "      <td>bronx</td>\n",
       "      <td>12/29/2015  1:57:37 PM</td>\n",
       "      <td>12/30/2015   2:47:14AM</td>\n",
       "      <td>40.733883</td>\n",
       "      <td>-74.031169</td>\n",
       "    </tr>\n",
       "    <tr>\n",
       "      <th>4</th>\n",
       "      <td>Fire</td>\n",
       "      <td>347 East 84 Street</td>\n",
       "      <td>manhattan</td>\n",
       "      <td>12/28/2015  6:52:05 PM</td>\n",
       "      <td>12/28/2015   8:40:08PM</td>\n",
       "      <td>40.776093</td>\n",
       "      <td>-73.951568</td>\n",
       "    </tr>\n",
       "  </tbody>\n",
       "</table>\n",
       "</div>"
      ],
      "text/plain": [
       "         Incidents              Location    Borough                    SDate  \\\n",
       "0   Administration                   NaN   brooklyn  12/31/2015  11:52:18 PM   \n",
       "1   Transportation  Marcy Ave & Broadway   brooklyn   12/31/2015  5:00:43 PM   \n",
       "2  Law Enforcement     435 Ocean Parkway   brooklyn   12/30/2015  1:55:21 PM   \n",
       "3             Fire                   NaN      bronx   12/29/2015  1:57:37 PM   \n",
       "4             Fire    347 East 84 Street  manhattan   12/28/2015  6:52:05 PM   \n",
       "\n",
       "                     EDate   Latitude  Longitude  \n",
       "0    1/1/2016   1:32:08AM         NaN        NaN  \n",
       "1    1/2/2016   4:03:10AM   40.708426 -73.957904  \n",
       "2  12/30/2015   2:00:18PM   40.637832 -73.973045  \n",
       "3  12/30/2015   2:47:14AM   40.733883 -74.031169  \n",
       "4  12/28/2015   8:40:08PM   40.776093 -73.951568  "
      ]
     },
     "execution_count": 70,
     "metadata": {},
     "output_type": "execute_result"
    }
   ],
   "source": [
    "responses.head()"
   ]
  },
  {
   "cell_type": "code",
   "execution_count": 71,
   "metadata": {
    "collapsed": false
   },
   "outputs": [],
   "source": [
    "responses = responses.replace(['LawEnforcment'],['Law Enforcement'])"
   ]
  },
  {
   "cell_type": "code",
   "execution_count": 72,
   "metadata": {
    "collapsed": true
   },
   "outputs": [],
   "source": [
    "test = responses.loc[0::,['Borough','SDate','EDate']]"
   ]
  },
  {
   "cell_type": "code",
   "execution_count": 73,
   "metadata": {
    "collapsed": false
   },
   "outputs": [
    {
     "data": {
      "text/html": [
       "<div>\n",
       "<table border=\"1\" class=\"dataframe\">\n",
       "  <thead>\n",
       "    <tr style=\"text-align: right;\">\n",
       "      <th></th>\n",
       "      <th>Borough</th>\n",
       "      <th>SDate</th>\n",
       "      <th>EDate</th>\n",
       "    </tr>\n",
       "  </thead>\n",
       "  <tbody>\n",
       "    <tr>\n",
       "      <th>0</th>\n",
       "      <td>brooklyn</td>\n",
       "      <td>12/31/2015  11:52:18 PM</td>\n",
       "      <td>1/1/2016   1:32:08AM</td>\n",
       "    </tr>\n",
       "    <tr>\n",
       "      <th>1</th>\n",
       "      <td>brooklyn</td>\n",
       "      <td>12/31/2015  5:00:43 PM</td>\n",
       "      <td>1/2/2016   4:03:10AM</td>\n",
       "    </tr>\n",
       "    <tr>\n",
       "      <th>2</th>\n",
       "      <td>brooklyn</td>\n",
       "      <td>12/30/2015  1:55:21 PM</td>\n",
       "      <td>12/30/2015   2:00:18PM</td>\n",
       "    </tr>\n",
       "    <tr>\n",
       "      <th>3</th>\n",
       "      <td>bronx</td>\n",
       "      <td>12/29/2015  1:57:37 PM</td>\n",
       "      <td>12/30/2015   2:47:14AM</td>\n",
       "    </tr>\n",
       "    <tr>\n",
       "      <th>4</th>\n",
       "      <td>manhattan</td>\n",
       "      <td>12/28/2015  6:52:05 PM</td>\n",
       "      <td>12/28/2015   8:40:08PM</td>\n",
       "    </tr>\n",
       "  </tbody>\n",
       "</table>\n",
       "</div>"
      ],
      "text/plain": [
       "     Borough                    SDate                    EDate\n",
       "0   brooklyn  12/31/2015  11:52:18 PM    1/1/2016   1:32:08AM \n",
       "1   brooklyn   12/31/2015  5:00:43 PM    1/2/2016   4:03:10AM \n",
       "2   brooklyn   12/30/2015  1:55:21 PM  12/30/2015   2:00:18PM \n",
       "3      bronx   12/29/2015  1:57:37 PM  12/30/2015   2:47:14AM \n",
       "4  manhattan   12/28/2015  6:52:05 PM  12/28/2015   8:40:08PM "
      ]
     },
     "execution_count": 73,
     "metadata": {},
     "output_type": "execute_result"
    }
   ],
   "source": [
    "test.head()"
   ]
  },
  {
   "cell_type": "code",
   "execution_count": 74,
   "metadata": {
    "collapsed": false
   },
   "outputs": [
    {
     "name": "stdout",
     "output_type": "stream",
     "text": [
      "<class 'pandas.core.frame.DataFrame'>\n",
      "RangeIndex: 2524 entries, 0 to 2523\n",
      "Data columns (total 3 columns):\n",
      "Borough    2524 non-null object\n",
      "SDate      2524 non-null object\n",
      "EDate      2524 non-null object\n",
      "dtypes: object(3)\n",
      "memory usage: 59.2+ KB\n"
     ]
    }
   ],
   "source": [
    "test.info()"
   ]
  },
  {
   "cell_type": "code",
   "execution_count": 75,
   "metadata": {
    "collapsed": false
   },
   "outputs": [],
   "source": [
    "test['SDate'] = pd.to_datetime(test.SDate)\n"
   ]
  },
  {
   "cell_type": "code",
   "execution_count": 64,
   "metadata": {
    "collapsed": false
   },
   "outputs": [
    {
     "ename": "TypeError",
     "evalue": "unhashable type: 'list'",
     "output_type": "error",
     "traceback": [
      "\u001b[1;31m---------------------------------------------------------------------------\u001b[0m",
      "\u001b[1;31mTypeError\u001b[0m                                 Traceback (most recent call last)",
      "\u001b[1;32m<ipython-input-64-6fb56efded41>\u001b[0m in \u001b[0;36m<module>\u001b[1;34m()\u001b[0m\n\u001b[1;32m----> 1\u001b[1;33m \u001b[0mtest\u001b[0m\u001b[1;33m[\u001b[0m\u001b[1;34m'EDate'\u001b[0m\u001b[1;33m]\u001b[0m \u001b[1;33m=\u001b[0m \u001b[0mpd\u001b[0m\u001b[1;33m.\u001b[0m\u001b[0mto_datetime\u001b[0m\u001b[1;33m(\u001b[0m\u001b[0mtest\u001b[0m\u001b[1;33m.\u001b[0m\u001b[0mEDate\u001b[0m\u001b[1;33m)\u001b[0m\u001b[1;33m\u001b[0m\u001b[0m\n\u001b[0m",
      "\u001b[1;32mC:\\Users\\amuthiyan\\Anaconda2\\lib\\site-packages\\pandas\\util\\decorators.pyc\u001b[0m in \u001b[0;36mwrapper\u001b[1;34m(*args, **kwargs)\u001b[0m\n\u001b[0;32m     89\u001b[0m                 \u001b[1;32melse\u001b[0m\u001b[1;33m:\u001b[0m\u001b[1;33m\u001b[0m\u001b[0m\n\u001b[0;32m     90\u001b[0m                     \u001b[0mkwargs\u001b[0m\u001b[1;33m[\u001b[0m\u001b[0mnew_arg_name\u001b[0m\u001b[1;33m]\u001b[0m \u001b[1;33m=\u001b[0m \u001b[0mnew_arg_value\u001b[0m\u001b[1;33m\u001b[0m\u001b[0m\n\u001b[1;32m---> 91\u001b[1;33m             \u001b[1;32mreturn\u001b[0m \u001b[0mfunc\u001b[0m\u001b[1;33m(\u001b[0m\u001b[1;33m*\u001b[0m\u001b[0margs\u001b[0m\u001b[1;33m,\u001b[0m \u001b[1;33m**\u001b[0m\u001b[0mkwargs\u001b[0m\u001b[1;33m)\u001b[0m\u001b[1;33m\u001b[0m\u001b[0m\n\u001b[0m\u001b[0;32m     92\u001b[0m         \u001b[1;32mreturn\u001b[0m \u001b[0mwrapper\u001b[0m\u001b[1;33m\u001b[0m\u001b[0m\n\u001b[0;32m     93\u001b[0m     \u001b[1;32mreturn\u001b[0m \u001b[0m_deprecate_kwarg\u001b[0m\u001b[1;33m\u001b[0m\u001b[0m\n",
      "\u001b[1;32mC:\\Users\\amuthiyan\\Anaconda2\\lib\\site-packages\\pandas\\tseries\\tools.pyc\u001b[0m in \u001b[0;36mto_datetime\u001b[1;34m(arg, errors, dayfirst, yearfirst, utc, box, format, exact, coerce, unit, infer_datetime_format)\u001b[0m\n\u001b[0;32m    285\u001b[0m                         \u001b[0myearfirst\u001b[0m\u001b[1;33m=\u001b[0m\u001b[0myearfirst\u001b[0m\u001b[1;33m,\u001b[0m\u001b[1;33m\u001b[0m\u001b[0m\n\u001b[0;32m    286\u001b[0m                         \u001b[0mutc\u001b[0m\u001b[1;33m=\u001b[0m\u001b[0mutc\u001b[0m\u001b[1;33m,\u001b[0m \u001b[0mbox\u001b[0m\u001b[1;33m=\u001b[0m\u001b[0mbox\u001b[0m\u001b[1;33m,\u001b[0m \u001b[0mformat\u001b[0m\u001b[1;33m=\u001b[0m\u001b[0mformat\u001b[0m\u001b[1;33m,\u001b[0m \u001b[0mexact\u001b[0m\u001b[1;33m=\u001b[0m\u001b[0mexact\u001b[0m\u001b[1;33m,\u001b[0m\u001b[1;33m\u001b[0m\u001b[0m\n\u001b[1;32m--> 287\u001b[1;33m                         unit=unit, infer_datetime_format=infer_datetime_format)\n\u001b[0m\u001b[0;32m    288\u001b[0m \u001b[1;33m\u001b[0m\u001b[0m\n\u001b[0;32m    289\u001b[0m \u001b[1;33m\u001b[0m\u001b[0m\n",
      "\u001b[1;32mC:\\Users\\amuthiyan\\Anaconda2\\lib\\site-packages\\pandas\\tseries\\tools.pyc\u001b[0m in \u001b[0;36m_to_datetime\u001b[1;34m(arg, errors, dayfirst, yearfirst, utc, box, format, exact, unit, freq, infer_datetime_format)\u001b[0m\n\u001b[0;32m    407\u001b[0m         \u001b[1;32mreturn\u001b[0m \u001b[0marg\u001b[0m\u001b[1;33m\u001b[0m\u001b[0m\n\u001b[0;32m    408\u001b[0m     \u001b[1;32melif\u001b[0m \u001b[0misinstance\u001b[0m\u001b[1;33m(\u001b[0m\u001b[0marg\u001b[0m\u001b[1;33m,\u001b[0m \u001b[0mSeries\u001b[0m\u001b[1;33m)\u001b[0m\u001b[1;33m:\u001b[0m\u001b[1;33m\u001b[0m\u001b[0m\n\u001b[1;32m--> 409\u001b[1;33m         \u001b[0mvalues\u001b[0m \u001b[1;33m=\u001b[0m \u001b[0m_convert_listlike\u001b[0m\u001b[1;33m(\u001b[0m\u001b[0marg\u001b[0m\u001b[1;33m.\u001b[0m\u001b[0m_values\u001b[0m\u001b[1;33m,\u001b[0m \u001b[0mFalse\u001b[0m\u001b[1;33m,\u001b[0m \u001b[0mformat\u001b[0m\u001b[1;33m)\u001b[0m\u001b[1;33m\u001b[0m\u001b[0m\n\u001b[0m\u001b[0;32m    410\u001b[0m         \u001b[1;32mreturn\u001b[0m \u001b[0mSeries\u001b[0m\u001b[1;33m(\u001b[0m\u001b[0mvalues\u001b[0m\u001b[1;33m,\u001b[0m \u001b[0mindex\u001b[0m\u001b[1;33m=\u001b[0m\u001b[0marg\u001b[0m\u001b[1;33m.\u001b[0m\u001b[0mindex\u001b[0m\u001b[1;33m,\u001b[0m \u001b[0mname\u001b[0m\u001b[1;33m=\u001b[0m\u001b[0marg\u001b[0m\u001b[1;33m.\u001b[0m\u001b[0mname\u001b[0m\u001b[1;33m)\u001b[0m\u001b[1;33m\u001b[0m\u001b[0m\n\u001b[0;32m    411\u001b[0m     \u001b[1;32melif\u001b[0m \u001b[0misinstance\u001b[0m\u001b[1;33m(\u001b[0m\u001b[0marg\u001b[0m\u001b[1;33m,\u001b[0m \u001b[0mABCIndexClass\u001b[0m\u001b[1;33m)\u001b[0m\u001b[1;33m:\u001b[0m\u001b[1;33m\u001b[0m\u001b[0m\n",
      "\u001b[1;32mC:\\Users\\amuthiyan\\Anaconda2\\lib\\site-packages\\pandas\\tseries\\tools.pyc\u001b[0m in \u001b[0;36m_convert_listlike\u001b[1;34m(arg, box, format, name)\u001b[0m\n\u001b[0;32m    386\u001b[0m                     \u001b[0mfreq\u001b[0m\u001b[1;33m=\u001b[0m\u001b[0mfreq\u001b[0m\u001b[1;33m,\u001b[0m\u001b[1;33m\u001b[0m\u001b[0m\n\u001b[0;32m    387\u001b[0m                     \u001b[0munit\u001b[0m\u001b[1;33m=\u001b[0m\u001b[0munit\u001b[0m\u001b[1;33m,\u001b[0m\u001b[1;33m\u001b[0m\u001b[0m\n\u001b[1;32m--> 388\u001b[1;33m                     \u001b[0mrequire_iso8601\u001b[0m\u001b[1;33m=\u001b[0m\u001b[0mrequire_iso8601\u001b[0m\u001b[1;33m\u001b[0m\u001b[0m\n\u001b[0m\u001b[0;32m    389\u001b[0m                 )\n\u001b[0;32m    390\u001b[0m \u001b[1;33m\u001b[0m\u001b[0m\n",
      "\u001b[1;32mpandas\\tslib.pyx\u001b[0m in \u001b[0;36mpandas.tslib.array_to_datetime (pandas\\tslib.c:39429)\u001b[1;34m()\u001b[0m\n",
      "\u001b[1;32mpandas\\tslib.pyx\u001b[0m in \u001b[0;36mpandas.tslib.array_to_datetime (pandas\\tslib.c:39110)\u001b[1;34m()\u001b[0m\n",
      "\u001b[1;32mpandas\\tslib.pyx\u001b[0m in \u001b[0;36mpandas.tslib.array_to_datetime (pandas\\tslib.c:38151)\u001b[1;34m()\u001b[0m\n",
      "\u001b[1;32mpandas\\tslib.pyx\u001b[0m in \u001b[0;36mpandas.tslib.array_to_datetime (pandas\\tslib.c:37348)\u001b[1;34m()\u001b[0m\n",
      "\u001b[1;31mTypeError\u001b[0m: unhashable type: 'list'"
     ]
    }
   ],
   "source": [
    "test['EDate'] = pd.to_datetime(test.EDate)"
   ]
  },
  {
   "cell_type": "code",
   "execution_count": 76,
   "metadata": {
    "collapsed": true
   },
   "outputs": [],
   "source": [
    "test['STime']=test.SDate.dt.time"
   ]
  },
  {
   "cell_type": "code",
   "execution_count": 77,
   "metadata": {
    "collapsed": false
   },
   "outputs": [
    {
     "data": {
      "text/html": [
       "<div>\n",
       "<table border=\"1\" class=\"dataframe\">\n",
       "  <thead>\n",
       "    <tr style=\"text-align: right;\">\n",
       "      <th></th>\n",
       "      <th>Borough</th>\n",
       "      <th>SDate</th>\n",
       "      <th>EDate</th>\n",
       "      <th>STime</th>\n",
       "    </tr>\n",
       "  </thead>\n",
       "  <tbody>\n",
       "    <tr>\n",
       "      <th>0</th>\n",
       "      <td>brooklyn</td>\n",
       "      <td>2015-12-31 23:52:18</td>\n",
       "      <td>1/1/2016   1:32:08AM</td>\n",
       "      <td>23:52:18</td>\n",
       "    </tr>\n",
       "    <tr>\n",
       "      <th>1</th>\n",
       "      <td>brooklyn</td>\n",
       "      <td>2015-12-31 17:00:43</td>\n",
       "      <td>1/2/2016   4:03:10AM</td>\n",
       "      <td>17:00:43</td>\n",
       "    </tr>\n",
       "    <tr>\n",
       "      <th>2</th>\n",
       "      <td>brooklyn</td>\n",
       "      <td>2015-12-30 13:55:21</td>\n",
       "      <td>12/30/2015   2:00:18PM</td>\n",
       "      <td>13:55:21</td>\n",
       "    </tr>\n",
       "    <tr>\n",
       "      <th>3</th>\n",
       "      <td>bronx</td>\n",
       "      <td>2015-12-29 13:57:37</td>\n",
       "      <td>12/30/2015   2:47:14AM</td>\n",
       "      <td>13:57:37</td>\n",
       "    </tr>\n",
       "    <tr>\n",
       "      <th>4</th>\n",
       "      <td>manhattan</td>\n",
       "      <td>2015-12-28 18:52:05</td>\n",
       "      <td>12/28/2015   8:40:08PM</td>\n",
       "      <td>18:52:05</td>\n",
       "    </tr>\n",
       "  </tbody>\n",
       "</table>\n",
       "</div>"
      ],
      "text/plain": [
       "     Borough               SDate                    EDate     STime\n",
       "0   brooklyn 2015-12-31 23:52:18    1/1/2016   1:32:08AM   23:52:18\n",
       "1   brooklyn 2015-12-31 17:00:43    1/2/2016   4:03:10AM   17:00:43\n",
       "2   brooklyn 2015-12-30 13:55:21  12/30/2015   2:00:18PM   13:55:21\n",
       "3      bronx 2015-12-29 13:57:37  12/30/2015   2:47:14AM   13:57:37\n",
       "4  manhattan 2015-12-28 18:52:05  12/28/2015   8:40:08PM   18:52:05"
      ]
     },
     "execution_count": 77,
     "metadata": {},
     "output_type": "execute_result"
    }
   ],
   "source": [
    "test.head()"
   ]
  },
  {
   "cell_type": "code",
   "execution_count": 78,
   "metadata": {
    "collapsed": false
   },
   "outputs": [
    {
     "data": {
      "text/html": [
       "<div>\n",
       "<table border=\"1\" class=\"dataframe\">\n",
       "  <thead>\n",
       "    <tr style=\"text-align: right;\">\n",
       "      <th></th>\n",
       "      <th>Borough</th>\n",
       "      <th>SDate</th>\n",
       "      <th>EDate</th>\n",
       "      <th>STime</th>\n",
       "    </tr>\n",
       "  </thead>\n",
       "  <tbody>\n",
       "    <tr>\n",
       "      <th>854</th>\n",
       "      <td>brooklyn</td>\n",
       "      <td>2015-02-20 16:46:00</td>\n",
       "      <td>2/20/2015  10:20:04PM</td>\n",
       "      <td>16:46:00</td>\n",
       "    </tr>\n",
       "    <tr>\n",
       "      <th>1275</th>\n",
       "      <td>manhattan</td>\n",
       "      <td>2014-08-29 14:45:23</td>\n",
       "      <td>9/9/2014   1:01:28PM</td>\n",
       "      <td>14:45:23</td>\n",
       "    </tr>\n",
       "    <tr>\n",
       "      <th>1834</th>\n",
       "      <td>manhattan</td>\n",
       "      <td>2013-12-20 10:34:06</td>\n",
       "      <td>12/20/2013  11:17:50AM</td>\n",
       "      <td>10:34:06</td>\n",
       "    </tr>\n",
       "    <tr>\n",
       "      <th>2278</th>\n",
       "      <td>bronx</td>\n",
       "      <td>2013-05-23 17:54:03</td>\n",
       "      <td>5/23/2013   6:37:40PM</td>\n",
       "      <td>17:54:03</td>\n",
       "    </tr>\n",
       "    <tr>\n",
       "      <th>758</th>\n",
       "      <td>brooklyn</td>\n",
       "      <td>2015-03-16 14:37:41</td>\n",
       "      <td>3/16/2015   4:41:22PM</td>\n",
       "      <td>14:37:41</td>\n",
       "    </tr>\n",
       "    <tr>\n",
       "      <th>137</th>\n",
       "      <td>manhattan</td>\n",
       "      <td>2015-11-07 09:36:43</td>\n",
       "      <td>11/7/2015  10:42:28AM</td>\n",
       "      <td>09:36:43</td>\n",
       "    </tr>\n",
       "    <tr>\n",
       "      <th>2217</th>\n",
       "      <td>brooklyn</td>\n",
       "      <td>2013-06-24 11:21:52</td>\n",
       "      <td>6/24/2013   1:40:22PM</td>\n",
       "      <td>11:21:52</td>\n",
       "    </tr>\n",
       "    <tr>\n",
       "      <th>811</th>\n",
       "      <td>queens</td>\n",
       "      <td>2015-03-04 08:20:38</td>\n",
       "      <td>3/6/2015  12:05:49PM</td>\n",
       "      <td>08:20:38</td>\n",
       "    </tr>\n",
       "    <tr>\n",
       "      <th>1783</th>\n",
       "      <td>brooklyn</td>\n",
       "      <td>2014-01-06 17:20:30</td>\n",
       "      <td>1/6/2014   7:12:24PM</td>\n",
       "      <td>17:20:30</td>\n",
       "    </tr>\n",
       "    <tr>\n",
       "      <th>450</th>\n",
       "      <td>bronx</td>\n",
       "      <td>2015-06-30 03:43:34</td>\n",
       "      <td>6/30/2015   5:22:00AM</td>\n",
       "      <td>03:43:34</td>\n",
       "    </tr>\n",
       "    <tr>\n",
       "      <th>779</th>\n",
       "      <td>bronx</td>\n",
       "      <td>2015-03-09 20:47:20</td>\n",
       "      <td>3/13/2015   5:39:37PM</td>\n",
       "      <td>20:47:20</td>\n",
       "    </tr>\n",
       "    <tr>\n",
       "      <th>6</th>\n",
       "      <td>queens</td>\n",
       "      <td>2015-12-27 16:47:41</td>\n",
       "      <td>12/27/2015   7:18:23PM</td>\n",
       "      <td>16:47:41</td>\n",
       "    </tr>\n",
       "    <tr>\n",
       "      <th>908</th>\n",
       "      <td>manhattan</td>\n",
       "      <td>2015-02-03 13:37:21</td>\n",
       "      <td>2/3/2015   4:08:37PM</td>\n",
       "      <td>13:37:21</td>\n",
       "    </tr>\n",
       "    <tr>\n",
       "      <th>1571</th>\n",
       "      <td>manhattan</td>\n",
       "      <td>2014-04-07 22:09:17</td>\n",
       "      <td>4/8/2014  11:36:25AM</td>\n",
       "      <td>22:09:17</td>\n",
       "    </tr>\n",
       "    <tr>\n",
       "      <th>1390</th>\n",
       "      <td>brooklyn</td>\n",
       "      <td>2014-07-03 19:48:11</td>\n",
       "      <td>7/3/2014   9:46:07PM</td>\n",
       "      <td>19:48:11</td>\n",
       "    </tr>\n",
       "    <tr>\n",
       "      <th>10</th>\n",
       "      <td>brooklyn</td>\n",
       "      <td>2015-12-24 19:00:06</td>\n",
       "      <td>12/24/2015   8:27:07PM</td>\n",
       "      <td>19:00:06</td>\n",
       "    </tr>\n",
       "    <tr>\n",
       "      <th>1585</th>\n",
       "      <td>queens</td>\n",
       "      <td>2014-04-02 22:47:08</td>\n",
       "      <td>4/3/2014   4:41:53AM</td>\n",
       "      <td>22:47:08</td>\n",
       "    </tr>\n",
       "    <tr>\n",
       "      <th>507</th>\n",
       "      <td>brooklyn</td>\n",
       "      <td>2015-06-15 19:01:43</td>\n",
       "      <td>6/16/2015   1:28:20AM</td>\n",
       "      <td>19:01:43</td>\n",
       "    </tr>\n",
       "    <tr>\n",
       "      <th>1730</th>\n",
       "      <td>manhattan</td>\n",
       "      <td>2014-01-25 10:29:52</td>\n",
       "      <td>1/25/2014   5:32:31PM</td>\n",
       "      <td>10:29:52</td>\n",
       "    </tr>\n",
       "    <tr>\n",
       "      <th>1379</th>\n",
       "      <td>manhattan</td>\n",
       "      <td>2014-07-08 08:16:44</td>\n",
       "      <td>7/8/2014   9:46:31AM</td>\n",
       "      <td>08:16:44</td>\n",
       "    </tr>\n",
       "  </tbody>\n",
       "</table>\n",
       "</div>"
      ],
      "text/plain": [
       "        Borough               SDate                    EDate     STime\n",
       "854    brooklyn 2015-02-20 16:46:00   2/20/2015  10:20:04PM   16:46:00\n",
       "1275  manhattan 2014-08-29 14:45:23    9/9/2014   1:01:28PM   14:45:23\n",
       "1834  manhattan 2013-12-20 10:34:06  12/20/2013  11:17:50AM   10:34:06\n",
       "2278      bronx 2013-05-23 17:54:03   5/23/2013   6:37:40PM   17:54:03\n",
       "758    brooklyn 2015-03-16 14:37:41   3/16/2015   4:41:22PM   14:37:41\n",
       "137   manhattan 2015-11-07 09:36:43   11/7/2015  10:42:28AM   09:36:43\n",
       "2217   brooklyn 2013-06-24 11:21:52   6/24/2013   1:40:22PM   11:21:52\n",
       "811      queens 2015-03-04 08:20:38    3/6/2015  12:05:49PM   08:20:38\n",
       "1783   brooklyn 2014-01-06 17:20:30    1/6/2014   7:12:24PM   17:20:30\n",
       "450       bronx 2015-06-30 03:43:34   6/30/2015   5:22:00AM   03:43:34\n",
       "779       bronx 2015-03-09 20:47:20   3/13/2015   5:39:37PM   20:47:20\n",
       "6        queens 2015-12-27 16:47:41  12/27/2015   7:18:23PM   16:47:41\n",
       "908   manhattan 2015-02-03 13:37:21    2/3/2015   4:08:37PM   13:37:21\n",
       "1571  manhattan 2014-04-07 22:09:17    4/8/2014  11:36:25AM   22:09:17\n",
       "1390   brooklyn 2014-07-03 19:48:11    7/3/2014   9:46:07PM   19:48:11\n",
       "10     brooklyn 2015-12-24 19:00:06  12/24/2015   8:27:07PM   19:00:06\n",
       "1585     queens 2014-04-02 22:47:08    4/3/2014   4:41:53AM   22:47:08\n",
       "507    brooklyn 2015-06-15 19:01:43   6/16/2015   1:28:20AM   19:01:43\n",
       "1730  manhattan 2014-01-25 10:29:52   1/25/2014   5:32:31PM   10:29:52\n",
       "1379  manhattan 2014-07-08 08:16:44    7/8/2014   9:46:31AM   08:16:44"
      ]
     },
     "execution_count": 78,
     "metadata": {},
     "output_type": "execute_result"
    }
   ],
   "source": [
    "test.sample(20)"
   ]
  },
  {
   "cell_type": "code",
   "execution_count": 80,
   "metadata": {
    "collapsed": false
   },
   "outputs": [
    {
     "data": {
      "text/html": [
       "<div>\n",
       "<table border=\"1\" class=\"dataframe\">\n",
       "  <thead>\n",
       "    <tr style=\"text-align: right;\">\n",
       "      <th></th>\n",
       "      <th>Borough</th>\n",
       "      <th>SDate</th>\n",
       "      <th>EDate</th>\n",
       "      <th>STime</th>\n",
       "    </tr>\n",
       "  </thead>\n",
       "  <tbody>\n",
       "    <tr>\n",
       "      <th>0</th>\n",
       "      <td>brooklyn</td>\n",
       "      <td>2015-12-31 23:52:18</td>\n",
       "      <td>1/1/2016   1:32:08AM</td>\n",
       "      <td>23:52:18</td>\n",
       "    </tr>\n",
       "    <tr>\n",
       "      <th>1</th>\n",
       "      <td>brooklyn</td>\n",
       "      <td>2015-12-31 17:00:43</td>\n",
       "      <td>1/2/2016   4:03:10AM</td>\n",
       "      <td>17:00:43</td>\n",
       "    </tr>\n",
       "    <tr>\n",
       "      <th>2</th>\n",
       "      <td>brooklyn</td>\n",
       "      <td>2015-12-30 13:55:21</td>\n",
       "      <td>12/30/2015   2:00:18PM</td>\n",
       "      <td>13:55:21</td>\n",
       "    </tr>\n",
       "    <tr>\n",
       "      <th>3</th>\n",
       "      <td>bronx</td>\n",
       "      <td>2015-12-29 13:57:37</td>\n",
       "      <td>12/30/2015   2:47:14AM</td>\n",
       "      <td>13:57:37</td>\n",
       "    </tr>\n",
       "    <tr>\n",
       "      <th>4</th>\n",
       "      <td>manhattan</td>\n",
       "      <td>2015-12-28 18:52:05</td>\n",
       "      <td>12/28/2015   8:40:08PM</td>\n",
       "      <td>18:52:05</td>\n",
       "    </tr>\n",
       "  </tbody>\n",
       "</table>\n",
       "</div>"
      ],
      "text/plain": [
       "     Borough               SDate                    EDate     STime\n",
       "0   brooklyn 2015-12-31 23:52:18    1/1/2016   1:32:08AM   23:52:18\n",
       "1   brooklyn 2015-12-31 17:00:43    1/2/2016   4:03:10AM   17:00:43\n",
       "2   brooklyn 2015-12-30 13:55:21  12/30/2015   2:00:18PM   13:55:21\n",
       "3      bronx 2015-12-29 13:57:37  12/30/2015   2:47:14AM   13:57:37\n",
       "4  manhattan 2015-12-28 18:52:05  12/28/2015   8:40:08PM   18:52:05"
      ]
     },
     "execution_count": 80,
     "metadata": {},
     "output_type": "execute_result"
    }
   ],
   "source": [
    "test.head()"
   ]
  },
  {
   "cell_type": "code",
   "execution_count": 110,
   "metadata": {
    "collapsed": false
   },
   "outputs": [],
   "source": [
    "def splitdate(x):\n",
    "    x=x.split('   ')\n",
    "    return x[-1]\n",
    "test['ETime']=responses.EDate.apply(splitdate)"
   ]
  },
  {
   "cell_type": "code",
   "execution_count": 111,
   "metadata": {
    "collapsed": false
   },
   "outputs": [
    {
     "data": {
      "text/html": [
       "<div>\n",
       "<table border=\"1\" class=\"dataframe\">\n",
       "  <thead>\n",
       "    <tr style=\"text-align: right;\">\n",
       "      <th></th>\n",
       "      <th>Borough</th>\n",
       "      <th>SDate</th>\n",
       "      <th>EDate</th>\n",
       "      <th>STime</th>\n",
       "      <th>ETime</th>\n",
       "    </tr>\n",
       "  </thead>\n",
       "  <tbody>\n",
       "    <tr>\n",
       "      <th>0</th>\n",
       "      <td>brooklyn</td>\n",
       "      <td>2015-12-31 23:52:18</td>\n",
       "      <td>1/1/2016   1:32:08AM</td>\n",
       "      <td>23:52:18</td>\n",
       "      <td>1:32:08AM</td>\n",
       "    </tr>\n",
       "    <tr>\n",
       "      <th>1</th>\n",
       "      <td>brooklyn</td>\n",
       "      <td>2015-12-31 17:00:43</td>\n",
       "      <td>1/2/2016   4:03:10AM</td>\n",
       "      <td>17:00:43</td>\n",
       "      <td>4:03:10AM</td>\n",
       "    </tr>\n",
       "    <tr>\n",
       "      <th>2</th>\n",
       "      <td>brooklyn</td>\n",
       "      <td>2015-12-30 13:55:21</td>\n",
       "      <td>12/30/2015   2:00:18PM</td>\n",
       "      <td>13:55:21</td>\n",
       "      <td>2:00:18PM</td>\n",
       "    </tr>\n",
       "    <tr>\n",
       "      <th>3</th>\n",
       "      <td>bronx</td>\n",
       "      <td>2015-12-29 13:57:37</td>\n",
       "      <td>12/30/2015   2:47:14AM</td>\n",
       "      <td>13:57:37</td>\n",
       "      <td>2:47:14AM</td>\n",
       "    </tr>\n",
       "    <tr>\n",
       "      <th>4</th>\n",
       "      <td>manhattan</td>\n",
       "      <td>2015-12-28 18:52:05</td>\n",
       "      <td>12/28/2015   8:40:08PM</td>\n",
       "      <td>18:52:05</td>\n",
       "      <td>8:40:08PM</td>\n",
       "    </tr>\n",
       "  </tbody>\n",
       "</table>\n",
       "</div>"
      ],
      "text/plain": [
       "     Borough               SDate                    EDate     STime  \\\n",
       "0   brooklyn 2015-12-31 23:52:18    1/1/2016   1:32:08AM   23:52:18   \n",
       "1   brooklyn 2015-12-31 17:00:43    1/2/2016   4:03:10AM   17:00:43   \n",
       "2   brooklyn 2015-12-30 13:55:21  12/30/2015   2:00:18PM   13:55:21   \n",
       "3      bronx 2015-12-29 13:57:37  12/30/2015   2:47:14AM   13:57:37   \n",
       "4  manhattan 2015-12-28 18:52:05  12/28/2015   8:40:08PM   18:52:05   \n",
       "\n",
       "        ETime  \n",
       "0  1:32:08AM   \n",
       "1  4:03:10AM   \n",
       "2  2:00:18PM   \n",
       "3  2:47:14AM   \n",
       "4  8:40:08PM   "
      ]
     },
     "execution_count": 111,
     "metadata": {},
     "output_type": "execute_result"
    }
   ],
   "source": [
    "test.head()"
   ]
  },
  {
   "cell_type": "code",
   "execution_count": 121,
   "metadata": {
    "collapsed": false
   },
   "outputs": [
    {
     "name": "stdout",
     "output_type": "stream",
     "text": [
      "<class 'pandas.core.frame.DataFrame'>\n",
      "RangeIndex: 2524 entries, 0 to 2523\n",
      "Data columns (total 5 columns):\n",
      "Borough    2524 non-null object\n",
      "SDate      2524 non-null datetime64[ns]\n",
      "EDate      2524 non-null object\n",
      "STime      2524 non-null object\n",
      "ETime      2524 non-null object\n",
      "dtypes: datetime64[ns](1), object(4)\n",
      "memory usage: 98.7+ KB\n"
     ]
    }
   ],
   "source": [
    "test.info()"
   ]
  },
  {
   "cell_type": "code",
   "execution_count": 136,
   "metadata": {
    "collapsed": false
   },
   "outputs": [
    {
     "ename": "ValueError",
     "evalue": "unconverted data remains:  ",
     "output_type": "error",
     "traceback": [
      "\u001b[1;31m---------------------------------------------------------------------------\u001b[0m",
      "\u001b[1;31mValueError\u001b[0m                                Traceback (most recent call last)",
      "\u001b[1;32m<ipython-input-136-f4929f050c49>\u001b[0m in \u001b[0;36m<module>\u001b[1;34m()\u001b[0m\n\u001b[1;32m----> 1\u001b[1;33m \u001b[0mtest\u001b[0m\u001b[1;33m.\u001b[0m\u001b[0mEDate\u001b[0m \u001b[1;33m=\u001b[0m \u001b[0mpd\u001b[0m\u001b[1;33m.\u001b[0m\u001b[0mto_datetime\u001b[0m\u001b[1;33m(\u001b[0m\u001b[0mtest\u001b[0m\u001b[1;33m.\u001b[0m\u001b[0mEDate\u001b[0m\u001b[1;33m,\u001b[0m\u001b[0mformat\u001b[0m\u001b[1;33m=\u001b[0m\u001b[1;34m'%m/%d/%Y %I:%M:%S%p'\u001b[0m\u001b[1;33m)\u001b[0m\u001b[1;33m\u001b[0m\u001b[0m\n\u001b[0m",
      "\u001b[1;32mC:\\Users\\amuthiyan\\Anaconda2\\lib\\site-packages\\pandas\\util\\decorators.pyc\u001b[0m in \u001b[0;36mwrapper\u001b[1;34m(*args, **kwargs)\u001b[0m\n\u001b[0;32m     89\u001b[0m                 \u001b[1;32melse\u001b[0m\u001b[1;33m:\u001b[0m\u001b[1;33m\u001b[0m\u001b[0m\n\u001b[0;32m     90\u001b[0m                     \u001b[0mkwargs\u001b[0m\u001b[1;33m[\u001b[0m\u001b[0mnew_arg_name\u001b[0m\u001b[1;33m]\u001b[0m \u001b[1;33m=\u001b[0m \u001b[0mnew_arg_value\u001b[0m\u001b[1;33m\u001b[0m\u001b[0m\n\u001b[1;32m---> 91\u001b[1;33m             \u001b[1;32mreturn\u001b[0m \u001b[0mfunc\u001b[0m\u001b[1;33m(\u001b[0m\u001b[1;33m*\u001b[0m\u001b[0margs\u001b[0m\u001b[1;33m,\u001b[0m \u001b[1;33m**\u001b[0m\u001b[0mkwargs\u001b[0m\u001b[1;33m)\u001b[0m\u001b[1;33m\u001b[0m\u001b[0m\n\u001b[0m\u001b[0;32m     92\u001b[0m         \u001b[1;32mreturn\u001b[0m \u001b[0mwrapper\u001b[0m\u001b[1;33m\u001b[0m\u001b[0m\n\u001b[0;32m     93\u001b[0m     \u001b[1;32mreturn\u001b[0m \u001b[0m_deprecate_kwarg\u001b[0m\u001b[1;33m\u001b[0m\u001b[0m\n",
      "\u001b[1;32mC:\\Users\\amuthiyan\\Anaconda2\\lib\\site-packages\\pandas\\tseries\\tools.pyc\u001b[0m in \u001b[0;36mto_datetime\u001b[1;34m(arg, errors, dayfirst, yearfirst, utc, box, format, exact, coerce, unit, infer_datetime_format)\u001b[0m\n\u001b[0;32m    285\u001b[0m                         \u001b[0myearfirst\u001b[0m\u001b[1;33m=\u001b[0m\u001b[0myearfirst\u001b[0m\u001b[1;33m,\u001b[0m\u001b[1;33m\u001b[0m\u001b[0m\n\u001b[0;32m    286\u001b[0m                         \u001b[0mutc\u001b[0m\u001b[1;33m=\u001b[0m\u001b[0mutc\u001b[0m\u001b[1;33m,\u001b[0m \u001b[0mbox\u001b[0m\u001b[1;33m=\u001b[0m\u001b[0mbox\u001b[0m\u001b[1;33m,\u001b[0m \u001b[0mformat\u001b[0m\u001b[1;33m=\u001b[0m\u001b[0mformat\u001b[0m\u001b[1;33m,\u001b[0m \u001b[0mexact\u001b[0m\u001b[1;33m=\u001b[0m\u001b[0mexact\u001b[0m\u001b[1;33m,\u001b[0m\u001b[1;33m\u001b[0m\u001b[0m\n\u001b[1;32m--> 287\u001b[1;33m                         unit=unit, infer_datetime_format=infer_datetime_format)\n\u001b[0m\u001b[0;32m    288\u001b[0m \u001b[1;33m\u001b[0m\u001b[0m\n\u001b[0;32m    289\u001b[0m \u001b[1;33m\u001b[0m\u001b[0m\n",
      "\u001b[1;32mC:\\Users\\amuthiyan\\Anaconda2\\lib\\site-packages\\pandas\\tseries\\tools.pyc\u001b[0m in \u001b[0;36m_to_datetime\u001b[1;34m(arg, errors, dayfirst, yearfirst, utc, box, format, exact, unit, freq, infer_datetime_format)\u001b[0m\n\u001b[0;32m    407\u001b[0m         \u001b[1;32mreturn\u001b[0m \u001b[0marg\u001b[0m\u001b[1;33m\u001b[0m\u001b[0m\n\u001b[0;32m    408\u001b[0m     \u001b[1;32melif\u001b[0m \u001b[0misinstance\u001b[0m\u001b[1;33m(\u001b[0m\u001b[0marg\u001b[0m\u001b[1;33m,\u001b[0m \u001b[0mSeries\u001b[0m\u001b[1;33m)\u001b[0m\u001b[1;33m:\u001b[0m\u001b[1;33m\u001b[0m\u001b[0m\n\u001b[1;32m--> 409\u001b[1;33m         \u001b[0mvalues\u001b[0m \u001b[1;33m=\u001b[0m \u001b[0m_convert_listlike\u001b[0m\u001b[1;33m(\u001b[0m\u001b[0marg\u001b[0m\u001b[1;33m.\u001b[0m\u001b[0m_values\u001b[0m\u001b[1;33m,\u001b[0m \u001b[0mFalse\u001b[0m\u001b[1;33m,\u001b[0m \u001b[0mformat\u001b[0m\u001b[1;33m)\u001b[0m\u001b[1;33m\u001b[0m\u001b[0m\n\u001b[0m\u001b[0;32m    410\u001b[0m         \u001b[1;32mreturn\u001b[0m \u001b[0mSeries\u001b[0m\u001b[1;33m(\u001b[0m\u001b[0mvalues\u001b[0m\u001b[1;33m,\u001b[0m \u001b[0mindex\u001b[0m\u001b[1;33m=\u001b[0m\u001b[0marg\u001b[0m\u001b[1;33m.\u001b[0m\u001b[0mindex\u001b[0m\u001b[1;33m,\u001b[0m \u001b[0mname\u001b[0m\u001b[1;33m=\u001b[0m\u001b[0marg\u001b[0m\u001b[1;33m.\u001b[0m\u001b[0mname\u001b[0m\u001b[1;33m)\u001b[0m\u001b[1;33m\u001b[0m\u001b[0m\n\u001b[0;32m    411\u001b[0m     \u001b[1;32melif\u001b[0m \u001b[0misinstance\u001b[0m\u001b[1;33m(\u001b[0m\u001b[0marg\u001b[0m\u001b[1;33m,\u001b[0m \u001b[0mABCIndexClass\u001b[0m\u001b[1;33m)\u001b[0m\u001b[1;33m:\u001b[0m\u001b[1;33m\u001b[0m\u001b[0m\n",
      "\u001b[1;32mC:\\Users\\amuthiyan\\Anaconda2\\lib\\site-packages\\pandas\\tseries\\tools.pyc\u001b[0m in \u001b[0;36m_convert_listlike\u001b[1;34m(arg, box, format, name)\u001b[0m\n\u001b[0;32m    400\u001b[0m                 \u001b[1;32mreturn\u001b[0m \u001b[0mDatetimeIndex\u001b[0m\u001b[1;33m.\u001b[0m\u001b[0m_simple_new\u001b[0m\u001b[1;33m(\u001b[0m\u001b[0mvalues\u001b[0m\u001b[1;33m,\u001b[0m \u001b[0mname\u001b[0m\u001b[1;33m=\u001b[0m\u001b[0mname\u001b[0m\u001b[1;33m,\u001b[0m \u001b[0mtz\u001b[0m\u001b[1;33m=\u001b[0m\u001b[0mtz\u001b[0m\u001b[1;33m)\u001b[0m\u001b[1;33m\u001b[0m\u001b[0m\n\u001b[0;32m    401\u001b[0m             \u001b[1;32mexcept\u001b[0m \u001b[1;33m(\u001b[0m\u001b[0mValueError\u001b[0m\u001b[1;33m,\u001b[0m \u001b[0mTypeError\u001b[0m\u001b[1;33m)\u001b[0m\u001b[1;33m:\u001b[0m\u001b[1;33m\u001b[0m\u001b[0m\n\u001b[1;32m--> 402\u001b[1;33m                 \u001b[1;32mraise\u001b[0m \u001b[0me\u001b[0m\u001b[1;33m\u001b[0m\u001b[0m\n\u001b[0m\u001b[0;32m    403\u001b[0m \u001b[1;33m\u001b[0m\u001b[0m\n\u001b[0;32m    404\u001b[0m     \u001b[1;32mif\u001b[0m \u001b[0marg\u001b[0m \u001b[1;32mis\u001b[0m \u001b[0mNone\u001b[0m\u001b[1;33m:\u001b[0m\u001b[1;33m\u001b[0m\u001b[0m\n",
      "\u001b[1;31mValueError\u001b[0m: unconverted data remains:  "
     ]
    }
   ],
   "source": [
    "test.EDate = pd.to_datetime(test.EDate,format='%m/%d/%Y %I:%M:%S%p')"
   ]
  },
  {
   "cell_type": "code",
   "execution_count": 133,
   "metadata": {
    "collapsed": false
   },
   "outputs": [
    {
     "data": {
      "text/plain": [
       "0    21\n",
       "1    21\n",
       "2    23\n",
       "3    23\n",
       "4    23\n",
       "Name: EDate, dtype: int64"
      ]
     },
     "execution_count": 133,
     "metadata": {},
     "output_type": "execute_result"
    }
   ],
   "source": [
    "test.EDate.apply(lambda x: len(x)).head()"
   ]
  },
  {
   "cell_type": "code",
   "execution_count": 134,
   "metadata": {
    "collapsed": false
   },
   "outputs": [
    {
     "data": {
      "text/plain": [
       "0      1/1/2016   1:32:08AM \n",
       "1      1/2/2016   4:03:10AM \n",
       "2    12/30/2015   2:00:18PM \n",
       "3    12/30/2015   2:47:14AM \n",
       "4    12/28/2015   8:40:08PM \n",
       "Name: EDate, dtype: object"
      ]
     },
     "execution_count": 134,
     "metadata": {},
     "output_type": "execute_result"
    }
   ],
   "source": [
    "test.EDate.head()"
   ]
  },
  {
   "cell_type": "code",
   "execution_count": 138,
   "metadata": {
    "collapsed": true
   },
   "outputs": [],
   "source": [
    "import datetime as dt"
   ]
  },
  {
   "cell_type": "code",
   "execution_count": 139,
   "metadata": {
    "collapsed": false
   },
   "outputs": [],
   "source": [
    "now = dt.datetime.now()"
   ]
  },
  {
   "cell_type": "code",
   "execution_count": 140,
   "metadata": {
    "collapsed": false
   },
   "outputs": [
    {
     "data": {
      "text/plain": [
       "datetime.datetime(2016, 6, 3, 12, 16, 46, 876000)"
      ]
     },
     "execution_count": 140,
     "metadata": {},
     "output_type": "execute_result"
    }
   ],
   "source": [
    "now"
   ]
  },
  {
   "cell_type": "code",
   "execution_count": 141,
   "metadata": {
    "collapsed": false
   },
   "outputs": [
    {
     "data": {
      "text/html": [
       "<div>\n",
       "<table border=\"1\" class=\"dataframe\">\n",
       "  <thead>\n",
       "    <tr style=\"text-align: right;\">\n",
       "      <th></th>\n",
       "      <th>Borough</th>\n",
       "      <th>SDate</th>\n",
       "      <th>EDate</th>\n",
       "      <th>STime</th>\n",
       "      <th>ETime</th>\n",
       "    </tr>\n",
       "  </thead>\n",
       "  <tbody>\n",
       "    <tr>\n",
       "      <th>0</th>\n",
       "      <td>brooklyn</td>\n",
       "      <td>2015-12-31 23:52:18</td>\n",
       "      <td>1/1/2016   1:32:08AM</td>\n",
       "      <td>23:52:18</td>\n",
       "      <td>1:32:08AM</td>\n",
       "    </tr>\n",
       "    <tr>\n",
       "      <th>1</th>\n",
       "      <td>brooklyn</td>\n",
       "      <td>2015-12-31 17:00:43</td>\n",
       "      <td>1/2/2016   4:03:10AM</td>\n",
       "      <td>17:00:43</td>\n",
       "      <td>4:03:10AM</td>\n",
       "    </tr>\n",
       "    <tr>\n",
       "      <th>2</th>\n",
       "      <td>brooklyn</td>\n",
       "      <td>2015-12-30 13:55:21</td>\n",
       "      <td>12/30/2015   2:00:18PM</td>\n",
       "      <td>13:55:21</td>\n",
       "      <td>2:00:18PM</td>\n",
       "    </tr>\n",
       "    <tr>\n",
       "      <th>3</th>\n",
       "      <td>bronx</td>\n",
       "      <td>2015-12-29 13:57:37</td>\n",
       "      <td>12/30/2015   2:47:14AM</td>\n",
       "      <td>13:57:37</td>\n",
       "      <td>2:47:14AM</td>\n",
       "    </tr>\n",
       "    <tr>\n",
       "      <th>4</th>\n",
       "      <td>manhattan</td>\n",
       "      <td>2015-12-28 18:52:05</td>\n",
       "      <td>12/28/2015   8:40:08PM</td>\n",
       "      <td>18:52:05</td>\n",
       "      <td>8:40:08PM</td>\n",
       "    </tr>\n",
       "  </tbody>\n",
       "</table>\n",
       "</div>"
      ],
      "text/plain": [
       "     Borough               SDate                    EDate     STime  \\\n",
       "0   brooklyn 2015-12-31 23:52:18    1/1/2016   1:32:08AM   23:52:18   \n",
       "1   brooklyn 2015-12-31 17:00:43    1/2/2016   4:03:10AM   17:00:43   \n",
       "2   brooklyn 2015-12-30 13:55:21  12/30/2015   2:00:18PM   13:55:21   \n",
       "3      bronx 2015-12-29 13:57:37  12/30/2015   2:47:14AM   13:57:37   \n",
       "4  manhattan 2015-12-28 18:52:05  12/28/2015   8:40:08PM   18:52:05   \n",
       "\n",
       "        ETime  \n",
       "0  1:32:08AM   \n",
       "1  4:03:10AM   \n",
       "2  2:00:18PM   \n",
       "3  2:47:14AM   \n",
       "4  8:40:08PM   "
      ]
     },
     "execution_count": 141,
     "metadata": {},
     "output_type": "execute_result"
    }
   ],
   "source": [
    "test.head()"
   ]
  },
  {
   "cell_type": "code",
   "execution_count": 142,
   "metadata": {
    "collapsed": true
   },
   "outputs": [],
   "source": [
    "del test['ETime']"
   ]
  },
  {
   "cell_type": "code",
   "execution_count": 143,
   "metadata": {
    "collapsed": false
   },
   "outputs": [
    {
     "data": {
      "text/html": [
       "<div>\n",
       "<table border=\"1\" class=\"dataframe\">\n",
       "  <thead>\n",
       "    <tr style=\"text-align: right;\">\n",
       "      <th></th>\n",
       "      <th>Borough</th>\n",
       "      <th>SDate</th>\n",
       "      <th>EDate</th>\n",
       "      <th>STime</th>\n",
       "    </tr>\n",
       "  </thead>\n",
       "  <tbody>\n",
       "    <tr>\n",
       "      <th>0</th>\n",
       "      <td>brooklyn</td>\n",
       "      <td>2015-12-31 23:52:18</td>\n",
       "      <td>1/1/2016   1:32:08AM</td>\n",
       "      <td>23:52:18</td>\n",
       "    </tr>\n",
       "    <tr>\n",
       "      <th>1</th>\n",
       "      <td>brooklyn</td>\n",
       "      <td>2015-12-31 17:00:43</td>\n",
       "      <td>1/2/2016   4:03:10AM</td>\n",
       "      <td>17:00:43</td>\n",
       "    </tr>\n",
       "    <tr>\n",
       "      <th>2</th>\n",
       "      <td>brooklyn</td>\n",
       "      <td>2015-12-30 13:55:21</td>\n",
       "      <td>12/30/2015   2:00:18PM</td>\n",
       "      <td>13:55:21</td>\n",
       "    </tr>\n",
       "    <tr>\n",
       "      <th>3</th>\n",
       "      <td>bronx</td>\n",
       "      <td>2015-12-29 13:57:37</td>\n",
       "      <td>12/30/2015   2:47:14AM</td>\n",
       "      <td>13:57:37</td>\n",
       "    </tr>\n",
       "    <tr>\n",
       "      <th>4</th>\n",
       "      <td>manhattan</td>\n",
       "      <td>2015-12-28 18:52:05</td>\n",
       "      <td>12/28/2015   8:40:08PM</td>\n",
       "      <td>18:52:05</td>\n",
       "    </tr>\n",
       "  </tbody>\n",
       "</table>\n",
       "</div>"
      ],
      "text/plain": [
       "     Borough               SDate                    EDate     STime\n",
       "0   brooklyn 2015-12-31 23:52:18    1/1/2016   1:32:08AM   23:52:18\n",
       "1   brooklyn 2015-12-31 17:00:43    1/2/2016   4:03:10AM   17:00:43\n",
       "2   brooklyn 2015-12-30 13:55:21  12/30/2015   2:00:18PM   13:55:21\n",
       "3      bronx 2015-12-29 13:57:37  12/30/2015   2:47:14AM   13:57:37\n",
       "4  manhattan 2015-12-28 18:52:05  12/28/2015   8:40:08PM   18:52:05"
      ]
     },
     "execution_count": 143,
     "metadata": {},
     "output_type": "execute_result"
    }
   ],
   "source": [
    "test.head()"
   ]
  },
  {
   "cell_type": "code",
   "execution_count": 144,
   "metadata": {
    "collapsed": true
   },
   "outputs": [],
   "source": [
    "now = str(now)"
   ]
  },
  {
   "cell_type": "code",
   "execution_count": 145,
   "metadata": {
    "collapsed": false
   },
   "outputs": [
    {
     "data": {
      "text/plain": [
       "'2016-06-03 12:16:46.876000'"
      ]
     },
     "execution_count": 145,
     "metadata": {},
     "output_type": "execute_result"
    }
   ],
   "source": [
    "now"
   ]
  },
  {
   "cell_type": "code",
   "execution_count": 148,
   "metadata": {
    "collapsed": false
   },
   "outputs": [],
   "source": [
    "test['EDate']=test.EDate.apply(lambda x:x if x!='Active' else now)"
   ]
  },
  {
   "cell_type": "code",
   "execution_count": 149,
   "metadata": {
    "collapsed": true
   },
   "outputs": [],
   "source": [
    "test['EDate']=pd.to_datetime(test.EDate)"
   ]
  },
  {
   "cell_type": "code",
   "execution_count": 150,
   "metadata": {
    "collapsed": false
   },
   "outputs": [
    {
     "name": "stdout",
     "output_type": "stream",
     "text": [
      "<class 'pandas.core.frame.DataFrame'>\n",
      "RangeIndex: 2524 entries, 0 to 2523\n",
      "Data columns (total 4 columns):\n",
      "Borough    2524 non-null object\n",
      "SDate      2524 non-null datetime64[ns]\n",
      "EDate      2524 non-null datetime64[ns]\n",
      "STime      2524 non-null object\n",
      "dtypes: datetime64[ns](2), object(2)\n",
      "memory usage: 78.9+ KB\n"
     ]
    }
   ],
   "source": [
    "test.info()"
   ]
  },
  {
   "cell_type": "code",
   "execution_count": 153,
   "metadata": {
    "collapsed": true
   },
   "outputs": [],
   "source": [
    "test['numDays']=abs(test['SDate']-test['EDate'])"
   ]
  },
  {
   "cell_type": "code",
   "execution_count": 154,
   "metadata": {
    "collapsed": false
   },
   "outputs": [
    {
     "data": {
      "text/html": [
       "<div>\n",
       "<table border=\"1\" class=\"dataframe\">\n",
       "  <thead>\n",
       "    <tr style=\"text-align: right;\">\n",
       "      <th></th>\n",
       "      <th>Borough</th>\n",
       "      <th>SDate</th>\n",
       "      <th>EDate</th>\n",
       "      <th>STime</th>\n",
       "      <th>numDays</th>\n",
       "    </tr>\n",
       "  </thead>\n",
       "  <tbody>\n",
       "    <tr>\n",
       "      <th>0</th>\n",
       "      <td>brooklyn</td>\n",
       "      <td>2015-12-31 23:52:18</td>\n",
       "      <td>2016-01-01 01:32:08</td>\n",
       "      <td>23:52:18</td>\n",
       "      <td>0 days 01:39:50</td>\n",
       "    </tr>\n",
       "    <tr>\n",
       "      <th>1</th>\n",
       "      <td>brooklyn</td>\n",
       "      <td>2015-12-31 17:00:43</td>\n",
       "      <td>2016-01-02 04:03:10</td>\n",
       "      <td>17:00:43</td>\n",
       "      <td>1 days 11:02:27</td>\n",
       "    </tr>\n",
       "    <tr>\n",
       "      <th>2</th>\n",
       "      <td>brooklyn</td>\n",
       "      <td>2015-12-30 13:55:21</td>\n",
       "      <td>2015-12-30 14:00:18</td>\n",
       "      <td>13:55:21</td>\n",
       "      <td>0 days 00:04:57</td>\n",
       "    </tr>\n",
       "    <tr>\n",
       "      <th>3</th>\n",
       "      <td>bronx</td>\n",
       "      <td>2015-12-29 13:57:37</td>\n",
       "      <td>2015-12-30 02:47:14</td>\n",
       "      <td>13:57:37</td>\n",
       "      <td>0 days 12:49:37</td>\n",
       "    </tr>\n",
       "    <tr>\n",
       "      <th>4</th>\n",
       "      <td>manhattan</td>\n",
       "      <td>2015-12-28 18:52:05</td>\n",
       "      <td>2015-12-28 20:40:08</td>\n",
       "      <td>18:52:05</td>\n",
       "      <td>0 days 01:48:03</td>\n",
       "    </tr>\n",
       "  </tbody>\n",
       "</table>\n",
       "</div>"
      ],
      "text/plain": [
       "     Borough               SDate               EDate     STime         numDays\n",
       "0   brooklyn 2015-12-31 23:52:18 2016-01-01 01:32:08  23:52:18 0 days 01:39:50\n",
       "1   brooklyn 2015-12-31 17:00:43 2016-01-02 04:03:10  17:00:43 1 days 11:02:27\n",
       "2   brooklyn 2015-12-30 13:55:21 2015-12-30 14:00:18  13:55:21 0 days 00:04:57\n",
       "3      bronx 2015-12-29 13:57:37 2015-12-30 02:47:14  13:57:37 0 days 12:49:37\n",
       "4  manhattan 2015-12-28 18:52:05 2015-12-28 20:40:08  18:52:05 0 days 01:48:03"
      ]
     },
     "execution_count": 154,
     "metadata": {},
     "output_type": "execute_result"
    }
   ],
   "source": [
    "test.head()"
   ]
  },
  {
   "cell_type": "code",
   "execution_count": 171,
   "metadata": {
    "collapsed": false
   },
   "outputs": [
    {
     "data": {
      "text/html": [
       "<div>\n",
       "<table border=\"1\" class=\"dataframe\">\n",
       "  <thead>\n",
       "    <tr style=\"text-align: right;\">\n",
       "      <th></th>\n",
       "      <th>Borough</th>\n",
       "      <th>SDate</th>\n",
       "      <th>EDate</th>\n",
       "      <th>STime</th>\n",
       "      <th>numDays</th>\n",
       "    </tr>\n",
       "  </thead>\n",
       "  <tbody>\n",
       "    <tr>\n",
       "      <th>0</th>\n",
       "      <td>brooklyn</td>\n",
       "      <td>2015-12-31 23:52:18</td>\n",
       "      <td>2016-01-01 01:32:08</td>\n",
       "      <td>23:52:18</td>\n",
       "      <td>0 days 01:39:50</td>\n",
       "    </tr>\n",
       "    <tr>\n",
       "      <th>1</th>\n",
       "      <td>brooklyn</td>\n",
       "      <td>2015-12-31 17:00:43</td>\n",
       "      <td>2016-01-02 04:03:10</td>\n",
       "      <td>17:00:43</td>\n",
       "      <td>1 days 11:02:27</td>\n",
       "    </tr>\n",
       "    <tr>\n",
       "      <th>2</th>\n",
       "      <td>brooklyn</td>\n",
       "      <td>2015-12-30 13:55:21</td>\n",
       "      <td>2015-12-30 14:00:18</td>\n",
       "      <td>13:55:21</td>\n",
       "      <td>0 days 00:04:57</td>\n",
       "    </tr>\n",
       "    <tr>\n",
       "      <th>3</th>\n",
       "      <td>bronx</td>\n",
       "      <td>2015-12-29 13:57:37</td>\n",
       "      <td>2015-12-30 02:47:14</td>\n",
       "      <td>13:57:37</td>\n",
       "      <td>0 days 12:49:37</td>\n",
       "    </tr>\n",
       "    <tr>\n",
       "      <th>4</th>\n",
       "      <td>manhattan</td>\n",
       "      <td>2015-12-28 18:52:05</td>\n",
       "      <td>2015-12-28 20:40:08</td>\n",
       "      <td>18:52:05</td>\n",
       "      <td>0 days 01:48:03</td>\n",
       "    </tr>\n",
       "  </tbody>\n",
       "</table>\n",
       "</div>"
      ],
      "text/plain": [
       "     Borough               SDate               EDate     STime         numDays\n",
       "0   brooklyn 2015-12-31 23:52:18 2016-01-01 01:32:08  23:52:18 0 days 01:39:50\n",
       "1   brooklyn 2015-12-31 17:00:43 2016-01-02 04:03:10  17:00:43 1 days 11:02:27\n",
       "2   brooklyn 2015-12-30 13:55:21 2015-12-30 14:00:18  13:55:21 0 days 00:04:57\n",
       "3      bronx 2015-12-29 13:57:37 2015-12-30 02:47:14  13:57:37 0 days 12:49:37\n",
       "4  manhattan 2015-12-28 18:52:05 2015-12-28 20:40:08  18:52:05 0 days 01:48:03"
      ]
     },
     "execution_count": 171,
     "metadata": {},
     "output_type": "execute_result"
    }
   ],
   "source": [
    "test.head()"
   ]
  },
  {
   "cell_type": "code",
   "execution_count": 172,
   "metadata": {
    "collapsed": true
   },
   "outputs": [],
   "source": [
    "test['numDays']= pd.to_timedelta(test.numDays)"
   ]
  },
  {
   "cell_type": "code",
   "execution_count": 173,
   "metadata": {
    "collapsed": false
   },
   "outputs": [
    {
     "data": {
      "text/html": [
       "<div>\n",
       "<table border=\"1\" class=\"dataframe\">\n",
       "  <thead>\n",
       "    <tr style=\"text-align: right;\">\n",
       "      <th></th>\n",
       "      <th>Borough</th>\n",
       "      <th>SDate</th>\n",
       "      <th>EDate</th>\n",
       "      <th>STime</th>\n",
       "      <th>numDays</th>\n",
       "    </tr>\n",
       "  </thead>\n",
       "  <tbody>\n",
       "    <tr>\n",
       "      <th>0</th>\n",
       "      <td>brooklyn</td>\n",
       "      <td>2015-12-31 23:52:18</td>\n",
       "      <td>2016-01-01 01:32:08</td>\n",
       "      <td>23:52:18</td>\n",
       "      <td>0 days 01:39:50</td>\n",
       "    </tr>\n",
       "    <tr>\n",
       "      <th>1</th>\n",
       "      <td>brooklyn</td>\n",
       "      <td>2015-12-31 17:00:43</td>\n",
       "      <td>2016-01-02 04:03:10</td>\n",
       "      <td>17:00:43</td>\n",
       "      <td>1 days 11:02:27</td>\n",
       "    </tr>\n",
       "    <tr>\n",
       "      <th>2</th>\n",
       "      <td>brooklyn</td>\n",
       "      <td>2015-12-30 13:55:21</td>\n",
       "      <td>2015-12-30 14:00:18</td>\n",
       "      <td>13:55:21</td>\n",
       "      <td>0 days 00:04:57</td>\n",
       "    </tr>\n",
       "    <tr>\n",
       "      <th>3</th>\n",
       "      <td>bronx</td>\n",
       "      <td>2015-12-29 13:57:37</td>\n",
       "      <td>2015-12-30 02:47:14</td>\n",
       "      <td>13:57:37</td>\n",
       "      <td>0 days 12:49:37</td>\n",
       "    </tr>\n",
       "    <tr>\n",
       "      <th>4</th>\n",
       "      <td>manhattan</td>\n",
       "      <td>2015-12-28 18:52:05</td>\n",
       "      <td>2015-12-28 20:40:08</td>\n",
       "      <td>18:52:05</td>\n",
       "      <td>0 days 01:48:03</td>\n",
       "    </tr>\n",
       "  </tbody>\n",
       "</table>\n",
       "</div>"
      ],
      "text/plain": [
       "     Borough               SDate               EDate     STime         numDays\n",
       "0   brooklyn 2015-12-31 23:52:18 2016-01-01 01:32:08  23:52:18 0 days 01:39:50\n",
       "1   brooklyn 2015-12-31 17:00:43 2016-01-02 04:03:10  17:00:43 1 days 11:02:27\n",
       "2   brooklyn 2015-12-30 13:55:21 2015-12-30 14:00:18  13:55:21 0 days 00:04:57\n",
       "3      bronx 2015-12-29 13:57:37 2015-12-30 02:47:14  13:57:37 0 days 12:49:37\n",
       "4  manhattan 2015-12-28 18:52:05 2015-12-28 20:40:08  18:52:05 0 days 01:48:03"
      ]
     },
     "execution_count": 173,
     "metadata": {},
     "output_type": "execute_result"
    }
   ],
   "source": [
    "test.head()"
   ]
  },
  {
   "cell_type": "code",
   "execution_count": 174,
   "metadata": {
    "collapsed": false
   },
   "outputs": [
    {
     "name": "stdout",
     "output_type": "stream",
     "text": [
      "<class 'pandas.core.frame.DataFrame'>\n",
      "RangeIndex: 2524 entries, 0 to 2523\n",
      "Data columns (total 5 columns):\n",
      "Borough    2524 non-null object\n",
      "SDate      2524 non-null datetime64[ns]\n",
      "EDate      2524 non-null datetime64[ns]\n",
      "STime      2524 non-null object\n",
      "numDays    2524 non-null timedelta64[ns]\n",
      "dtypes: datetime64[ns](2), object(2), timedelta64[ns](1)\n",
      "memory usage: 98.7+ KB\n"
     ]
    }
   ],
   "source": [
    "test.info()"
   ]
  },
  {
   "cell_type": "code",
   "execution_count": 175,
   "metadata": {
    "collapsed": false
   },
   "outputs": [
    {
     "ename": "ValueError",
     "evalue": "Value must be Timedelta, string, integer, float, timedelta or convertible",
     "output_type": "error",
     "traceback": [
      "\u001b[1;31m---------------------------------------------------------------------------\u001b[0m",
      "\u001b[1;31mValueError\u001b[0m                                Traceback (most recent call last)",
      "\u001b[1;32m<ipython-input-175-c01fe8ef9673>\u001b[0m in \u001b[0;36m<module>\u001b[1;34m()\u001b[0m\n\u001b[1;32m----> 1\u001b[1;33m \u001b[0mtest\u001b[0m\u001b[1;33m[\u001b[0m\u001b[1;34m'numDays'\u001b[0m\u001b[1;33m]\u001b[0m\u001b[1;33m=\u001b[0m\u001b[0mpd\u001b[0m\u001b[1;33m.\u001b[0m\u001b[0mTimedelta\u001b[0m\u001b[1;33m(\u001b[0m\u001b[0mtest\u001b[0m\u001b[1;33m.\u001b[0m\u001b[0mnumDays\u001b[0m\u001b[1;33m)\u001b[0m\u001b[1;33m.\u001b[0m\u001b[0mdays\u001b[0m\u001b[1;33m\u001b[0m\u001b[0m\n\u001b[0m",
      "\u001b[1;32mpandas\\tslib.pyx\u001b[0m in \u001b[0;36mpandas.tslib.Timedelta.__new__ (pandas\\tslib.c:43618)\u001b[1;34m()\u001b[0m\n",
      "\u001b[1;31mValueError\u001b[0m: Value must be Timedelta, string, integer, float, timedelta or convertible"
     ]
    }
   ],
   "source": [
    "test['numDays']=pd.Timedelta(test.numDays).days"
   ]
  },
  {
   "cell_type": "code",
   "execution_count": 177,
   "metadata": {
    "collapsed": false
   },
   "outputs": [],
   "source": [
    "test['numDays']=test['numDays'].apply(lambda x: x / np.timedelta64(1,'D'))"
   ]
  },
  {
   "cell_type": "code",
   "execution_count": 178,
   "metadata": {
    "collapsed": false
   },
   "outputs": [
    {
     "data": {
      "text/html": [
       "<div>\n",
       "<table border=\"1\" class=\"dataframe\">\n",
       "  <thead>\n",
       "    <tr style=\"text-align: right;\">\n",
       "      <th></th>\n",
       "      <th>Borough</th>\n",
       "      <th>SDate</th>\n",
       "      <th>EDate</th>\n",
       "      <th>STime</th>\n",
       "      <th>numDays</th>\n",
       "    </tr>\n",
       "  </thead>\n",
       "  <tbody>\n",
       "    <tr>\n",
       "      <th>0</th>\n",
       "      <td>brooklyn</td>\n",
       "      <td>2015-12-31 23:52:18</td>\n",
       "      <td>2016-01-01 01:32:08</td>\n",
       "      <td>23:52:18</td>\n",
       "      <td>0.069329</td>\n",
       "    </tr>\n",
       "    <tr>\n",
       "      <th>1</th>\n",
       "      <td>brooklyn</td>\n",
       "      <td>2015-12-31 17:00:43</td>\n",
       "      <td>2016-01-02 04:03:10</td>\n",
       "      <td>17:00:43</td>\n",
       "      <td>1.460035</td>\n",
       "    </tr>\n",
       "    <tr>\n",
       "      <th>2</th>\n",
       "      <td>brooklyn</td>\n",
       "      <td>2015-12-30 13:55:21</td>\n",
       "      <td>2015-12-30 14:00:18</td>\n",
       "      <td>13:55:21</td>\n",
       "      <td>0.003438</td>\n",
       "    </tr>\n",
       "    <tr>\n",
       "      <th>3</th>\n",
       "      <td>bronx</td>\n",
       "      <td>2015-12-29 13:57:37</td>\n",
       "      <td>2015-12-30 02:47:14</td>\n",
       "      <td>13:57:37</td>\n",
       "      <td>0.534456</td>\n",
       "    </tr>\n",
       "    <tr>\n",
       "      <th>4</th>\n",
       "      <td>manhattan</td>\n",
       "      <td>2015-12-28 18:52:05</td>\n",
       "      <td>2015-12-28 20:40:08</td>\n",
       "      <td>18:52:05</td>\n",
       "      <td>0.075035</td>\n",
       "    </tr>\n",
       "  </tbody>\n",
       "</table>\n",
       "</div>"
      ],
      "text/plain": [
       "     Borough               SDate               EDate     STime   numDays\n",
       "0   brooklyn 2015-12-31 23:52:18 2016-01-01 01:32:08  23:52:18  0.069329\n",
       "1   brooklyn 2015-12-31 17:00:43 2016-01-02 04:03:10  17:00:43  1.460035\n",
       "2   brooklyn 2015-12-30 13:55:21 2015-12-30 14:00:18  13:55:21  0.003438\n",
       "3      bronx 2015-12-29 13:57:37 2015-12-30 02:47:14  13:57:37  0.534456\n",
       "4  manhattan 2015-12-28 18:52:05 2015-12-28 20:40:08  18:52:05  0.075035"
      ]
     },
     "execution_count": 178,
     "metadata": {},
     "output_type": "execute_result"
    }
   ],
   "source": [
    "test.head()"
   ]
  },
  {
   "cell_type": "code",
   "execution_count": 179,
   "metadata": {
    "collapsed": true
   },
   "outputs": [],
   "source": [
    "testDay = test.loc[0::,['Borough','numDays']]"
   ]
  },
  {
   "cell_type": "code",
   "execution_count": 180,
   "metadata": {
    "collapsed": false
   },
   "outputs": [
    {
     "data": {
      "text/html": [
       "<div>\n",
       "<table border=\"1\" class=\"dataframe\">\n",
       "  <thead>\n",
       "    <tr style=\"text-align: right;\">\n",
       "      <th></th>\n",
       "      <th>Borough</th>\n",
       "      <th>numDays</th>\n",
       "    </tr>\n",
       "  </thead>\n",
       "  <tbody>\n",
       "    <tr>\n",
       "      <th>0</th>\n",
       "      <td>brooklyn</td>\n",
       "      <td>0.069329</td>\n",
       "    </tr>\n",
       "    <tr>\n",
       "      <th>1</th>\n",
       "      <td>brooklyn</td>\n",
       "      <td>1.460035</td>\n",
       "    </tr>\n",
       "    <tr>\n",
       "      <th>2</th>\n",
       "      <td>brooklyn</td>\n",
       "      <td>0.003438</td>\n",
       "    </tr>\n",
       "    <tr>\n",
       "      <th>3</th>\n",
       "      <td>bronx</td>\n",
       "      <td>0.534456</td>\n",
       "    </tr>\n",
       "    <tr>\n",
       "      <th>4</th>\n",
       "      <td>manhattan</td>\n",
       "      <td>0.075035</td>\n",
       "    </tr>\n",
       "  </tbody>\n",
       "</table>\n",
       "</div>"
      ],
      "text/plain": [
       "     Borough   numDays\n",
       "0   brooklyn  0.069329\n",
       "1   brooklyn  1.460035\n",
       "2   brooklyn  0.003438\n",
       "3      bronx  0.534456\n",
       "4  manhattan  0.075035"
      ]
     },
     "execution_count": 180,
     "metadata": {},
     "output_type": "execute_result"
    }
   ],
   "source": [
    "testDay.head()"
   ]
  },
  {
   "cell_type": "code",
   "execution_count": 203,
   "metadata": {
    "collapsed": true
   },
   "outputs": [],
   "source": [
    "grpDay = testDay.groupby(['Borough'])"
   ]
  },
  {
   "cell_type": "code",
   "execution_count": 204,
   "metadata": {
    "collapsed": false
   },
   "outputs": [
    {
     "data": {
      "text/html": [
       "<div>\n",
       "<table border=\"1\" class=\"dataframe\">\n",
       "  <thead>\n",
       "    <tr style=\"text-align: right;\">\n",
       "      <th></th>\n",
       "      <th>numDays</th>\n",
       "    </tr>\n",
       "  </thead>\n",
       "  <tbody>\n",
       "    <tr>\n",
       "      <th>count</th>\n",
       "      <td>2524.000000</td>\n",
       "    </tr>\n",
       "    <tr>\n",
       "      <th>mean</th>\n",
       "      <td>3.495225</td>\n",
       "    </tr>\n",
       "    <tr>\n",
       "      <th>std</th>\n",
       "      <td>17.378128</td>\n",
       "    </tr>\n",
       "    <tr>\n",
       "      <th>min</th>\n",
       "      <td>0.000000</td>\n",
       "    </tr>\n",
       "    <tr>\n",
       "      <th>25%</th>\n",
       "      <td>0.055058</td>\n",
       "    </tr>\n",
       "    <tr>\n",
       "      <th>50%</th>\n",
       "      <td>0.128304</td>\n",
       "    </tr>\n",
       "    <tr>\n",
       "      <th>75%</th>\n",
       "      <td>0.580648</td>\n",
       "    </tr>\n",
       "    <tr>\n",
       "      <th>max</th>\n",
       "      <td>337.087002</td>\n",
       "    </tr>\n",
       "  </tbody>\n",
       "</table>\n",
       "</div>"
      ],
      "text/plain": [
       "           numDays\n",
       "count  2524.000000\n",
       "mean      3.495225\n",
       "std      17.378128\n",
       "min       0.000000\n",
       "25%       0.055058\n",
       "50%       0.128304\n",
       "75%       0.580648\n",
       "max     337.087002"
      ]
     },
     "execution_count": 204,
     "metadata": {},
     "output_type": "execute_result"
    }
   ],
   "source": [
    "testDay.describe()"
   ]
  },
  {
   "cell_type": "code",
   "execution_count": 212,
   "metadata": {
    "collapsed": false
   },
   "outputs": [
    {
     "data": {
      "text/plain": [
       "<matplotlib.axes._subplots.AxesSubplot at 0xa6e2518>"
      ]
     },
     "execution_count": 212,
     "metadata": {},
     "output_type": "execute_result"
    },
    {
     "data": {
      "image/png": "[encoded data removed]",
      "text/plain": [
       "<matplotlib.figure.Figure at 0xabc2278>"
      ]
     },
     "metadata": {},
     "output_type": "display_data"
    }
   ],
   "source": [
    "grpDay['numDays'].mean().plot(kind='bar')"
   ]
  },
  {
   "cell_type": "code",
   "execution_count": 207,
   "metadata": {
    "collapsed": false
   },
   "outputs": [
    {
     "data": {
      "text/plain": [
       "Borough\n",
       "bronx             4.500459\n",
       "brooklyn          3.605757\n",
       "citywide         23.530557\n",
       "manhattan         3.279218\n",
       "queens            3.012365\n",
       "staten island     2.699316\n",
       "Name: numDays, dtype: float64"
      ]
     },
     "execution_count": 207,
     "metadata": {},
     "output_type": "execute_result"
    }
   ],
   "source": [
    "grpDay['numDays'].mean()"
   ]
  },
  {
   "cell_type": "code",
   "execution_count": 209,
   "metadata": {
    "collapsed": false
   },
   "outputs": [
    {
     "data": {
      "text/plain": [
       "Borough             \n",
       "bronx          count    318.000000\n",
       "               mean       4.500459\n",
       "               std       21.007651\n",
       "               min        0.006736\n",
       "               25%        0.072193\n",
       "               50%        0.172951\n",
       "               75%        0.757260\n",
       "               max      186.003899\n",
       "brooklyn       count    678.000000\n",
       "               mean       3.605757\n",
       "               std       18.512375\n",
       "               min        0.000000\n",
       "               25%        0.057896\n",
       "               50%        0.127089\n",
       "               75%        0.583895\n",
       "               max      304.194339\n",
       "citywide       count      7.000000\n",
       "               mean      23.530557\n",
       "               std       29.830245\n",
       "               min        0.488843\n",
       "               25%        2.401007\n",
       "               50%       13.440903\n",
       "               75%       30.952072\n",
       "               max       84.077998\n",
       "manhattan      count    918.000000\n",
       "               mean       3.279218\n",
       "               std       17.260665\n",
       "               min        0.000000\n",
       "               25%        0.044878\n",
       "               50%        0.108443\n",
       "               75%        0.504355\n",
       "               max      337.087002\n",
       "queens         count    458.000000\n",
       "               mean       3.012365\n",
       "               std       12.572810\n",
       "               min        0.000000\n",
       "               25%        0.062176\n",
       "               50%        0.133762\n",
       "               75%        0.596181\n",
       "               max      110.704931\n",
       "staten island  count    145.000000\n",
       "               mean       2.699316\n",
       "               std       15.782635\n",
       "               min        0.016551\n",
       "               25%        0.059039\n",
       "               50%        0.134745\n",
       "               75%        0.442755\n",
       "               max      156.137037\n",
       "dtype: float64"
      ]
     },
     "execution_count": 209,
     "metadata": {},
     "output_type": "execute_result"
    }
   ],
   "source": [
    "grpDay['numDays'].describe()"
   ]
  },
  {
   "cell_type": "code",
   "execution_count": 217,
   "metadata": {
    "collapsed": false
   },
   "outputs": [
    {
     "data": {
      "text/plain": [
       "<matplotlib.axes._subplots.AxesSubplot at 0xa8c06d8>"
      ]
     },
     "execution_count": 217,
     "metadata": {},
     "output_type": "execute_result"
    },
    {
     "data": {
      "image/png": "[encoded data removed]",
      "text/plain": [
       "<matplotlib.figure.Figure at 0xa5ee128>"
      ]
     },
     "metadata": {},
     "output_type": "display_data"
    }
   ],
   "source": [
    "grpDay['numDays'].count().plot(kind='pie')"
   ]
  },
  {
   "cell_type": "code",
   "execution_count": 218,
   "metadata": {
    "collapsed": false
   },
   "outputs": [
    {
     "data": {
      "text/html": [
       "<div>\n",
       "<table border=\"1\" class=\"dataframe\">\n",
       "  <thead>\n",
       "    <tr style=\"text-align: right;\">\n",
       "      <th></th>\n",
       "      <th>Incidents</th>\n",
       "      <th>Location</th>\n",
       "      <th>Borough</th>\n",
       "      <th>SDate</th>\n",
       "      <th>EDate</th>\n",
       "      <th>Latitude</th>\n",
       "      <th>Longitude</th>\n",
       "    </tr>\n",
       "  </thead>\n",
       "  <tbody>\n",
       "    <tr>\n",
       "      <th>0</th>\n",
       "      <td>Administration</td>\n",
       "      <td>NaN</td>\n",
       "      <td>brooklyn</td>\n",
       "      <td>12/31/2015  11:52:18 PM</td>\n",
       "      <td>1/1/2016   1:32:08AM</td>\n",
       "      <td>NaN</td>\n",
       "      <td>NaN</td>\n",
       "    </tr>\n",
       "    <tr>\n",
       "      <th>1</th>\n",
       "      <td>Transportation</td>\n",
       "      <td>Marcy Ave &amp; Broadway</td>\n",
       "      <td>brooklyn</td>\n",
       "      <td>12/31/2015  5:00:43 PM</td>\n",
       "      <td>1/2/2016   4:03:10AM</td>\n",
       "      <td>40.708426</td>\n",
       "      <td>-73.957904</td>\n",
       "    </tr>\n",
       "    <tr>\n",
       "      <th>2</th>\n",
       "      <td>Law Enforcement</td>\n",
       "      <td>435 Ocean Parkway</td>\n",
       "      <td>brooklyn</td>\n",
       "      <td>12/30/2015  1:55:21 PM</td>\n",
       "      <td>12/30/2015   2:00:18PM</td>\n",
       "      <td>40.637832</td>\n",
       "      <td>-73.973045</td>\n",
       "    </tr>\n",
       "    <tr>\n",
       "      <th>3</th>\n",
       "      <td>Fire</td>\n",
       "      <td>NaN</td>\n",
       "      <td>bronx</td>\n",
       "      <td>12/29/2015  1:57:37 PM</td>\n",
       "      <td>12/30/2015   2:47:14AM</td>\n",
       "      <td>40.733883</td>\n",
       "      <td>-74.031169</td>\n",
       "    </tr>\n",
       "    <tr>\n",
       "      <th>4</th>\n",
       "      <td>Fire</td>\n",
       "      <td>347 East 84 Street</td>\n",
       "      <td>manhattan</td>\n",
       "      <td>12/28/2015  6:52:05 PM</td>\n",
       "      <td>12/28/2015   8:40:08PM</td>\n",
       "      <td>40.776093</td>\n",
       "      <td>-73.951568</td>\n",
       "    </tr>\n",
       "  </tbody>\n",
       "</table>\n",
       "</div>"
      ],
      "text/plain": [
       "         Incidents              Location    Borough                    SDate  \\\n",
       "0   Administration                   NaN   brooklyn  12/31/2015  11:52:18 PM   \n",
       "1   Transportation  Marcy Ave & Broadway   brooklyn   12/31/2015  5:00:43 PM   \n",
       "2  Law Enforcement     435 Ocean Parkway   brooklyn   12/30/2015  1:55:21 PM   \n",
       "3             Fire                   NaN      bronx   12/29/2015  1:57:37 PM   \n",
       "4             Fire    347 East 84 Street  manhattan   12/28/2015  6:52:05 PM   \n",
       "\n",
       "                     EDate   Latitude  Longitude  \n",
       "0    1/1/2016   1:32:08AM         NaN        NaN  \n",
       "1    1/2/2016   4:03:10AM   40.708426 -73.957904  \n",
       "2  12/30/2015   2:00:18PM   40.637832 -73.973045  \n",
       "3  12/30/2015   2:47:14AM   40.733883 -74.031169  \n",
       "4  12/28/2015   8:40:08PM   40.776093 -73.951568  "
      ]
     },
     "execution_count": 218,
     "metadata": {},
     "output_type": "execute_result"
    }
   ],
   "source": [
    "responses.head()"
   ]
  },
  {
   "cell_type": "code",
   "execution_count": 219,
   "metadata": {
    "collapsed": true
   },
   "outputs": [],
   "source": [
    "testDay2 = testDay[testDay.Borough != 'citywide']"
   ]
  },
  {
   "cell_type": "code",
   "execution_count": 220,
   "metadata": {
    "collapsed": false
   },
   "outputs": [
    {
     "data": {
      "text/html": [
       "<div>\n",
       "<table border=\"1\" class=\"dataframe\">\n",
       "  <thead>\n",
       "    <tr style=\"text-align: right;\">\n",
       "      <th></th>\n",
       "      <th>Borough</th>\n",
       "      <th>numDays</th>\n",
       "      <th>mean</th>\n",
       "    </tr>\n",
       "  </thead>\n",
       "  <tbody>\n",
       "    <tr>\n",
       "      <th>1512</th>\n",
       "      <td>queens</td>\n",
       "      <td>1.125856</td>\n",
       "      <td>&lt;bound method SeriesGroupBy.mean of &lt;pandas.co...</td>\n",
       "    </tr>\n",
       "    <tr>\n",
       "      <th>2399</th>\n",
       "      <td>brooklyn</td>\n",
       "      <td>0.038368</td>\n",
       "      <td>&lt;bound method SeriesGroupBy.mean of &lt;pandas.co...</td>\n",
       "    </tr>\n",
       "    <tr>\n",
       "      <th>1825</th>\n",
       "      <td>brooklyn</td>\n",
       "      <td>7.346956</td>\n",
       "      <td>&lt;bound method SeriesGroupBy.mean of &lt;pandas.co...</td>\n",
       "    </tr>\n",
       "    <tr>\n",
       "      <th>214</th>\n",
       "      <td>queens</td>\n",
       "      <td>3.650891</td>\n",
       "      <td>&lt;bound method SeriesGroupBy.mean of &lt;pandas.co...</td>\n",
       "    </tr>\n",
       "    <tr>\n",
       "      <th>326</th>\n",
       "      <td>queens</td>\n",
       "      <td>0.227917</td>\n",
       "      <td>&lt;bound method SeriesGroupBy.mean of &lt;pandas.co...</td>\n",
       "    </tr>\n",
       "    <tr>\n",
       "      <th>1972</th>\n",
       "      <td>manhattan</td>\n",
       "      <td>0.073970</td>\n",
       "      <td>&lt;bound method SeriesGroupBy.mean of &lt;pandas.co...</td>\n",
       "    </tr>\n",
       "    <tr>\n",
       "      <th>2237</th>\n",
       "      <td>queens</td>\n",
       "      <td>0.952870</td>\n",
       "      <td>&lt;bound method SeriesGroupBy.mean of &lt;pandas.co...</td>\n",
       "    </tr>\n",
       "    <tr>\n",
       "      <th>2222</th>\n",
       "      <td>manhattan</td>\n",
       "      <td>0.957419</td>\n",
       "      <td>&lt;bound method SeriesGroupBy.mean of &lt;pandas.co...</td>\n",
       "    </tr>\n",
       "    <tr>\n",
       "      <th>366</th>\n",
       "      <td>manhattan</td>\n",
       "      <td>0.040903</td>\n",
       "      <td>&lt;bound method SeriesGroupBy.mean of &lt;pandas.co...</td>\n",
       "    </tr>\n",
       "    <tr>\n",
       "      <th>2118</th>\n",
       "      <td>manhattan</td>\n",
       "      <td>0.053229</td>\n",
       "      <td>&lt;bound method SeriesGroupBy.mean of &lt;pandas.co...</td>\n",
       "    </tr>\n",
       "    <tr>\n",
       "      <th>584</th>\n",
       "      <td>queens</td>\n",
       "      <td>0.139363</td>\n",
       "      <td>&lt;bound method SeriesGroupBy.mean of &lt;pandas.co...</td>\n",
       "    </tr>\n",
       "    <tr>\n",
       "      <th>1505</th>\n",
       "      <td>manhattan</td>\n",
       "      <td>0.005451</td>\n",
       "      <td>&lt;bound method SeriesGroupBy.mean of &lt;pandas.co...</td>\n",
       "    </tr>\n",
       "    <tr>\n",
       "      <th>2391</th>\n",
       "      <td>manhattan</td>\n",
       "      <td>0.230023</td>\n",
       "      <td>&lt;bound method SeriesGroupBy.mean of &lt;pandas.co...</td>\n",
       "    </tr>\n",
       "    <tr>\n",
       "      <th>2022</th>\n",
       "      <td>manhattan</td>\n",
       "      <td>5.906215</td>\n",
       "      <td>&lt;bound method SeriesGroupBy.mean of &lt;pandas.co...</td>\n",
       "    </tr>\n",
       "    <tr>\n",
       "      <th>1636</th>\n",
       "      <td>bronx</td>\n",
       "      <td>0.629132</td>\n",
       "      <td>&lt;bound method SeriesGroupBy.mean of &lt;pandas.co...</td>\n",
       "    </tr>\n",
       "    <tr>\n",
       "      <th>1149</th>\n",
       "      <td>bronx</td>\n",
       "      <td>0.035336</td>\n",
       "      <td>&lt;bound method SeriesGroupBy.mean of &lt;pandas.co...</td>\n",
       "    </tr>\n",
       "    <tr>\n",
       "      <th>559</th>\n",
       "      <td>manhattan</td>\n",
       "      <td>0.297060</td>\n",
       "      <td>&lt;bound method SeriesGroupBy.mean of &lt;pandas.co...</td>\n",
       "    </tr>\n",
       "    <tr>\n",
       "      <th>719</th>\n",
       "      <td>queens</td>\n",
       "      <td>0.072928</td>\n",
       "      <td>&lt;bound method SeriesGroupBy.mean of &lt;pandas.co...</td>\n",
       "    </tr>\n",
       "    <tr>\n",
       "      <th>2401</th>\n",
       "      <td>manhattan</td>\n",
       "      <td>0.587025</td>\n",
       "      <td>&lt;bound method SeriesGroupBy.mean of &lt;pandas.co...</td>\n",
       "    </tr>\n",
       "    <tr>\n",
       "      <th>1386</th>\n",
       "      <td>brooklyn</td>\n",
       "      <td>121.451933</td>\n",
       "      <td>&lt;bound method SeriesGroupBy.mean of &lt;pandas.co...</td>\n",
       "    </tr>\n",
       "  </tbody>\n",
       "</table>\n",
       "</div>"
      ],
      "text/plain": [
       "        Borough     numDays                                               mean\n",
       "1512     queens    1.125856  <bound method SeriesGroupBy.mean of <pandas.co...\n",
       "2399   brooklyn    0.038368  <bound method SeriesGroupBy.mean of <pandas.co...\n",
       "1825   brooklyn    7.346956  <bound method SeriesGroupBy.mean of <pandas.co...\n",
       "214      queens    3.650891  <bound method SeriesGroupBy.mean of <pandas.co...\n",
       "326      queens    0.227917  <bound method SeriesGroupBy.mean of <pandas.co...\n",
       "1972  manhattan    0.073970  <bound method SeriesGroupBy.mean of <pandas.co...\n",
       "2237     queens    0.952870  <bound method SeriesGroupBy.mean of <pandas.co...\n",
       "2222  manhattan    0.957419  <bound method SeriesGroupBy.mean of <pandas.co...\n",
       "366   manhattan    0.040903  <bound method SeriesGroupBy.mean of <pandas.co...\n",
       "2118  manhattan    0.053229  <bound method SeriesGroupBy.mean of <pandas.co...\n",
       "584      queens    0.139363  <bound method SeriesGroupBy.mean of <pandas.co...\n",
       "1505  manhattan    0.005451  <bound method SeriesGroupBy.mean of <pandas.co...\n",
       "2391  manhattan    0.230023  <bound method SeriesGroupBy.mean of <pandas.co...\n",
       "2022  manhattan    5.906215  <bound method SeriesGroupBy.mean of <pandas.co...\n",
       "1636      bronx    0.629132  <bound method SeriesGroupBy.mean of <pandas.co...\n",
       "1149      bronx    0.035336  <bound method SeriesGroupBy.mean of <pandas.co...\n",
       "559   manhattan    0.297060  <bound method SeriesGroupBy.mean of <pandas.co...\n",
       "719      queens    0.072928  <bound method SeriesGroupBy.mean of <pandas.co...\n",
       "2401  manhattan    0.587025  <bound method SeriesGroupBy.mean of <pandas.co...\n",
       "1386   brooklyn  121.451933  <bound method SeriesGroupBy.mean of <pandas.co..."
      ]
     },
     "execution_count": 220,
     "metadata": {},
     "output_type": "execute_result"
    }
   ],
   "source": [
    "testDay2.sample(20)"
   ]
  },
  {
   "cell_type": "code",
   "execution_count": 221,
   "metadata": {
    "collapsed": true
   },
   "outputs": [],
   "source": [
    "del testDay2['mean']"
   ]
  },
  {
   "cell_type": "code",
   "execution_count": 222,
   "metadata": {
    "collapsed": false
   },
   "outputs": [
    {
     "data": {
      "text/html": [
       "<div>\n",
       "<table border=\"1\" class=\"dataframe\">\n",
       "  <thead>\n",
       "    <tr style=\"text-align: right;\">\n",
       "      <th></th>\n",
       "      <th>Borough</th>\n",
       "      <th>numDays</th>\n",
       "    </tr>\n",
       "  </thead>\n",
       "  <tbody>\n",
       "    <tr>\n",
       "      <th>1258</th>\n",
       "      <td>manhattan</td>\n",
       "      <td>0.038507</td>\n",
       "    </tr>\n",
       "    <tr>\n",
       "      <th>2293</th>\n",
       "      <td>manhattan</td>\n",
       "      <td>0.028542</td>\n",
       "    </tr>\n",
       "    <tr>\n",
       "      <th>753</th>\n",
       "      <td>queens</td>\n",
       "      <td>9.858611</td>\n",
       "    </tr>\n",
       "    <tr>\n",
       "      <th>91</th>\n",
       "      <td>bronx</td>\n",
       "      <td>0.006736</td>\n",
       "    </tr>\n",
       "    <tr>\n",
       "      <th>892</th>\n",
       "      <td>queens</td>\n",
       "      <td>0.051400</td>\n",
       "    </tr>\n",
       "    <tr>\n",
       "      <th>1764</th>\n",
       "      <td>manhattan</td>\n",
       "      <td>13.193854</td>\n",
       "    </tr>\n",
       "    <tr>\n",
       "      <th>1372</th>\n",
       "      <td>manhattan</td>\n",
       "      <td>0.324236</td>\n",
       "    </tr>\n",
       "    <tr>\n",
       "      <th>1250</th>\n",
       "      <td>queens</td>\n",
       "      <td>0.581725</td>\n",
       "    </tr>\n",
       "    <tr>\n",
       "      <th>1628</th>\n",
       "      <td>brooklyn</td>\n",
       "      <td>0.041933</td>\n",
       "    </tr>\n",
       "    <tr>\n",
       "      <th>1003</th>\n",
       "      <td>manhattan</td>\n",
       "      <td>1.571829</td>\n",
       "    </tr>\n",
       "    <tr>\n",
       "      <th>1758</th>\n",
       "      <td>manhattan</td>\n",
       "      <td>10.220880</td>\n",
       "    </tr>\n",
       "    <tr>\n",
       "      <th>2479</th>\n",
       "      <td>manhattan</td>\n",
       "      <td>0.133507</td>\n",
       "    </tr>\n",
       "    <tr>\n",
       "      <th>254</th>\n",
       "      <td>brooklyn</td>\n",
       "      <td>0.041227</td>\n",
       "    </tr>\n",
       "    <tr>\n",
       "      <th>2448</th>\n",
       "      <td>manhattan</td>\n",
       "      <td>0.177037</td>\n",
       "    </tr>\n",
       "    <tr>\n",
       "      <th>1921</th>\n",
       "      <td>bronx</td>\n",
       "      <td>0.028206</td>\n",
       "    </tr>\n",
       "    <tr>\n",
       "      <th>1879</th>\n",
       "      <td>manhattan</td>\n",
       "      <td>0.038380</td>\n",
       "    </tr>\n",
       "    <tr>\n",
       "      <th>948</th>\n",
       "      <td>manhattan</td>\n",
       "      <td>0.029792</td>\n",
       "    </tr>\n",
       "    <tr>\n",
       "      <th>2332</th>\n",
       "      <td>manhattan</td>\n",
       "      <td>0.350463</td>\n",
       "    </tr>\n",
       "    <tr>\n",
       "      <th>981</th>\n",
       "      <td>manhattan</td>\n",
       "      <td>1.899977</td>\n",
       "    </tr>\n",
       "    <tr>\n",
       "      <th>1153</th>\n",
       "      <td>queens</td>\n",
       "      <td>0.144074</td>\n",
       "    </tr>\n",
       "  </tbody>\n",
       "</table>\n",
       "</div>"
      ],
      "text/plain": [
       "        Borough    numDays\n",
       "1258  manhattan   0.038507\n",
       "2293  manhattan   0.028542\n",
       "753      queens   9.858611\n",
       "91        bronx   0.006736\n",
       "892      queens   0.051400\n",
       "1764  manhattan  13.193854\n",
       "1372  manhattan   0.324236\n",
       "1250     queens   0.581725\n",
       "1628   brooklyn   0.041933\n",
       "1003  manhattan   1.571829\n",
       "1758  manhattan  10.220880\n",
       "2479  manhattan   0.133507\n",
       "254    brooklyn   0.041227\n",
       "2448  manhattan   0.177037\n",
       "1921      bronx   0.028206\n",
       "1879  manhattan   0.038380\n",
       "948   manhattan   0.029792\n",
       "2332  manhattan   0.350463\n",
       "981   manhattan   1.899977\n",
       "1153     queens   0.144074"
      ]
     },
     "execution_count": 222,
     "metadata": {},
     "output_type": "execute_result"
    }
   ],
   "source": [
    "testDay2.sample(20)"
   ]
  },
  {
   "cell_type": "code",
   "execution_count": 224,
   "metadata": {
    "collapsed": false
   },
   "outputs": [],
   "source": [
    "grpDay2 = testDay2.groupby(['Borough'])"
   ]
  },
  {
   "cell_type": "code",
   "execution_count": 227,
   "metadata": {
    "collapsed": false
   },
   "outputs": [
    {
     "data": {
      "text/plain": [
       "<matplotlib.axes._subplots.AxesSubplot at 0xa6ea4a8>"
      ]
     },
     "execution_count": 227,
     "metadata": {},
     "output_type": "execute_result"
    },
    {
     "data": {
      "image/png": "[encoded data removed]",
      "text/plain": [
       "<matplotlib.figure.Figure at 0xa6d7c50>"
      ]
     },
     "metadata": {},
     "output_type": "display_data"
    }
   ],
   "source": [
    "grpDay2.mean().plot(kind='bar')"
   ]
  },
  {
   "cell_type": "code",
   "execution_count": 228,
   "metadata": {
    "collapsed": true
   },
   "outputs": [],
   "source": [
    "borMean = grpDay2.mean()"
   ]
  },
  {
   "cell_type": "code",
   "execution_count": 229,
   "metadata": {
    "collapsed": false
   },
   "outputs": [
    {
     "data": {
      "text/html": [
       "<div>\n",
       "<table border=\"1\" class=\"dataframe\">\n",
       "  <thead>\n",
       "    <tr style=\"text-align: right;\">\n",
       "      <th></th>\n",
       "      <th>numDays</th>\n",
       "    </tr>\n",
       "    <tr>\n",
       "      <th>Borough</th>\n",
       "      <th></th>\n",
       "    </tr>\n",
       "  </thead>\n",
       "  <tbody>\n",
       "    <tr>\n",
       "      <th>bronx</th>\n",
       "      <td>4.500459</td>\n",
       "    </tr>\n",
       "    <tr>\n",
       "      <th>brooklyn</th>\n",
       "      <td>3.605757</td>\n",
       "    </tr>\n",
       "    <tr>\n",
       "      <th>manhattan</th>\n",
       "      <td>3.279218</td>\n",
       "    </tr>\n",
       "    <tr>\n",
       "      <th>queens</th>\n",
       "      <td>3.012365</td>\n",
       "    </tr>\n",
       "    <tr>\n",
       "      <th>staten island</th>\n",
       "      <td>2.699316</td>\n",
       "    </tr>\n",
       "  </tbody>\n",
       "</table>\n",
       "</div>"
      ],
      "text/plain": [
       "                numDays\n",
       "Borough                \n",
       "bronx          4.500459\n",
       "brooklyn       3.605757\n",
       "manhattan      3.279218\n",
       "queens         3.012365\n",
       "staten island  2.699316"
      ]
     },
     "execution_count": 229,
     "metadata": {},
     "output_type": "execute_result"
    }
   ],
   "source": [
    "borMean"
   ]
  },
  {
   "cell_type": "code",
   "execution_count": 231,
   "metadata": {
    "collapsed": false
   },
   "outputs": [],
   "source": [
    "borMean['Area']=''"
   ]
  },
  {
   "cell_type": "code",
   "execution_count": 232,
   "metadata": {
    "collapsed": false
   },
   "outputs": [
    {
     "data": {
      "text/html": [
       "<div>\n",
       "<table border=\"1\" class=\"dataframe\">\n",
       "  <thead>\n",
       "    <tr style=\"text-align: right;\">\n",
       "      <th></th>\n",
       "      <th>numDays</th>\n",
       "      <th>Area</th>\n",
       "    </tr>\n",
       "    <tr>\n",
       "      <th>Borough</th>\n",
       "      <th></th>\n",
       "      <th></th>\n",
       "    </tr>\n",
       "  </thead>\n",
       "  <tbody>\n",
       "    <tr>\n",
       "      <th>bronx</th>\n",
       "      <td>4.500459</td>\n",
       "      <td></td>\n",
       "    </tr>\n",
       "    <tr>\n",
       "      <th>brooklyn</th>\n",
       "      <td>3.605757</td>\n",
       "      <td></td>\n",
       "    </tr>\n",
       "    <tr>\n",
       "      <th>manhattan</th>\n",
       "      <td>3.279218</td>\n",
       "      <td></td>\n",
       "    </tr>\n",
       "    <tr>\n",
       "      <th>queens</th>\n",
       "      <td>3.012365</td>\n",
       "      <td></td>\n",
       "    </tr>\n",
       "    <tr>\n",
       "      <th>staten island</th>\n",
       "      <td>2.699316</td>\n",
       "      <td></td>\n",
       "    </tr>\n",
       "  </tbody>\n",
       "</table>\n",
       "</div>"
      ],
      "text/plain": [
       "                numDays Area\n",
       "Borough                     \n",
       "bronx          4.500459     \n",
       "brooklyn       3.605757     \n",
       "manhattan      3.279218     \n",
       "queens         3.012365     \n",
       "staten island  2.699316     "
      ]
     },
     "execution_count": 232,
     "metadata": {},
     "output_type": "execute_result"
    }
   ],
   "source": [
    "borMean"
   ]
  },
  {
   "cell_type": "code",
   "execution_count": 241,
   "metadata": {
    "collapsed": false
   },
   "outputs": [
    {
     "name": "stderr",
     "output_type": "stream",
     "text": [
      "C:\\Users\\amuthiyan\\Anaconda2\\lib\\site-packages\\ipykernel\\__main__.py:1: SettingWithCopyWarning: \n",
      "A value is trying to be set on a copy of a slice from a DataFrame\n",
      "\n",
      "See the caveats in the documentation: http://pandas.pydata.org/pandas-docs/stable/indexing.html#indexing-view-versus-copy\n",
      "  if __name__ == '__main__':\n"
     ]
    }
   ],
   "source": [
    "borMean['Area'][0]=42"
   ]
  },
  {
   "cell_type": "code",
   "execution_count": 236,
   "metadata": {
    "collapsed": false
   },
   "outputs": [
    {
     "data": {
      "text/html": [
       "<div>\n",
       "<table border=\"1\" class=\"dataframe\">\n",
       "  <thead>\n",
       "    <tr style=\"text-align: right;\">\n",
       "      <th></th>\n",
       "      <th>numDays</th>\n",
       "      <th>Area</th>\n",
       "      <th>(Area, bronx)</th>\n",
       "    </tr>\n",
       "    <tr>\n",
       "      <th>Borough</th>\n",
       "      <th></th>\n",
       "      <th></th>\n",
       "      <th></th>\n",
       "    </tr>\n",
       "  </thead>\n",
       "  <tbody>\n",
       "    <tr>\n",
       "      <th>bronx</th>\n",
       "      <td>4.500459</td>\n",
       "      <td>42</td>\n",
       "      <td>42</td>\n",
       "    </tr>\n",
       "    <tr>\n",
       "      <th>brooklyn</th>\n",
       "      <td>3.605757</td>\n",
       "      <td>42</td>\n",
       "      <td>42</td>\n",
       "    </tr>\n",
       "    <tr>\n",
       "      <th>manhattan</th>\n",
       "      <td>3.279218</td>\n",
       "      <td>42</td>\n",
       "      <td>42</td>\n",
       "    </tr>\n",
       "    <tr>\n",
       "      <th>queens</th>\n",
       "      <td>3.012365</td>\n",
       "      <td>42</td>\n",
       "      <td>42</td>\n",
       "    </tr>\n",
       "    <tr>\n",
       "      <th>staten island</th>\n",
       "      <td>2.699316</td>\n",
       "      <td>42</td>\n",
       "      <td>42</td>\n",
       "    </tr>\n",
       "  </tbody>\n",
       "</table>\n",
       "</div>"
      ],
      "text/plain": [
       "                numDays  Area  (Area, bronx)\n",
       "Borough                                     \n",
       "bronx          4.500459    42             42\n",
       "brooklyn       3.605757    42             42\n",
       "manhattan      3.279218    42             42\n",
       "queens         3.012365    42             42\n",
       "staten island  2.699316    42             42"
      ]
     },
     "execution_count": 236,
     "metadata": {},
     "output_type": "execute_result"
    }
   ],
   "source": [
    "borMean"
   ]
  },
  {
   "cell_type": "code",
   "execution_count": 238,
   "metadata": {
    "collapsed": false
   },
   "outputs": [],
   "source": [
    "del borMean['Area','bronx']"
   ]
  },
  {
   "cell_type": "code",
   "execution_count": 239,
   "metadata": {
    "collapsed": false
   },
   "outputs": [
    {
     "data": {
      "text/html": [
       "<div>\n",
       "<table border=\"1\" class=\"dataframe\">\n",
       "  <thead>\n",
       "    <tr style=\"text-align: right;\">\n",
       "      <th></th>\n",
       "      <th>numDays</th>\n",
       "      <th>Area</th>\n",
       "    </tr>\n",
       "    <tr>\n",
       "      <th>Borough</th>\n",
       "      <th></th>\n",
       "      <th></th>\n",
       "    </tr>\n",
       "  </thead>\n",
       "  <tbody>\n",
       "    <tr>\n",
       "      <th>bronx</th>\n",
       "      <td>4.500459</td>\n",
       "      <td>42</td>\n",
       "    </tr>\n",
       "    <tr>\n",
       "      <th>brooklyn</th>\n",
       "      <td>3.605757</td>\n",
       "      <td>42</td>\n",
       "    </tr>\n",
       "    <tr>\n",
       "      <th>manhattan</th>\n",
       "      <td>3.279218</td>\n",
       "      <td>42</td>\n",
       "    </tr>\n",
       "    <tr>\n",
       "      <th>queens</th>\n",
       "      <td>3.012365</td>\n",
       "      <td>42</td>\n",
       "    </tr>\n",
       "    <tr>\n",
       "      <th>staten island</th>\n",
       "      <td>2.699316</td>\n",
       "      <td>42</td>\n",
       "    </tr>\n",
       "  </tbody>\n",
       "</table>\n",
       "</div>"
      ],
      "text/plain": [
       "                numDays  Area\n",
       "Borough                      \n",
       "bronx          4.500459    42\n",
       "brooklyn       3.605757    42\n",
       "manhattan      3.279218    42\n",
       "queens         3.012365    42\n",
       "staten island  2.699316    42"
      ]
     },
     "execution_count": 239,
     "metadata": {},
     "output_type": "execute_result"
    }
   ],
   "source": [
    "borMean"
   ]
  },
  {
   "cell_type": "code",
   "execution_count": 7,
   "metadata": {
    "collapsed": false
   },
   "outputs": [
    {
     "data": {
      "text/html": [
       "<div>\n",
       "<table border=\"1\" class=\"dataframe\">\n",
       "  <thead>\n",
       "    <tr style=\"text-align: right;\">\n",
       "      <th></th>\n",
       "      <th>Incident Type</th>\n",
       "      <th>Location</th>\n",
       "      <th>Borough</th>\n",
       "      <th>Creation Date</th>\n",
       "      <th>Closed Date</th>\n",
       "      <th>Latitude</th>\n",
       "      <th>Longitude</th>\n",
       "    </tr>\n",
       "  </thead>\n",
       "  <tbody>\n",
       "    <tr>\n",
       "      <th>0</th>\n",
       "      <td>Administration-Other</td>\n",
       "      <td>NaN</td>\n",
       "      <td>Brooklyn</td>\n",
       "      <td>12/31/2015  11:52:18 PM</td>\n",
       "      <td>1/1/2016   1:32:08AM</td>\n",
       "      <td>NaN</td>\n",
       "      <td>NaN</td>\n",
       "    </tr>\n",
       "    <tr>\n",
       "      <th>1</th>\n",
       "      <td>Transportation-Train Subway</td>\n",
       "      <td>Marcy Ave &amp; Broadway</td>\n",
       "      <td>Brooklyn</td>\n",
       "      <td>12/31/2015  5:00:43 PM</td>\n",
       "      <td>1/2/2016   4:03:10AM</td>\n",
       "      <td>40.708426</td>\n",
       "      <td>-73.957904</td>\n",
       "    </tr>\n",
       "    <tr>\n",
       "      <th>2</th>\n",
       "      <td>Law Enforcement-Suspicious Package</td>\n",
       "      <td>435 Ocean Parkway</td>\n",
       "      <td>Brooklyn</td>\n",
       "      <td>12/30/2015  1:55:21 PM</td>\n",
       "      <td>12/30/2015   2:00:18PM</td>\n",
       "      <td>40.637832</td>\n",
       "      <td>-73.973045</td>\n",
       "    </tr>\n",
       "    <tr>\n",
       "      <th>3</th>\n",
       "      <td>Fire-Manhole</td>\n",
       "      <td>NaN</td>\n",
       "      <td>Bronx</td>\n",
       "      <td>12/29/2015  1:57:37 PM</td>\n",
       "      <td>12/30/2015   2:47:14AM</td>\n",
       "      <td>40.733883</td>\n",
       "      <td>-74.031169</td>\n",
       "    </tr>\n",
       "    <tr>\n",
       "      <th>4</th>\n",
       "      <td>Fire-2nd Alarm</td>\n",
       "      <td>347 East 84 Street</td>\n",
       "      <td>Manhattan</td>\n",
       "      <td>12/28/2015  6:52:05 PM</td>\n",
       "      <td>12/28/2015   8:40:08PM</td>\n",
       "      <td>40.776093</td>\n",
       "      <td>-73.951568</td>\n",
       "    </tr>\n",
       "  </tbody>\n",
       "</table>\n",
       "</div>"
      ],
      "text/plain": [
       "                        Incident Type              Location    Borough  \\\n",
       "0                Administration-Other                   NaN   Brooklyn   \n",
       "1         Transportation-Train Subway  Marcy Ave & Broadway   Brooklyn   \n",
       "2  Law Enforcement-Suspicious Package     435 Ocean Parkway   Brooklyn   \n",
       "3                        Fire-Manhole                   NaN      Bronx   \n",
       "4                      Fire-2nd Alarm    347 East 84 Street  Manhattan   \n",
       "\n",
       "             Creation Date              Closed Date   Latitude  Longitude  \n",
       "0  12/31/2015  11:52:18 PM    1/1/2016   1:32:08AM         NaN        NaN  \n",
       "1   12/31/2015  5:00:43 PM    1/2/2016   4:03:10AM   40.708426 -73.957904  \n",
       "2   12/30/2015  1:55:21 PM  12/30/2015   2:00:18PM   40.637832 -73.973045  \n",
       "3   12/29/2015  1:57:37 PM  12/30/2015   2:47:14AM   40.733883 -74.031169  \n",
       "4   12/28/2015  6:52:05 PM  12/28/2015   8:40:08PM   40.776093 -73.951568  "
      ]
     },
     "execution_count": 7,
     "metadata": {},
     "output_type": "execute_result"
    }
   ],
   "source": [
    "responses.head()"
   ]
  },
  {
   "cell_type": "code",
   "execution_count": 8,
   "metadata": {
    "collapsed": false
   },
   "outputs": [
    {
     "name": "stdout",
     "output_type": "stream",
     "text": [
      "<class 'pandas.core.frame.DataFrame'>\n",
      "RangeIndex: 2524 entries, 0 to 2523\n",
      "Data columns (total 7 columns):\n",
      "Incident Type    2524 non-null object\n",
      "Location         2295 non-null object\n",
      "Borough          2524 non-null object\n",
      "Creation Date    2524 non-null object\n",
      "Closed Date      2524 non-null object\n",
      "Latitude         2238 non-null float64\n",
      "Longitude        2238 non-null float64\n",
      "dtypes: float64(2), object(5)\n",
      "memory usage: 138.1+ KB\n"
     ]
    }
   ],
   "source": [
    "responses.info()"
   ]
  },
  {
   "cell_type": "code",
   "execution_count": 9,
   "metadata": {
    "collapsed": true
   },
   "outputs": [],
   "source": [
    "df=responses.copy()"
   ]
  },
  {
   "cell_type": "code",
   "execution_count": 10,
   "metadata": {
    "collapsed": false
   },
   "outputs": [
    {
     "data": {
      "text/html": [
       "<div>\n",
       "<table border=\"1\" class=\"dataframe\">\n",
       "  <thead>\n",
       "    <tr style=\"text-align: right;\">\n",
       "      <th></th>\n",
       "      <th>Incident Type</th>\n",
       "      <th>Location</th>\n",
       "      <th>Borough</th>\n",
       "      <th>Creation Date</th>\n",
       "      <th>Closed Date</th>\n",
       "      <th>Latitude</th>\n",
       "      <th>Longitude</th>\n",
       "    </tr>\n",
       "  </thead>\n",
       "  <tbody>\n",
       "    <tr>\n",
       "      <th>0</th>\n",
       "      <td>Administration-Other</td>\n",
       "      <td>NaN</td>\n",
       "      <td>Brooklyn</td>\n",
       "      <td>12/31/2015  11:52:18 PM</td>\n",
       "      <td>1/1/2016   1:32:08AM</td>\n",
       "      <td>NaN</td>\n",
       "      <td>NaN</td>\n",
       "    </tr>\n",
       "    <tr>\n",
       "      <th>1</th>\n",
       "      <td>Transportation-Train Subway</td>\n",
       "      <td>Marcy Ave &amp; Broadway</td>\n",
       "      <td>Brooklyn</td>\n",
       "      <td>12/31/2015  5:00:43 PM</td>\n",
       "      <td>1/2/2016   4:03:10AM</td>\n",
       "      <td>40.708426</td>\n",
       "      <td>-73.957904</td>\n",
       "    </tr>\n",
       "    <tr>\n",
       "      <th>2</th>\n",
       "      <td>Law Enforcement-Suspicious Package</td>\n",
       "      <td>435 Ocean Parkway</td>\n",
       "      <td>Brooklyn</td>\n",
       "      <td>12/30/2015  1:55:21 PM</td>\n",
       "      <td>12/30/2015   2:00:18PM</td>\n",
       "      <td>40.637832</td>\n",
       "      <td>-73.973045</td>\n",
       "    </tr>\n",
       "    <tr>\n",
       "      <th>3</th>\n",
       "      <td>Fire-Manhole</td>\n",
       "      <td>NaN</td>\n",
       "      <td>Bronx</td>\n",
       "      <td>12/29/2015  1:57:37 PM</td>\n",
       "      <td>12/30/2015   2:47:14AM</td>\n",
       "      <td>40.733883</td>\n",
       "      <td>-74.031169</td>\n",
       "    </tr>\n",
       "    <tr>\n",
       "      <th>4</th>\n",
       "      <td>Fire-2nd Alarm</td>\n",
       "      <td>347 East 84 Street</td>\n",
       "      <td>Manhattan</td>\n",
       "      <td>12/28/2015  6:52:05 PM</td>\n",
       "      <td>12/28/2015   8:40:08PM</td>\n",
       "      <td>40.776093</td>\n",
       "      <td>-73.951568</td>\n",
       "    </tr>\n",
       "  </tbody>\n",
       "</table>\n",
       "</div>"
      ],
      "text/plain": [
       "                        Incident Type              Location    Borough  \\\n",
       "0                Administration-Other                   NaN   Brooklyn   \n",
       "1         Transportation-Train Subway  Marcy Ave & Broadway   Brooklyn   \n",
       "2  Law Enforcement-Suspicious Package     435 Ocean Parkway   Brooklyn   \n",
       "3                        Fire-Manhole                   NaN      Bronx   \n",
       "4                      Fire-2nd Alarm    347 East 84 Street  Manhattan   \n",
       "\n",
       "             Creation Date              Closed Date   Latitude  Longitude  \n",
       "0  12/31/2015  11:52:18 PM    1/1/2016   1:32:08AM         NaN        NaN  \n",
       "1   12/31/2015  5:00:43 PM    1/2/2016   4:03:10AM   40.708426 -73.957904  \n",
       "2   12/30/2015  1:55:21 PM  12/30/2015   2:00:18PM   40.637832 -73.973045  \n",
       "3   12/29/2015  1:57:37 PM  12/30/2015   2:47:14AM   40.733883 -74.031169  \n",
       "4   12/28/2015  6:52:05 PM  12/28/2015   8:40:08PM   40.776093 -73.951568  "
      ]
     },
     "execution_count": 10,
     "metadata": {},
     "output_type": "execute_result"
    }
   ],
   "source": [
    "df.head()"
   ]
  },
  {
   "cell_type": "code",
   "execution_count": null,
   "metadata": {
    "collapsed": true
   },
   "outputs": [],
   "source": []
  }
 ],
 "metadata": {
  "kernelspec": {
   "display_name": "Python 2",
   "language": "python",
   "name": "python2"
  },
  "language_info": {
   "codemirror_mode": {
    "name": "ipython",
    "version": 2
   },
   "file_extension": ".py",
   "mimetype": "text/x-python",
   "name": "python",
   "nbconvert_exporter": "python",
   "pygments_lexer": "ipython2",
   "version": "2.7.11"
  }
 },
 "nbformat": 4,
 "nbformat_minor": 0
}
