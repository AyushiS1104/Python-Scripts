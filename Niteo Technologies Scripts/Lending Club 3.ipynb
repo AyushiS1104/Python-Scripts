{
 "cells": [
  {
   "cell_type": "code",
   "execution_count": 41,
   "metadata": {
    "collapsed": true
   },
   "outputs": [],
   "source": [
    "import pandas as pd\n",
    "%matplotlib inline\n",
    "import seaborn as sns\n",
    "import re\n",
    "import numpy as np\n",
    "import matplotlib.pyplot as plt"
   ]
  },
  {
   "cell_type": "code",
   "execution_count": 42,
   "metadata": {
    "collapsed": false
   },
   "outputs": [],
   "source": [
    "date_cols = ['issue_d','earliest_cr_line','last_pymnt_d','next_pymnt_d','last_credit_pull_d']\n",
    "df = pd.read_csv('../Niteo/Lending/loan.csv/loan.csv',parse_dates=date_cols)"
   ]
  },
  {
   "cell_type": "code",
   "execution_count": 43,
   "metadata": {
    "collapsed": true
   },
   "outputs": [],
   "source": [
    "df1=df.copy()"
   ]
  },
  {
   "cell_type": "code",
   "execution_count": 44,
   "metadata": {
    "collapsed": true
   },
   "outputs": [],
   "source": [
    "relevant_cols = ['id','member_id','loan_amnt','term','installment',\\\n",
    "                'emp_title','emp_length','home_ownership','annual_inc',\\\n",
    "                'loan_status','purpose','zip_code','addr_state',\\\n",
    "                'dti','delinq_2yrs','earliest_cr_line','inq_last_6mths',\\\n",
    "                'open_acc','pub_rec','revol_bal','revol_util','total_acc']"
   ]
  },
  {
   "cell_type": "code",
   "execution_count": 45,
   "metadata": {
    "collapsed": false
   },
   "outputs": [],
   "source": [
    "df = df[relevant_cols]"
   ]
  },
  {
   "cell_type": "code",
   "execution_count": 46,
   "metadata": {
    "collapsed": true
   },
   "outputs": [],
   "source": [
    "#Filter for Sub Grade C1\n",
    "compl_loan = [loan for loan in df.loan_status.value_counts().index if loan not\n",
    "              in \\\n",
    "                      ['Current','Issued','Does not meet the credit policy. Status:Fully Paid']]\n",
    "df = df[df.loan_status.isin(compl_loan)]"
   ]
  },
  {
   "cell_type": "code",
   "execution_count": 47,
   "metadata": {
    "collapsed": false
   },
   "outputs": [],
   "source": [
    "default_loans = [loan for loan in df.loan_status.unique() if loan not in ['Fully Paid']]"
   ]
  },
  {
   "cell_type": "code",
   "execution_count": 48,
   "metadata": {
    "collapsed": true
   },
   "outputs": [],
   "source": [
    "df.loan_status = df.loan_status.apply(lambda x:'Default' if x in default_loans else 'Fully Paid')"
   ]
  },
  {
   "cell_type": "code",
   "execution_count": 49,
   "metadata": {
    "collapsed": false
   },
   "outputs": [
    {
     "data": {
      "text/plain": [
       "Fully Paid    207723\n",
       "Default        67429\n",
       "Name: loan_status, dtype: int64"
      ]
     },
     "execution_count": 49,
     "metadata": {},
     "output_type": "execute_result"
    }
   ],
   "source": [
    "df.loan_status.value_counts()"
   ]
  },
  {
   "cell_type": "code",
   "execution_count": 50,
   "metadata": {
    "collapsed": false
   },
   "outputs": [
    {
     "data": {
      "text/plain": [
       "emp_title           15280\n",
       "delinq_2yrs             3\n",
       "earliest_cr_line        3\n",
       "inq_last_6mths          3\n",
       "open_acc                3\n",
       "pub_rec                 3\n",
       "revol_util            219\n",
       "total_acc               3\n",
       "dtype: int64"
      ]
     },
     "execution_count": 50,
     "metadata": {},
     "output_type": "execute_result"
    }
   ],
   "source": [
    "#Missing Values Treatment\n",
    "df.isnull().sum()[df.isnull().sum()>0]"
   ]
  },
  {
   "cell_type": "code",
   "execution_count": 51,
   "metadata": {
    "collapsed": false
   },
   "outputs": [
    {
     "data": {
      "text/plain": [
       "(275152, 22)"
      ]
     },
     "execution_count": 51,
     "metadata": {},
     "output_type": "execute_result"
    }
   ],
   "source": [
    "df.shape"
   ]
  },
  {
   "cell_type": "code",
   "execution_count": 52,
   "metadata": {
    "collapsed": false
   },
   "outputs": [],
   "source": [
    "df.emp_title.fillna('Unknown',inplace=True)\n",
    "df.revol_util.fillna(df.revol_util.mean(),inplace=True)"
   ]
  },
  {
   "cell_type": "code",
   "execution_count": 53,
   "metadata": {
    "collapsed": true
   },
   "outputs": [],
   "source": [
    "df = df.dropna()"
   ]
  },
  {
   "cell_type": "code",
   "execution_count": 54,
   "metadata": {
    "collapsed": false
   },
   "outputs": [
    {
     "data": {
      "text/plain": [
       "Series([], dtype: int64)"
      ]
     },
     "execution_count": 54,
     "metadata": {},
     "output_type": "execute_result"
    }
   ],
   "source": [
    "df.isnull().sum()[df.isnull().sum()>0]"
   ]
  },
  {
   "cell_type": "code",
   "execution_count": 55,
   "metadata": {
    "collapsed": false
   },
   "outputs": [
    {
     "data": {
      "text/plain": [
       "debt_consolidation    162372\n",
       "credit_card            54005\n",
       "home_improvement       16213\n",
       "other                  15501\n",
       "major_purchase          6685\n",
       "small_business          5156\n",
       "car                     3794\n",
       "medical                 3089\n",
       "moving                  2210\n",
       "wedding                 1979\n",
       "house                   1783\n",
       "vacation                1720\n",
       "educational              357\n",
       "renewable_energy         285\n",
       "Name: purpose, dtype: int64"
      ]
     },
     "execution_count": 55,
     "metadata": {},
     "output_type": "execute_result"
    }
   ],
   "source": [
    "df.purpose.value_counts()"
   ]
  },
  {
   "cell_type": "code",
   "execution_count": 56,
   "metadata": {
    "collapsed": false
   },
   "outputs": [
    {
     "data": {
      "text/plain": [
       "Index([u'id', u'member_id', u'loan_amnt', u'term', u'installment',\n",
       "       u'emp_title', u'emp_length', u'home_ownership', u'annual_inc',\n",
       "       u'loan_status', u'purpose', u'zip_code', u'addr_state', u'dti',\n",
       "       u'delinq_2yrs', u'earliest_cr_line', u'inq_last_6mths', u'open_acc',\n",
       "       u'pub_rec', u'revol_bal', u'revol_util', u'total_acc'],\n",
       "      dtype='object')"
      ]
     },
     "execution_count": 56,
     "metadata": {},
     "output_type": "execute_result"
    }
   ],
   "source": [
    "#Feature Engineering\n",
    "df.columns"
   ]
  },
  {
   "cell_type": "code",
   "execution_count": 57,
   "metadata": {
    "collapsed": true
   },
   "outputs": [],
   "source": [
    "df.zip_code=df.zip_code.apply(lambda x:x[:-2])"
   ]
  },
  {
   "cell_type": "code",
   "execution_count": 58,
   "metadata": {
    "collapsed": true
   },
   "outputs": [],
   "source": [
    "df.term = df.term.apply(lambda x:x[:3]).astype(int)"
   ]
  },
  {
   "cell_type": "code",
   "execution_count": 59,
   "metadata": {
    "collapsed": false
   },
   "outputs": [],
   "source": [
    "df.emp_length = df.emp_length.str.replace('n/a','0')\n",
    "df.emp_length = df.emp_length.apply(lambda x:re.findall(r'[0-9]+',x)[0]).astype(int)"
   ]
  },
  {
   "cell_type": "code",
   "execution_count": 60,
   "metadata": {
    "collapsed": true
   },
   "outputs": [],
   "source": [
    "df.emp_length = df.emp_length.replace(0,df.emp_length.mean())"
   ]
  },
  {
   "cell_type": "code",
   "execution_count": 61,
   "metadata": {
    "collapsed": true
   },
   "outputs": [],
   "source": [
    "    #Normalize Annual Income\n",
    "df['log_annual_inc']=np.log(df.annual_inc)"
   ]
  },
  {
   "cell_type": "code",
   "execution_count": 62,
   "metadata": {
    "collapsed": false
   },
   "outputs": [],
   "source": [
    "df['earliest_cr_line_year']=df.earliest_cr_line.dt.year\n",
    "df['earliest_cr_line_month']=df.earliest_cr_line.dt.month\n",
    "df.drop('earliest_cr_line',inplace=True,axis=1)"
   ]
  },
  {
   "cell_type": "code",
   "execution_count": 67,
   "metadata": {
    "collapsed": false
   },
   "outputs": [],
   "source": [
    "df.to_csv('../Niteo/Lending_Clean.csv')"
   ]
  },
  {
   "cell_type": "code",
   "execution_count": 23,
   "metadata": {
    "collapsed": true
   },
   "outputs": [],
   "source": [
    "#Model Building\n",
    "from sklearn.tree import DecisionTreeClassifier, ExtraTreeClassifier\n",
    "from sklearn.linear_model import LogisticRegression\n",
    "from sklearn.naive_bayes import MultinomialNB,GaussianNB\n",
    "from sklearn.metrics import accuracy_score,classification_report,confusion_matrix\n",
    "from sklearn.ensemble import BaggingClassifier,ExtraTreesClassifier,GradientBoostingClassifier\n",
    "from sklearn.ensemble import RandomForestClassifier\n",
    "from sklearn.cross_validation import cross_val_score,train_test_split\n",
    "from sklearn.preprocessing import LabelEncoder\n",
    "from sklearn.multiclass import OneVsRestClassifier,OneVsOneClassifier\n",
    "from sklearn.svm import LinearSVC,SVC\n",
    "from sklearn.metrics import roc_auc_score,roc_curve\n",
    "from sklearn.grid_search import GridSearchCV"
   ]
  },
  {
   "cell_type": "code",
   "execution_count": 24,
   "metadata": {
    "collapsed": false
   },
   "outputs": [
    {
     "name": "stdout",
     "output_type": "stream",
     "text": [
      "['id', 'member_id', 'loan_amnt', 'term', 'installment', 'emp_title', 'emp_length', 'home_ownership', 'annual_inc', 'loan_status', 'purpose', 'zip_code', 'addr_state', 'dti', 'delinq_2yrs', 'inq_last_6mths', 'open_acc', 'pub_rec', 'revol_bal', 'revol_util', 'total_acc', 'log_annual_inc', 'earliest_cr_line_year', 'earliest_cr_line_month']\n"
     ]
    }
   ],
   "source": [
    "print list(df.columns)"
   ]
  },
  {
   "cell_type": "code",
   "execution_count": 25,
   "metadata": {
    "collapsed": true
   },
   "outputs": [],
   "source": [
    "features = ['installment','emp_title','emp_length',\\\n",
    "           'home_ownership','open_acc','purpose','zip_code','addr_state',\\\n",
    "           'dti','delinq_2yrs','inq_last_6mths','pub_rec','revol_bal',\\\n",
    "           'revol_util','total_acc','log_annual_inc','earliest_cr_line_year',\\\n",
    "           'earliest_cr_line_month']"
   ]
  },
  {
   "cell_type": "code",
   "execution_count": 26,
   "metadata": {
    "collapsed": true
   },
   "outputs": [],
   "source": [
    "#Create Target var to 0 and 1\n",
    "df.loan_status=df.loan_status.map({'Fully Paid':0,'Default':1})"
   ]
  },
  {
   "cell_type": "code",
   "execution_count": 27,
   "metadata": {
    "collapsed": false
   },
   "outputs": [
    {
     "data": {
      "text/plain": [
       "0    207723\n",
       "1     67426\n",
       "Name: loan_status, dtype: int64"
      ]
     },
     "execution_count": 27,
     "metadata": {},
     "output_type": "execute_result"
    }
   ],
   "source": [
    "df.loan_status.value_counts()"
   ]
  },
  {
   "cell_type": "code",
   "execution_count": 28,
   "metadata": {
    "collapsed": false
   },
   "outputs": [],
   "source": [
    "#Balance Dataset\n",
    "df = pd.concat([df[df.loan_status==0].sample(70000),df[df.loan_status==1]])"
   ]
  },
  {
   "cell_type": "code",
   "execution_count": 29,
   "metadata": {
    "collapsed": false
   },
   "outputs": [],
   "source": [
    "X=df[features]\n",
    "y=df.loan_status"
   ]
  },
  {
   "cell_type": "code",
   "execution_count": 35,
   "metadata": {
    "collapsed": false
   },
   "outputs": [
    {
     "name": "stdout",
     "output_type": "stream",
     "text": [
      "Label Encoding...\n",
      "emp_title\n"
     ]
    },
    {
     "name": "stderr",
     "output_type": "stream",
     "text": [
      "C:\\Users\\amuthiyan\\Anaconda2\\lib\\site-packages\\ipykernel\\__main__.py:8: SettingWithCopyWarning: \n",
      "A value is trying to be set on a copy of a slice from a DataFrame.\n",
      "Try using .loc[row_indexer,col_indexer] = value instead\n",
      "\n",
      "See the caveats in the documentation: http://pandas.pydata.org/pandas-docs/stable/indexing.html#indexing-view-versus-copy\n"
     ]
    },
    {
     "name": "stdout",
     "output_type": "stream",
     "text": [
      "home_ownership\n",
      "purpose\n",
      "zip_code\n",
      "addr_state\n"
     ]
    }
   ],
   "source": [
    "print \"Label Encoding...\"\n",
    "for var in X.columns:\n",
    "    if X[var].dtypes == object:\n",
    "        print var\n",
    "        lb=LabelEncoder()\n",
    "        full_var_data = X[var].astype('str')\n",
    "        lb.fit(np.array(full_var_data))\n",
    "        X[var]=lb.transform(np.array(X[var]).astype('str'))"
   ]
  },
  {
   "cell_type": "code",
   "execution_count": 36,
   "metadata": {
    "collapsed": false
   },
   "outputs": [],
   "source": [
    "X_train,X_test,y_train,y_test = train_test_split(X,y,test_size=0.2,random_state=17)"
   ]
  },
  {
   "cell_type": "code",
   "execution_count": 37,
   "metadata": {
    "collapsed": false
   },
   "outputs": [
    {
     "data": {
      "text/plain": [
       "0    55971\n",
       "1    53969\n",
       "Name: loan_status, dtype: int64"
      ]
     },
     "execution_count": 37,
     "metadata": {},
     "output_type": "execute_result"
    }
   ],
   "source": [
    "y_train.value_counts()"
   ]
  },
  {
   "cell_type": "code",
   "execution_count": 38,
   "metadata": {
    "collapsed": false
   },
   "outputs": [
    {
     "data": {
      "text/plain": [
       "0    14029\n",
       "1    13457\n",
       "Name: loan_status, dtype: int64"
      ]
     },
     "execution_count": 38,
     "metadata": {},
     "output_type": "execute_result"
    }
   ],
   "source": [
    "y_test.value_counts()"
   ]
  },
  {
   "cell_type": "code",
   "execution_count": 39,
   "metadata": {
    "collapsed": false
   },
   "outputs": [
    {
     "data": {
      "text/html": [
       "<div>\n",
       "<table border=\"1\" class=\"dataframe\">\n",
       "  <thead>\n",
       "    <tr style=\"text-align: right;\">\n",
       "      <th></th>\n",
       "      <th>installment</th>\n",
       "      <th>emp_title</th>\n",
       "      <th>emp_length</th>\n",
       "      <th>home_ownership</th>\n",
       "      <th>open_acc</th>\n",
       "      <th>purpose</th>\n",
       "      <th>zip_code</th>\n",
       "      <th>addr_state</th>\n",
       "      <th>dti</th>\n",
       "      <th>delinq_2yrs</th>\n",
       "      <th>inq_last_6mths</th>\n",
       "      <th>pub_rec</th>\n",
       "      <th>revol_bal</th>\n",
       "      <th>revol_util</th>\n",
       "      <th>total_acc</th>\n",
       "      <th>log_annual_inc</th>\n",
       "      <th>earliest_cr_line_year</th>\n",
       "      <th>earliest_cr_line_month</th>\n",
       "    </tr>\n",
       "  </thead>\n",
       "  <tbody>\n",
       "    <tr>\n",
       "      <th>377151</th>\n",
       "      <td>634.98</td>\n",
       "      <td>58859</td>\n",
       "      <td>5.0</td>\n",
       "      <td>5</td>\n",
       "      <td>6.0</td>\n",
       "      <td>2</td>\n",
       "      <td>94</td>\n",
       "      <td>34</td>\n",
       "      <td>8.19</td>\n",
       "      <td>0.0</td>\n",
       "      <td>6.0</td>\n",
       "      <td>0.0</td>\n",
       "      <td>12971.0</td>\n",
       "      <td>61.8</td>\n",
       "      <td>15.0</td>\n",
       "      <td>11.112448</td>\n",
       "      <td>1997</td>\n",
       "      <td>5</td>\n",
       "    </tr>\n",
       "    <tr>\n",
       "      <th>760929</th>\n",
       "      <td>790.82</td>\n",
       "      <td>41143</td>\n",
       "      <td>10.0</td>\n",
       "      <td>1</td>\n",
       "      <td>22.0</td>\n",
       "      <td>2</td>\n",
       "      <td>92</td>\n",
       "      <td>34</td>\n",
       "      <td>33.75</td>\n",
       "      <td>0.0</td>\n",
       "      <td>0.0</td>\n",
       "      <td>0.0</td>\n",
       "      <td>203683.0</td>\n",
       "      <td>44.9</td>\n",
       "      <td>33.0</td>\n",
       "      <td>11.695247</td>\n",
       "      <td>1974</td>\n",
       "      <td>6</td>\n",
       "    </tr>\n",
       "    <tr>\n",
       "      <th>35904</th>\n",
       "      <td>385.14</td>\n",
       "      <td>19160</td>\n",
       "      <td>1.0</td>\n",
       "      <td>1</td>\n",
       "      <td>11.0</td>\n",
       "      <td>2</td>\n",
       "      <td>44</td>\n",
       "      <td>6</td>\n",
       "      <td>11.76</td>\n",
       "      <td>0.0</td>\n",
       "      <td>2.0</td>\n",
       "      <td>0.0</td>\n",
       "      <td>54707.0</td>\n",
       "      <td>50.6</td>\n",
       "      <td>24.0</td>\n",
       "      <td>11.082143</td>\n",
       "      <td>1988</td>\n",
       "      <td>8</td>\n",
       "    </tr>\n",
       "    <tr>\n",
       "      <th>156828</th>\n",
       "      <td>349.43</td>\n",
       "      <td>23516</td>\n",
       "      <td>10.0</td>\n",
       "      <td>5</td>\n",
       "      <td>8.0</td>\n",
       "      <td>2</td>\n",
       "      <td>310</td>\n",
       "      <td>9</td>\n",
       "      <td>22.20</td>\n",
       "      <td>0.0</td>\n",
       "      <td>0.0</td>\n",
       "      <td>0.0</td>\n",
       "      <td>1995.0</td>\n",
       "      <td>39.9</td>\n",
       "      <td>17.0</td>\n",
       "      <td>10.308953</td>\n",
       "      <td>1999</td>\n",
       "      <td>2</td>\n",
       "    </tr>\n",
       "    <tr>\n",
       "      <th>202993</th>\n",
       "      <td>641.62</td>\n",
       "      <td>63457</td>\n",
       "      <td>10.0</td>\n",
       "      <td>4</td>\n",
       "      <td>7.0</td>\n",
       "      <td>2</td>\n",
       "      <td>329</td>\n",
       "      <td>1</td>\n",
       "      <td>16.91</td>\n",
       "      <td>0.0</td>\n",
       "      <td>6.0</td>\n",
       "      <td>0.0</td>\n",
       "      <td>8024.0</td>\n",
       "      <td>47.2</td>\n",
       "      <td>17.0</td>\n",
       "      <td>11.225243</td>\n",
       "      <td>1986</td>\n",
       "      <td>9</td>\n",
       "    </tr>\n",
       "  </tbody>\n",
       "</table>\n",
       "</div>"
      ],
      "text/plain": [
       "        installment  emp_title  emp_length  home_ownership  open_acc  purpose  \\\n",
       "377151       634.98      58859         5.0               5       6.0        2   \n",
       "760929       790.82      41143        10.0               1      22.0        2   \n",
       "35904        385.14      19160         1.0               1      11.0        2   \n",
       "156828       349.43      23516        10.0               5       8.0        2   \n",
       "202993       641.62      63457        10.0               4       7.0        2   \n",
       "\n",
       "        zip_code  addr_state    dti  delinq_2yrs  inq_last_6mths  pub_rec  \\\n",
       "377151        94          34   8.19          0.0             6.0      0.0   \n",
       "760929        92          34  33.75          0.0             0.0      0.0   \n",
       "35904         44           6  11.76          0.0             2.0      0.0   \n",
       "156828       310           9  22.20          0.0             0.0      0.0   \n",
       "202993       329           1  16.91          0.0             6.0      0.0   \n",
       "\n",
       "        revol_bal  revol_util  total_acc  log_annual_inc  \\\n",
       "377151    12971.0        61.8       15.0       11.112448   \n",
       "760929   203683.0        44.9       33.0       11.695247   \n",
       "35904     54707.0        50.6       24.0       11.082143   \n",
       "156828     1995.0        39.9       17.0       10.308953   \n",
       "202993     8024.0        47.2       17.0       11.225243   \n",
       "\n",
       "        earliest_cr_line_year  earliest_cr_line_month  \n",
       "377151                   1997                       5  \n",
       "760929                   1974                       6  \n",
       "35904                    1988                       8  \n",
       "156828                   1999                       2  \n",
       "202993                   1986                       9  "
      ]
     },
     "execution_count": 39,
     "metadata": {},
     "output_type": "execute_result"
    }
   ],
   "source": [
    "X_test.head()"
   ]
  },
  {
   "cell_type": "code",
   "execution_count": null,
   "metadata": {
    "collapsed": false
   },
   "outputs": [],
   "source": [
    "svm = SVC()\n",
    "model=svm.fit(X_train,y_train)\n",
    "pred = model.predict(X_test)\n",
    "score = accuracy_score(pred,y_test)\n",
    "print score\n",
    "svm_class = classification_report(pred,y_test)\n",
    "print svm_class"
   ]
  },
  {
   "cell_type": "code",
   "execution_count": null,
   "metadata": {
    "collapsed": true
   },
   "outputs": [],
   "source": []
  }
 ],
 "metadata": {
  "kernelspec": {
   "display_name": "Python 2",
   "language": "python",
   "name": "python2"
  },
  "language_info": {
   "codemirror_mode": {
    "name": "ipython",
    "version": 2
   },
   "file_extension": ".py",
   "mimetype": "text/x-python",
   "name": "python",
   "nbconvert_exporter": "python",
   "pygments_lexer": "ipython2",
   "version": "2.7.11"
  }
 },
 "nbformat": 4,
 "nbformat_minor": 0
}
