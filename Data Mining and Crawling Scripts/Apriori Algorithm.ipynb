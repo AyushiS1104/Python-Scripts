{
 "cells": [
  {
   "cell_type": "code",
   "execution_count": 361,
   "metadata": {
    "collapsed": true
   },
   "outputs": [],
   "source": [
    "#Read the data into the program as a list of records\n",
    "def ReadIndex(filename):\n",
    "    file = open(filename,'r')\n",
    "    record_index = []\n",
    "    doc = file.readlines()\n",
    "    for line in doc:\n",
    "        line = line.strip('\\n ')\n",
    "        line_lst = line.split(' ')\n",
    "        record_index.append(line_lst)\n",
    "    return record_index"
   ]
  },
  {
   "cell_type": "code",
   "execution_count": 362,
   "metadata": {
    "collapsed": true
   },
   "outputs": [],
   "source": [
    "#Create a frequency index for each of the items\n",
    "def getOccIndex(record_index):\n",
    "    freq_index = {}\n",
    "    for record_num in range(len(record_index)):\n",
    "        for item in record_index[record_num]:\n",
    "            if item not in freq_index:\n",
    "                freq_index[item] = []\n",
    "                freq_index[item].append(record_num)\n",
    "            else:\n",
    "                freq_index[item].append(record_num)\n",
    "    return freq_index"
   ]
  },
  {
   "cell_type": "code",
   "execution_count": 363,
   "metadata": {
    "collapsed": true
   },
   "outputs": [],
   "source": [
    "#Creates an empty list to fill in with frequent itemsets\n",
    "def getFreqSets(num_terms):\n",
    "    freq_itemsets = []\n",
    "    for i in range(0,num_terms+1):\n",
    "        temp = []\n",
    "        freq_itemsets.append(temp)\n",
    "    return freq_itemsets"
   ]
  },
  {
   "cell_type": "code",
   "execution_count": 364,
   "metadata": {
    "collapsed": true
   },
   "outputs": [],
   "source": [
    "#Calculates the support of every itemset\n",
    "def GetSup(itemset,occ_index,d_sup_vals):\n",
    "    if tuple(itemset) in d_sup_vals:\n",
    "        return d_sup_vals[tuple(itemset)]\n",
    "    inv_lists = []\n",
    "    for term in itemset:\n",
    "        inv_lists.append(occ_index[term])\n",
    "    else:\n",
    "        sup = len(Intersect(inv_lists))\n",
    "        d_sup_vals[tuple(itemset)] = sup\n",
    "    return sup"
   ]
  },
  {
   "cell_type": "code",
   "execution_count": 365,
   "metadata": {
    "collapsed": true
   },
   "outputs": [],
   "source": [
    "#Returns the intersect of the terms of inv_lists\n",
    "def Intersect(inv_lists):\n",
    "    sect_terms = inv_lists[0]\n",
    "    for term in inv_lists:\n",
    "        sect_terms = set(sect_terms).intersection(term)\n",
    "    return sect_terms"
   ]
  },
  {
   "cell_type": "code",
   "execution_count": 366,
   "metadata": {
    "collapsed": true
   },
   "outputs": [],
   "source": [
    "#Determine if two sets need to be joined\n",
    "def NeedJoin(set1,set2):\n",
    "    for i in range(0,len(set1)-1):\n",
    "        if set1[i] != set2[i]:\n",
    "            return False\n",
    "    return True"
   ]
  },
  {
   "cell_type": "code",
   "execution_count": 367,
   "metadata": {
    "collapsed": true
   },
   "outputs": [],
   "source": [
    "#Joins two sets\n",
    "def Join(set1,set2):\n",
    "    set3 = list(set1)\n",
    "    set3.append(set2[-1])\n",
    "    return set3"
   ]
  },
  {
   "cell_type": "code",
   "execution_count": 368,
   "metadata": {
    "collapsed": true
   },
   "outputs": [],
   "source": [
    "def getCodeMap(code_filename):\n",
    "    code_map = {}\n",
    "    file = open(code_filename,'r')\n",
    "    codes = file.readlines()\n",
    "    for code in codes:\n",
    "        code = code.split(\" \")\n",
    "        code_map[code[1].strip(\"\\n\")] = code[0]\n",
    "    return code_map"
   ]
  },
  {
   "cell_type": "code",
   "execution_count": 369,
   "metadata": {
    "collapsed": true
   },
   "outputs": [],
   "source": [
    "def parseCodeMap(code_map):\n",
    "    item_codes = []\n",
    "    item_names = []\n",
    "    for name in code_map:\n",
    "        item_codes.append(code_map[name])\n",
    "        item_names.append(name)\n",
    "    return item_codes, item_names"
   ]
  },
  {
   "cell_type": "code",
   "execution_count": 375,
   "metadata": {},
   "outputs": [],
   "source": [
    "def getCleanIndex(unclean_index,item_codes,item_names,code_map):\n",
    "    clean_index = []\n",
    "    for record_num in range(len(unclean_index)):\n",
    "        #print(record)\n",
    "        #Split on ';' if needed\n",
    "        if len(unclean_index[record_num]) == 1:\n",
    "            if ';' in unclean_index[record_num][0]:\n",
    "                unclean_index[record_num] = unclean_index[record_num][0].strip(\"\\n\").split(';')[0:-1]\n",
    "                \n",
    "        #Replace item names with item codes\n",
    "        for item_num in range(len(unclean_index[record_num])):\n",
    "            if unclean_index[record_num][item_num] in code_map:\n",
    "                unclean_index[record_num][item_num] = code_map[unclean_index[record_num][item_num]]\n",
    "                \n",
    "        #Delete records with invalid item codes\n",
    "        num_invalid = 0\n",
    "        for item_num in range(len(unclean_index[record_num])):\n",
    "            if unclean_index[record_num][item_num] not in item_codes:\n",
    "                num_invalid += 1\n",
    "        if num_invalid == 0:\n",
    "            clean_index.append(unclean_index[record_num])\n",
    "        \n",
    "    return clean_index    "
   ]
  },
  {
   "cell_type": "code",
   "execution_count": 376,
   "metadata": {},
   "outputs": [
    {
     "name": "stdout",
     "output_type": "stream",
     "text": [
      "{'Avocados': 'P01', 'BakingPowder': 'P02', 'BakingSoda': 'P03', 'BrownieMix': 'P04', 'Catfish': 'P05', 'Crackers': 'P06', 'Fruit': 'P07', 'Glue': 'P08', 'GranolaBars': 'P09', 'HairGel': 'P10', 'IceCream': 'P11', 'InsectRepellent': 'P12', 'JuiceConcentrate': 'P13', 'Ketchup': 'P14', 'LipBalm': 'P15', 'MoisturizingLotion': 'P16', 'Non-stickSpray': 'P17', 'Notepad': 'P18', 'PeanutButter': 'P19', 'Pork': 'P20', 'Relish': 'P21', 'Shortening': 'P22', 'Shrimp': 'P23', 'SlicedBread': 'P24', 'SodaPop': 'P25', 'SteakSauce': 'P26'}\n"
     ]
    }
   ],
   "source": [
    "code_map = getCodeMap(\"codeprodmap.txt\")\n",
    "print(code_map)"
   ]
  },
  {
   "cell_type": "code",
   "execution_count": 377,
   "metadata": {},
   "outputs": [
    {
     "name": "stdout",
     "output_type": "stream",
     "text": [
      "['P01', 'P02', 'P03', 'P04', 'P05', 'P06', 'P07', 'P08', 'P09', 'P10', 'P11', 'P12', 'P13', 'P14', 'P15', 'P16', 'P17', 'P18', 'P19', 'P20', 'P21', 'P22', 'P23', 'P24', 'P25', 'P26']\n",
      "['Avocados', 'BakingPowder', 'BakingSoda', 'BrownieMix', 'Catfish', 'Crackers', 'Fruit', 'Glue', 'GranolaBars', 'HairGel', 'IceCream', 'InsectRepellent', 'JuiceConcentrate', 'Ketchup', 'LipBalm', 'MoisturizingLotion', 'Non-stickSpray', 'Notepad', 'PeanutButter', 'Pork', 'Relish', 'Shortening', 'Shrimp', 'SlicedBread', 'SodaPop', 'SteakSauce']\n"
     ]
    }
   ],
   "source": [
    "#Create list of codes and items\n",
    "item_codes, item_names = parseCodeMap(code_map)\n",
    "print(item_codes)\n",
    "print(item_names)"
   ]
  },
  {
   "cell_type": "code",
   "execution_count": 378,
   "metadata": {
    "scrolled": true
   },
   "outputs": [
    {
     "name": "stdout",
     "output_type": "stream",
     "text": [
      "[['AvocadosBakingPowder;Brownie;Catfish;Crackers;Fruit;HairGel;JuiceConcentrate;Non-stickSpray;Notepad;Pork;SodaPop;'], ['Avocados;BakingPowder;BrownieMix;Catfish;Crackers;Fruit;HairGel;JuiceConcentrate;Non-stickSpray;Notepad;Pork;SodaPop;'], ['Avocados;BakingPowder;BrownieMix;GranolaBars;HairGel;JuiceConcentrate;Ketchup;MoisturizingLotion;Non-stickSpray;Notepad;PeanutButter;Pork;'], ['Avocados;BakingPowder;IceCream;Ketchup;LipBalm;MoisturizingLotion;Notepad;Relish;Shortening;Shrimp;SlicedBread;'], ['Avocados;BakingStuff;BrownieMix;GranolaBars;HairGel;JuiceConcentrate;Ketchup;MoisturizingLotion;Non-stickSpray;Notepad;PeanutButter;Park;'], ['Avocados;Fruit;GranolaBars;JuiceConcentrate;LipBalm;Relish;Shortening;'], ['Avocados;FruitMango;GranolaTars;JuiceConcentrate;LipBalm;Relish;Shortening;'], ['Avocados;PI7;IceCream;Ketchup;LipBalm;MoisturizingLotion;Notepad;Relish;Shortening;Shrimp;SlicedBread;'], ['BakingPowder;BakingSoda;Glue;Ketchup;LipBalm;MoisturizingLotion;PeanutButter;Relish;Shrimp;SteakSauce;'], ['BakingPowder;BakingSoda;Goo;Ketchup;LipBalm;Glue;MoisturizingLotion;PeanutButter;Relish;Shrimp;SteakSauce;'], ['BakingPowder;BrownieMix;Fruit;GranolaBars;Fruit;HairGel;InsectRepellent;JuiceConcentrate;Non-stickSpray;Pork;Relish;CornBread;SodaPop;'], ['BakingPowder;BrownieMix;Fruit;GranolaBars;HairGel;InsectRepellent;JuiceConcentrate;Non-stickSpray;Pork;Relish;SlicedBread;SodaPop;'], ['BakingPowder;Notebad;'], ['BakingPowder;Notepad;'], ['BakingPowder;Shrimp;'], ['BakingPowder;ShrimpBoat;'], ['BakingSoda;CatfishGlue;HairGel;IceCream;Ketchup;P99;'], ['BakingSoda;Catfish;Glue;HairGel;IceCream;Ketchup;SteakSauce;'], ['BakingSoda;HairGel;InsectRepellent;Ketchup;Non-stickSpray;SodaPop;SteakSauce;'], ['BakingSoda;HairGoo;InsectRepellent;Ketchup;Non-stickSpray;SodaPop;SteakSauce;'], ['BrownieMix;Catfish;Fruit;Glue;GranolaBars;InsectRepellent;Notepad;PeanutButter;Seapepper;Shortening;'], ['BrownieMix;Catfish;Fruit;Glue;GranolaBars;InsectRepellent;Notepad;PeanutButter;Shortening;'], ['Fruit;MoisturizingLotion;Non-stickSpray;Shrimp;'], ['Fruit;MoisturizingPotion;Non-stickSpray;Shrimp;'], ['GranolaBars;InsectRepellent;PeanutButter;'], ['GranolaBars;InsectRepellentPeanutButter;'], ['HairGel;InsectRepellent;Relish;Shortening;SlicedBread;SodaPop;'], ['HairGoo;InsectSpray;Relish;Shortening;SlicedBread;SodaPop;'], ['Non-stickSpray;PeanutBother;SlicedBread;'], ['Non-stickSpray;PeanutButter;SlicedBread;'], ['P01', 'P02', 'P07', 'P08', 'P19', 'P1', 'P22', 'P23', 'P26'], ['P01', 'P02', 'P07', 'P08', 'P19', 'P21', 'P22', 'P23', 'P26'], ['P01', 'P03', 'P04', 'P05', 'P10', 'P15', 'P16', 'P17', 'P18', 'P19', 'P20', 'P24'], ['P01', 'P03', 'P04', 'P05P10', 'P15', 'P16', 'P17', 'P18', 'P19', 'P20', 'P24'], ['P01', 'P03', 'P06', 'P06', 'P09', 'P13', 'P18', 'P20', 'P23', 'P24', 'P25', 'P26', 'Pw3'], ['P01', 'P03', 'P06', 'P08', 'P09', 'P13', 'P18', 'P20', 'P23', 'P24', 'P25', 'P26'], ['P02', 'P06', 'P17', 'P18', 'P20', 'P21', 'P25', 'P26'], ['P02', 'P06', 'P17', 'P18', 'P20', 'P21', 'P25', 'P26', 'Grapes'], ['P02', 'P07', 'P16', 'P20'], ['P02', 'P07', 'P16', 'Pp20', 'P07'], ['P02', 'P17', 'P22', 'P24'], ['P02', 'PI7', 'P22', 'P2t'], ['P03', 'P04', 'P06', 'P07', 'P08', 'P17', 'P20', 'P21', 'P23'], ['P03', 'P05', 'P08', 'P12', 'P13', 'P14', 'P16', 'P18', 'P19', 'P21', 'P22', 'P24', 'P26'], ['P03', 'P05', 'P08', 'P12', 'P13', 'P14', 'P66', 'P18', 'P19', 'P21', 'P22', 'P24', 'P26'], ['P03', 'P08', 'P10', 'P11', 'P14', 'P18', 'P20', 'P22', 'P23'], ['P03', 'P08', 'Pl0', 'P11', 'P14', 'P18', 'P20', 'P22', 'Q23'], ['P03', 'P11', 'P14', 'P17', 'F23'], ['P03', 'P11', 'P14', 'P17', 'P23'], ['P03', 'P4', 'P06P07', 'P08', 'P17', 'P20', 'P21', 'P23'], ['P04', 'P07', 'P11', 'P12', 'P18', 'P19', 'P26'], ['P04', 'P07P11', 'P12', 'P18', 'P19', 'P26'], ['P05', 'P09', 'P111', 'P12', 'P17', 'P23', 'P26'], ['P05', 'P09', 'P11', 'P12', 'P17', 'P23', 'P26'], ['P06', 'P09', 'P11', 'P19', 'P21'], ['P06', 'P13', 'P21'], ['P06', 'P13P21'], ['P09', 'P10', 'P26'], ['P09', 'P10', 'P26', 'Apples'], ['P6', 'P09', 'P11', 'P19', 'P21']]\n"
     ]
    }
   ],
   "source": [
    "unclean_index = ReadIndex('trans_unclean.txt')"
   ]
  },
  {
   "cell_type": "code",
   "execution_count": 379,
   "metadata": {},
   "outputs": [
    {
     "name": "stdout",
     "output_type": "stream",
     "text": [
      "[['P01', 'P02', 'P04', 'P05', 'P06', 'P07', 'P10', 'P13', 'P17', 'P18', 'P20', 'P25'], ['P01', 'P02', 'P04', 'P09', 'P10', 'P13', 'P14', 'P16', 'P17', 'P18', 'P19', 'P20'], ['P01', 'P02', 'P11', 'P14', 'P15', 'P16', 'P18', 'P21', 'P22', 'P23', 'P24'], ['P01', 'P07', 'P09', 'P13', 'P15', 'P21', 'P22'], ['P02', 'P03', 'P08', 'P14', 'P15', 'P16', 'P19', 'P21', 'P23', 'P26'], ['P02', 'P04', 'P07', 'P09', 'P10', 'P12', 'P13', 'P17', 'P20', 'P21', 'P24', 'P25'], ['P02', 'P18'], ['P02', 'P23'], ['P03', 'P05', 'P08', 'P10', 'P11', 'P14', 'P26'], ['P03', 'P10', 'P12', 'P14', 'P17', 'P25', 'P26'], ['P04', 'P05', 'P07', 'P08', 'P09', 'P12', 'P18', 'P19', 'P22'], ['P07', 'P16', 'P17', 'P23'], ['P09', 'P12', 'P19'], ['P10', 'P12', 'P21', 'P22', 'P24', 'P25'], ['P17', 'P19', 'P24'], ['P01', 'P02', 'P07', 'P08', 'P19', 'P21', 'P22', 'P23', 'P26'], ['P01', 'P03', 'P04', 'P05', 'P10', 'P15', 'P16', 'P17', 'P18', 'P19', 'P20', 'P24'], ['P01', 'P03', 'P06', 'P08', 'P09', 'P13', 'P18', 'P20', 'P23', 'P24', 'P25', 'P26'], ['P02', 'P06', 'P17', 'P18', 'P20', 'P21', 'P25', 'P26'], ['P02', 'P07', 'P16', 'P20'], ['P02', 'P17', 'P22', 'P24'], ['P03', 'P04', 'P06', 'P07', 'P08', 'P17', 'P20', 'P21', 'P23'], ['P03', 'P05', 'P08', 'P12', 'P13', 'P14', 'P16', 'P18', 'P19', 'P21', 'P22', 'P24', 'P26'], ['P03', 'P08', 'P10', 'P11', 'P14', 'P18', 'P20', 'P22', 'P23'], ['P03', 'P11', 'P14', 'P17', 'P23'], ['P04', 'P07', 'P11', 'P12', 'P18', 'P19', 'P26'], ['P05', 'P09', 'P11', 'P12', 'P17', 'P23', 'P26'], ['P06', 'P09', 'P11', 'P19', 'P21'], ['P06', 'P13', 'P21'], ['P09', 'P10', 'P26']]\n"
     ]
    }
   ],
   "source": [
    "clean_index = getCleanIndex(unclean_index,item_codes,item_names,code_map)\n",
    "print(clean_index)"
   ]
  },
  {
   "cell_type": "code",
   "execution_count": 380,
   "metadata": {},
   "outputs": [
    {
     "name": "stdout",
     "output_type": "stream",
     "text": [
      "30\n"
     ]
    }
   ],
   "source": [
    "print(len(clean_index))"
   ]
  },
  {
   "cell_type": "code",
   "execution_count": null,
   "metadata": {
    "collapsed": true
   },
   "outputs": [],
   "source": []
  },
  {
   "cell_type": "code",
   "execution_count": null,
   "metadata": {
    "collapsed": true
   },
   "outputs": [],
   "source": []
  },
  {
   "cell_type": "code",
   "execution_count": 382,
   "metadata": {},
   "outputs": [
    {
     "name": "stdout",
     "output_type": "stream",
     "text": [
      "{'P01': [0, 1, 2, 3, 4, 5, 6], 'P02': [0, 1, 2, 3, 7, 8, 9, 10, 11, 12, 13], 'P04': [0, 1, 4, 8, 14, 20, 21], 'P05': [0, 4, 15, 16, 20, 22], 'P06': [0, 5, 9, 14, 23, 24], 'P07': [0, 2, 6, 8, 10, 14, 20, 21, 25], 'P10': [0, 1, 4, 8, 15, 17, 18, 26, 28], 'P13': [0, 1, 5, 6, 8, 16, 24], 'P17': [0, 1, 4, 8, 9, 11, 14, 18, 19, 22, 25, 29], 'P18': [0, 1, 3, 4, 5, 9, 12, 16, 17, 20, 21], 'P20': [0, 1, 4, 5, 8, 9, 10, 14, 17], 'P25': [0, 5, 8, 9, 18, 28], 'P09': [1, 5, 6, 8, 20, 22, 23, 26, 27], 'P14': [1, 3, 7, 15, 16, 17, 18, 19], 'P16': [1, 3, 4, 7, 10, 16, 25], 'P19': [1, 2, 4, 7, 16, 20, 21, 23, 27, 29], 'P08': [2, 5, 7, 14, 15, 16, 17, 20], 'P21': [2, 3, 6, 7, 8, 9, 14, 16, 23, 24, 28], 'P22': [2, 3, 6, 11, 16, 17, 20, 28], 'P23': [2, 3, 5, 7, 13, 14, 17, 19, 22, 25], 'P26': [2, 5, 7, 9, 15, 16, 18, 21, 22, 26], 'P11': [3, 15, 17, 19, 21, 22, 23], 'P15': [3, 4, 6, 7], 'P24': [3, 4, 5, 8, 11, 16, 28, 29], 'P03': [4, 5, 7, 14, 15, 16, 17, 18, 19], 'P12': [8, 16, 18, 20, 21, 22, 27, 28]}\n"
     ]
    }
   ],
   "source": [
    "record_index = ReadIndex('trans_clean.txt')\n",
    "\n",
    "#Get the occurrence based index\n",
    "occ_index = getOccIndex(record_index)\n",
    "\n",
    "#Get the total number of records and number of unique terms\n",
    "num_records = len(record_index)\n",
    "num_unique_items = len(occ_index)\n",
    "\n",
    "#get Minimunm support value\n",
    "min_sup = 2\n",
    "\n",
    "#Create a dictionary of itemsets and their support values\n",
    "d_sup_vals = {}\n",
    "\n",
    "print(occ_index)"
   ]
  },
  {
   "cell_type": "code",
   "execution_count": 229,
   "metadata": {},
   "outputs": [],
   "source": [
    "#Initialise empty set of frequent itemsets\n",
    "freq_itemsets = getFreqSets(num_unique_items)"
   ]
  },
  {
   "cell_type": "code",
   "execution_count": 230,
   "metadata": {},
   "outputs": [],
   "source": [
    "#Find all the frequent 1 itemsets\n",
    "for item in occ_index:\n",
    "    #print(item)\n",
    "    itemset = [item]\n",
    "    item_sup = GetSup(itemset,occ_index,d_sup_vals)\n",
    "    #print(item_sup)\n",
    "    if item_sup > min_sup:\n",
    "        freq_itemsets[0].append(itemset)\n",
    "        \n",
    "#print(freq_itemsets)"
   ]
  },
  {
   "cell_type": "code",
   "execution_count": 231,
   "metadata": {},
   "outputs": [
    {
     "name": "stdout",
     "output_type": "stream",
     "text": [
      "[[['P01'], ['P02'], ['P04'], ['P05'], ['P06'], ['P07'], ['P10'], ['P13'], ['P17'], ['P18'], ['P20'], ['P25'], ['P09'], ['P14'], ['P16'], ['P19'], ['P08'], ['P21'], ['P22'], ['P23'], ['P26'], ['P11'], ['P15'], ['P24'], ['P03'], ['P12']], [], [], [], [], [], [], [], [], [], [], [], [], [], [], [], [], [], [], [], [], [], [], [], [], [], []]\n"
     ]
    }
   ],
   "source": [
    "print(freq_itemsets)"
   ]
  },
  {
   "cell_type": "code",
   "execution_count": 232,
   "metadata": {},
   "outputs": [],
   "source": [
    "#Find frequent 2 to K-itemsets\n",
    "for k in range(1,num_unique_items+1):\n",
    "    prev_itemsets = freq_itemsets[k-1]\n",
    "    n = len(prev_itemsets)\n",
    "    for i in range(1,n-1):\n",
    "        for j in range(i+1,n):\n",
    "            set1 = prev_itemsets[i]\n",
    "            set2 = prev_itemsets[j]\n",
    "            if NeedJoin(set1,set2):\n",
    "                set3 = Join(set1,set2)\n",
    "                if GetSup(set3,occ_index,d_sup_vals)>min_sup:\n",
    "                    freq_itemsets[k].append(set3)\n",
    "    if len(freq_itemsets) == 1:\n",
    "        break"
   ]
  },
  {
   "cell_type": "code",
   "execution_count": 233,
   "metadata": {
    "scrolled": true
   },
   "outputs": [
    {
     "name": "stdout",
     "output_type": "stream",
     "text": [
      "[[['P01'], ['P02'], ['P04'], ['P05'], ['P06'], ['P07'], ['P10'], ['P13'], ['P17'], ['P18'], ['P20'], ['P25'], ['P09'], ['P14'], ['P16'], ['P19'], ['P08'], ['P21'], ['P22'], ['P23'], ['P26'], ['P11'], ['P15'], ['P24'], ['P03'], ['P12']], [['P02', 'P04'], ['P02', 'P07'], ['P02', 'P10'], ['P02', 'P13'], ['P02', 'P17'], ['P02', 'P18'], ['P02', 'P20'], ['P02', 'P25'], ['P02', 'P14'], ['P02', 'P16'], ['P02', 'P19'], ['P02', 'P21'], ['P02', 'P22'], ['P02', 'P23'], ['P02', 'P26'], ['P02', 'P24'], ['P04', 'P05'], ['P04', 'P07'], ['P04', 'P10'], ['P04', 'P13'], ['P04', 'P17'], ['P04', 'P18'], ['P04', 'P20'], ['P04', 'P09'], ['P04', 'P19'], ['P04', 'P12'], ['P05', 'P10'], ['P05', 'P17'], ['P05', 'P18'], ['P05', 'P19'], ['P05', 'P08'], ['P05', 'P26'], ['P05', 'P03'], ['P05', 'P12'], ['P06', 'P13'], ['P06', 'P17'], ['P06', 'P18'], ['P06', 'P20'], ['P06', 'P25'], ['P06', 'P21'], ['P07', 'P13'], ['P07', 'P17'], ['P07', 'P18'], ['P07', 'P20'], ['P07', 'P09'], ['P07', 'P19'], ['P07', 'P08'], ['P07', 'P21'], ['P07', 'P22'], ['P07', 'P23'], ['P07', 'P12'], ['P10', 'P13'], ['P10', 'P17'], ['P10', 'P18'], ['P10', 'P20'], ['P10', 'P25'], ['P10', 'P09'], ['P10', 'P14'], ['P10', 'P26'], ['P10', 'P24'], ['P10', 'P03'], ['P10', 'P12'], ['P13', 'P17'], ['P13', 'P18'], ['P13', 'P20'], ['P13', 'P25'], ['P13', 'P09'], ['P13', 'P21'], ['P13', 'P24'], ['P17', 'P18'], ['P17', 'P20'], ['P17', 'P25'], ['P17', 'P09'], ['P17', 'P14'], ['P17', 'P16'], ['P17', 'P19'], ['P17', 'P21'], ['P17', 'P23'], ['P17', 'P26'], ['P17', 'P24'], ['P17', 'P03'], ['P17', 'P12'], ['P18', 'P20'], ['P18', 'P25'], ['P18', 'P09'], ['P18', 'P14'], ['P18', 'P16'], ['P18', 'P19'], ['P18', 'P08'], ['P18', 'P21'], ['P18', 'P22'], ['P18', 'P23'], ['P18', 'P26'], ['P18', 'P11'], ['P18', 'P24'], ['P18', 'P03'], ['P18', 'P12'], ['P20', 'P25'], ['P20', 'P09'], ['P20', 'P16'], ['P20', 'P08'], ['P20', 'P21'], ['P20', 'P23'], ['P20', 'P24'], ['P20', 'P03'], ['P25', 'P21'], ['P25', 'P26'], ['P25', 'P24'], ['P25', 'P12'], ['P09', 'P19'], ['P09', 'P21'], ['P09', 'P26'], ['P09', 'P12'], ['P14', 'P16'], ['P14', 'P19'], ['P14', 'P08'], ['P14', 'P21'], ['P14', 'P22'], ['P14', 'P23'], ['P14', 'P26'], ['P14', 'P11'], ['P14', 'P03'], ['P16', 'P19'], ['P16', 'P21'], ['P16', 'P23'], ['P16', 'P15'], ['P16', 'P24'], ['P16', 'P03'], ['P19', 'P08'], ['P19', 'P21'], ['P19', 'P22'], ['P19', 'P26'], ['P19', 'P24'], ['P19', 'P03'], ['P19', 'P12'], ['P08', 'P21'], ['P08', 'P22'], ['P08', 'P23'], ['P08', 'P26'], ['P08', 'P03'], ['P21', 'P22'], ['P21', 'P23'], ['P21', 'P26'], ['P21', 'P15'], ['P21', 'P24'], ['P21', 'P03'], ['P21', 'P12'], ['P22', 'P23'], ['P22', 'P24'], ['P22', 'P12'], ['P23', 'P26'], ['P23', 'P11'], ['P23', 'P03'], ['P26', 'P11'], ['P26', 'P03'], ['P26', 'P12'], ['P11', 'P03'], ['P24', 'P03'], ['P24', 'P12']], [['P02', 'P07', 'P20'], ['P02', 'P10', 'P13'], ['P02', 'P10', 'P17'], ['P02', 'P10', 'P20'], ['P02', 'P13', 'P17'], ['P02', 'P13', 'P20'], ['P02', 'P17', 'P18'], ['P02', 'P17', 'P20'], ['P02', 'P17', 'P25'], ['P02', 'P18', 'P20'], ['P02', 'P20', 'P25'], ['P02', 'P14', 'P16'], ['P02', 'P21', 'P23'], ['P02', 'P21', 'P26'], ['P04', 'P05', 'P18'], ['P04', 'P07', 'P17'], ['P04', 'P07', 'P18'], ['P04', 'P07', 'P20'], ['P04', 'P07', 'P12'], ['P04', 'P10', 'P13'], ['P04', 'P10', 'P17'], ['P04', 'P10', 'P18'], ['P04', 'P10', 'P20'], ['P04', 'P13', 'P17'], ['P04', 'P13', 'P20'], ['P04', 'P17', 'P18'], ['P04', 'P17', 'P20'], ['P04', 'P18', 'P20'], ['P04', 'P18', 'P19'], ['P05', 'P18', 'P19'], ['P06', 'P17', 'P20'], ['P06', 'P18', 'P20'], ['P06', 'P18', 'P25'], ['P06', 'P20', 'P25'], ['P07', 'P17', 'P20'], ['P10', 'P13', 'P17'], ['P10', 'P13', 'P20'], ['P10', 'P17', 'P18'], ['P10', 'P17', 'P20'], ['P10', 'P17', 'P25'], ['P10', 'P18', 'P20'], ['P10', 'P25', 'P12'], ['P10', 'P14', 'P03'], ['P13', 'P17', 'P20'], ['P13', 'P18', 'P20'], ['P13', 'P20', 'P25'], ['P13', 'P20', 'P09'], ['P17', 'P18', 'P20'], ['P17', 'P20', 'P25'], ['P17', 'P20', 'P21'], ['P18', 'P20', 'P25'], ['P18', 'P20', 'P03'], ['P18', 'P14', 'P16'], ['P18', 'P14', 'P22'], ['P18', 'P16', 'P19'], ['P18', 'P16', 'P24'], ['P18', 'P19', 'P12'], ['P18', 'P08', 'P22'], ['P18', 'P08', 'P03'], ['P18', 'P24', 'P03'], ['P20', 'P08', 'P23'], ['P20', 'P08', 'P03'], ['P20', 'P23', 'P03'], ['P14', 'P16', 'P19'], ['P14', 'P16', 'P21'], ['P14', 'P08', 'P26'], ['P14', 'P08', 'P03'], ['P14', 'P23', 'P11'], ['P14', 'P23', 'P03'], ['P14', 'P26', 'P03'], ['P14', 'P11', 'P03'], ['P16', 'P19', 'P03'], ['P19', 'P08', 'P21'], ['P19', 'P08', 'P22'], ['P19', 'P08', 'P26'], ['P19', 'P21', 'P26'], ['P08', 'P21', 'P23'], ['P08', 'P21', 'P26'], ['P08', 'P21', 'P03'], ['P08', 'P23', 'P26'], ['P08', 'P23', 'P03'], ['P08', 'P26', 'P03'], ['P21', 'P22', 'P24'], ['P21', 'P24', 'P12']], [['P02', 'P10', 'P13', 'P17'], ['P02', 'P10', 'P13', 'P20'], ['P02', 'P10', 'P17', 'P20'], ['P02', 'P13', 'P17', 'P20'], ['P02', 'P17', 'P18', 'P20'], ['P02', 'P17', 'P20', 'P25'], ['P04', 'P07', 'P17', 'P20'], ['P04', 'P10', 'P13', 'P17'], ['P04', 'P10', 'P13', 'P20'], ['P04', 'P10', 'P17', 'P18'], ['P04', 'P10', 'P17', 'P20'], ['P04', 'P10', 'P18', 'P20'], ['P04', 'P13', 'P17', 'P20'], ['P04', 'P17', 'P18', 'P20'], ['P06', 'P18', 'P20', 'P25'], ['P10', 'P13', 'P17', 'P20'], ['P10', 'P17', 'P18', 'P20'], ['P20', 'P08', 'P23', 'P03'], ['P14', 'P08', 'P26', 'P03'], ['P19', 'P08', 'P21', 'P26']], [['P04', 'P10', 'P13', 'P17', 'P20'], ['P04', 'P10', 'P17', 'P18', 'P20']], [], [], [], [], [], [], [], [], [], [], [], [], [], [], [], [], [], [], [], [], [], []]\n"
     ]
    }
   ],
   "source": [
    "print(freq_itemsets)"
   ]
  },
  {
   "cell_type": "code",
   "execution_count": 239,
   "metadata": {},
   "outputs": [
    {
     "name": "stdout",
     "output_type": "stream",
     "text": [
      "{('P01',): 7, ('P02',): 11, ('P04',): 7, ('P05',): 6, ('P06',): 6, ('P07',): 9, ('P10',): 9, ('P13',): 7, ('P17',): 12, ('P18',): 11, ('P20',): 9, ('P25',): 6, ('P09',): 9, ('P14',): 8, ('P16',): 7, ('P19',): 10, ('P08',): 8, ('P21',): 11, ('P22',): 8, ('P23',): 10, ('P26',): 10, ('P11',): 7, ('P15',): 4, ('P24',): 8, ('P03',): 9, ('P12',): 8, ('P02', 'P04'): 3, ('P02', 'P05'): 1, ('P02', 'P06'): 2, ('P02', 'P07'): 4, ('P02', 'P10'): 3, ('P02', 'P13'): 3, ('P02', 'P17'): 5, ('P02', 'P18'): 5, ('P02', 'P20'): 5, ('P02', 'P25'): 3, ('P02', 'P09'): 2, ('P02', 'P14'): 3, ('P02', 'P16'): 4, ('P02', 'P19'): 3, ('P02', 'P08'): 2, ('P02', 'P21'): 5, ('P02', 'P22'): 3, ('P02', 'P23'): 4, ('P02', 'P26'): 3, ('P02', 'P11'): 1, ('P02', 'P15'): 2, ('P02', 'P24'): 3, ('P02', 'P03'): 1, ('P02', 'P12'): 1, ('P04', 'P05'): 3, ('P04', 'P06'): 2, ('P04', 'P07'): 5, ('P04', 'P10'): 4, ('P04', 'P13'): 3, ('P04', 'P17'): 5, ('P04', 'P18'): 5, ('P04', 'P20'): 5, ('P04', 'P25'): 2, ('P04', 'P09'): 3, ('P04', 'P14'): 1, ('P04', 'P16'): 2, ('P04', 'P19'): 4, ('P04', 'P08'): 2, ('P04', 'P21'): 2, ('P04', 'P22'): 1, ('P04', 'P23'): 1, ('P04', 'P26'): 1, ('P04', 'P11'): 1, ('P04', 'P15'): 1, ('P04', 'P24'): 2, ('P04', 'P03'): 2, ('P04', 'P12'): 3, ('P05', 'P06'): 1, ('P05', 'P07'): 2, ('P05', 'P10'): 3, ('P05', 'P13'): 2, ('P05', 'P17'): 3, ('P05', 'P18'): 4, ('P05', 'P20'): 2, ('P05', 'P25'): 1, ('P05', 'P09'): 2, ('P05', 'P14'): 2, ('P05', 'P16'): 2, ('P05', 'P19'): 3, ('P05', 'P08'): 3, ('P05', 'P21'): 1, ('P05', 'P22'): 2, ('P05', 'P23'): 1, ('P05', 'P26'): 3, ('P05', 'P11'): 2, ('P05', 'P15'): 1, ('P05', 'P24'): 2, ('P05', 'P03'): 3, ('P05', 'P12'): 3, ('P06', 'P07'): 2, ('P06', 'P10'): 1, ('P06', 'P13'): 3, ('P06', 'P17'): 3, ('P06', 'P18'): 3, ('P06', 'P20'): 4, ('P06', 'P25'): 3, ('P06', 'P09'): 2, ('P06', 'P14'): 0, ('P06', 'P16'): 0, ('P06', 'P19'): 1, ('P06', 'P08'): 2, ('P06', 'P21'): 4, ('P06', 'P22'): 0, ('P06', 'P23'): 2, ('P06', 'P26'): 2, ('P06', 'P11'): 1, ('P06', 'P15'): 0, ('P06', 'P24'): 1, ('P06', 'P03'): 2, ('P06', 'P12'): 0, ('P07', 'P10'): 2, ('P07', 'P13'): 3, ('P07', 'P17'): 4, ('P07', 'P18'): 3, ('P07', 'P20'): 4, ('P07', 'P25'): 2, ('P07', 'P09'): 3, ('P07', 'P14'): 0, ('P07', 'P16'): 2, ('P07', 'P19'): 3, ('P07', 'P08'): 3, ('P07', 'P21'): 4, ('P07', 'P22'): 3, ('P07', 'P23'): 3, ('P07', 'P26'): 2, ('P07', 'P11'): 1, ('P07', 'P15'): 1, ('P07', 'P24'): 1, ('P07', 'P03'): 1, ('P07', 'P12'): 3, ('P10', 'P13'): 3, ('P10', 'P17'): 5, ('P10', 'P18'): 4, ('P10', 'P20'): 5, ('P10', 'P25'): 4, ('P10', 'P09'): 3, ('P10', 'P14'): 4, ('P10', 'P16'): 2, ('P10', 'P19'): 2, ('P10', 'P08'): 2, ('P10', 'P21'): 2, ('P10', 'P22'): 2, ('P10', 'P23'): 1, ('P10', 'P26'): 3, ('P10', 'P11'): 2, ('P10', 'P15'): 1, ('P10', 'P24'): 3, ('P10', 'P03'): 4, ('P10', 'P12'): 3, ('P13', 'P17'): 3, ('P13', 'P18'): 4, ('P13', 'P20'): 4, ('P13', 'P25'): 3, ('P13', 'P09'): 4, ('P13', 'P14'): 2, ('P13', 'P16'): 2, ('P13', 'P19'): 2, ('P13', 'P08'): 2, ('P13', 'P21'): 4, ('P13', 'P22'): 2, ('P13', 'P23'): 1, ('P13', 'P26'): 2, ('P13', 'P11'): 0, ('P13', 'P15'): 1, ('P13', 'P24'): 3, ('P13', 'P03'): 2, ('P13', 'P12'): 2, ('P17', 'P18'): 4, ('P17', 'P20'): 6, ('P17', 'P25'): 4, ('P17', 'P09'): 3, ('P17', 'P14'): 3, ('P17', 'P16'): 3, ('P17', 'P19'): 3, ('P17', 'P08'): 1, ('P17', 'P21'): 3, ('P17', 'P22'): 1, ('P17', 'P23'): 4, ('P17', 'P26'): 3, ('P17', 'P11'): 2, ('P17', 'P15'): 1, ('P17', 'P24'): 4, ('P17', 'P03'): 4, ('P17', 'P12'): 3, ('P18', 'P20'): 6, ('P18', 'P25'): 3, ('P18', 'P09'): 3, ('P18', 'P14'): 4, ('P18', 'P16'): 4, ('P18', 'P19'): 5, ('P18', 'P08'): 4, ('P18', 'P21'): 3, ('P18', 'P22'): 4, ('P18', 'P23'): 3, ('P18', 'P26'): 4, ('P18', 'P11'): 3, ('P18', 'P15'): 2, ('P18', 'P24'): 4, ('P18', 'P03'): 4, ('P18', 'P12'): 3, ('P20', 'P25'): 4, ('P20', 'P09'): 3, ('P20', 'P14'): 2, ('P20', 'P16'): 3, ('P20', 'P19'): 2, ('P20', 'P08'): 3, ('P20', 'P21'): 3, ('P20', 'P22'): 1, ('P20', 'P23'): 3, ('P20', 'P26'): 2, ('P20', 'P11'): 1, ('P20', 'P15'): 1, ('P20', 'P24'): 3, ('P20', 'P03'): 4, ('P20', 'P12'): 1, ('P25', 'P09'): 2, ('P25', 'P14'): 1, ('P25', 'P16'): 0, ('P25', 'P19'): 0, ('P25', 'P08'): 1, ('P25', 'P21'): 3, ('P25', 'P22'): 1, ('P25', 'P23'): 1, ('P25', 'P26'): 3, ('P25', 'P11'): 0, ('P25', 'P15'): 0, ('P25', 'P24'): 3, ('P25', 'P03'): 2, ('P25', 'P12'): 3, ('P09', 'P14'): 1, ('P09', 'P16'): 1, ('P09', 'P19'): 4, ('P09', 'P08'): 2, ('P09', 'P21'): 3, ('P09', 'P22'): 2, ('P09', 'P23'): 2, ('P09', 'P26'): 3, ('P09', 'P11'): 2, ('P09', 'P15'): 1, ('P09', 'P24'): 2, ('P09', 'P03'): 1, ('P09', 'P12'): 4, ('P14', 'P16'): 4, ('P14', 'P19'): 3, ('P14', 'P08'): 4, ('P14', 'P21'): 3, ('P14', 'P22'): 3, ('P14', 'P23'): 4, ('P14', 'P26'): 4, ('P14', 'P11'): 4, ('P14', 'P15'): 2, ('P14', 'P24'): 2, ('P14', 'P03'): 6, ('P14', 'P12'): 2, ('P16', 'P19'): 4, ('P16', 'P08'): 2, ('P16', 'P21'): 3, ('P16', 'P22'): 2, ('P16', 'P23'): 3, ('P16', 'P26'): 2, ('P16', 'P11'): 1, ('P16', 'P15'): 3, ('P16', 'P24'): 3, ('P16', 'P03'): 3, ('P16', 'P12'): 1, ('P19', 'P08'): 4, ('P19', 'P21'): 4, ('P19', 'P22'): 3, ('P19', 'P23'): 2, ('P19', 'P26'): 4, ('P19', 'P11'): 2, ('P19', 'P15'): 2, ('P19', 'P24'): 3, ('P19', 'P03'): 3, ('P19', 'P12'): 4, ('P08', 'P21'): 4, ('P08', 'P22'): 4, ('P08', 'P23'): 5, ('P08', 'P26'): 5, ('P08', 'P11'): 2, ('P08', 'P15'): 1, ('P08', 'P24'): 2, ('P08', 'P03'): 6, ('P08', 'P12'): 2, ('P21', 'P22'): 5, ('P21', 'P23'): 4, ('P21', 'P26'): 4, ('P21', 'P11'): 2, ('P21', 'P15'): 3, ('P21', 'P24'): 4, ('P21', 'P03'): 3, ('P21', 'P12'): 3, ('P22', 'P23'): 3, ('P22', 'P26'): 2, ('P22', 'P11'): 2, ('P22', 'P15'): 2, ('P22', 'P24'): 4, ('P22', 'P03'): 2, ('P22', 'P12'): 3, ('P23', 'P26'): 4, ('P23', 'P11'): 4, ('P23', 'P15'): 2, ('P23', 'P24'): 2, ('P23', 'P03'): 5, ('P23', 'P12'): 1, ('P26', 'P11'): 3, ('P26', 'P15'): 1, ('P26', 'P24'): 2, ('P26', 'P03'): 5, ('P26', 'P12'): 4, ('P11', 'P15'): 1, ('P11', 'P24'): 1, ('P11', 'P03'): 3, ('P11', 'P12'): 2, ('P15', 'P24'): 2, ('P15', 'P03'): 2, ('P15', 'P12'): 0, ('P24', 'P03'): 3, ('P24', 'P12'): 3, ('P03', 'P12'): 2, ('P02', 'P07', 'P10'): 2, ('P02', 'P07', 'P13'): 2, ('P02', 'P07', 'P17'): 2, ('P02', 'P07', 'P18'): 1, ('P02', 'P07', 'P20'): 3, ('P02', 'P07', 'P25'): 2, ('P02', 'P07', 'P14'): 0, ('P02', 'P07', 'P16'): 1, ('P02', 'P07', 'P19'): 1, ('P02', 'P07', 'P21'): 2, ('P02', 'P07', 'P22'): 1, ('P02', 'P07', 'P23'): 1, ('P02', 'P07', 'P26'): 1, ('P02', 'P07', 'P24'): 1, ('P02', 'P10', 'P13'): 3, ('P02', 'P10', 'P17'): 3, ('P02', 'P10', 'P18'): 2, ('P02', 'P10', 'P20'): 3, ('P02', 'P10', 'P25'): 2, ('P02', 'P10', 'P14'): 1, ('P02', 'P10', 'P16'): 1, ('P02', 'P10', 'P19'): 1, ('P02', 'P10', 'P21'): 1, ('P02', 'P10', 'P22'): 0, ('P02', 'P10', 'P23'): 0, ('P02', 'P10', 'P26'): 0, ('P02', 'P10', 'P24'): 1, ('P02', 'P13', 'P17'): 3, ('P02', 'P13', 'P18'): 2, ('P02', 'P13', 'P20'): 3, ('P02', 'P13', 'P25'): 2, ('P02', 'P13', 'P14'): 1, ('P02', 'P13', 'P16'): 1, ('P02', 'P13', 'P19'): 1, ('P02', 'P13', 'P21'): 1, ('P02', 'P13', 'P22'): 0, ('P02', 'P13', 'P23'): 0, ('P02', 'P13', 'P26'): 0, ('P02', 'P13', 'P24'): 1, ('P02', 'P17', 'P18'): 3, ('P02', 'P17', 'P20'): 4, ('P02', 'P17', 'P25'): 3, ('P02', 'P17', 'P14'): 1, ('P02', 'P17', 'P16'): 1, ('P02', 'P17', 'P19'): 1, ('P02', 'P17', 'P21'): 2, ('P02', 'P17', 'P22'): 1, ('P02', 'P17', 'P23'): 0, ('P02', 'P17', 'P26'): 1, ('P02', 'P17', 'P24'): 2, ('P02', 'P18', 'P20'): 3, ('P02', 'P18', 'P25'): 2, ('P02', 'P18', 'P14'): 2, ('P02', 'P18', 'P16'): 2, ('P02', 'P18', 'P19'): 1, ('P02', 'P18', 'P21'): 2, ('P02', 'P18', 'P22'): 1, ('P02', 'P18', 'P23'): 1, ('P02', 'P18', 'P26'): 1, ('P02', 'P18', 'P24'): 1, ('P02', 'P20', 'P25'): 3, ('P02', 'P20', 'P14'): 1, ('P02', 'P20', 'P16'): 2, ('P02', 'P20', 'P19'): 1, ('P02', 'P20', 'P21'): 2, ('P02', 'P20', 'P22'): 0, ('P02', 'P20', 'P23'): 0, ('P02', 'P20', 'P26'): 1, ('P02', 'P20', 'P24'): 1, ('P02', 'P25', 'P14'): 0, ('P02', 'P25', 'P16'): 0, ('P02', 'P25', 'P19'): 0, ('P02', 'P25', 'P21'): 2, ('P02', 'P25', 'P22'): 0, ('P02', 'P25', 'P23'): 0, ('P02', 'P25', 'P26'): 1, ('P02', 'P25', 'P24'): 1, ('P02', 'P14', 'P16'): 3, ('P02', 'P14', 'P19'): 2, ('P02', 'P14', 'P21'): 2, ('P02', 'P14', 'P22'): 1, ('P02', 'P14', 'P23'): 2, ('P02', 'P14', 'P26'): 1, ('P02', 'P14', 'P24'): 1, ('P02', 'P16', 'P19'): 2, ('P02', 'P16', 'P21'): 2, ('P02', 'P16', 'P22'): 1, ('P02', 'P16', 'P23'): 2, ('P02', 'P16', 'P26'): 1, ('P02', 'P16', 'P24'): 1, ('P02', 'P19', 'P21'): 2, ('P02', 'P19', 'P22'): 1, ('P02', 'P19', 'P23'): 2, ('P02', 'P19', 'P26'): 2, ('P02', 'P19', 'P24'): 0, ('P02', 'P21', 'P22'): 2, ('P02', 'P21', 'P23'): 3, ('P02', 'P21', 'P26'): 3, ('P02', 'P21', 'P24'): 2, ('P02', 'P22', 'P23'): 2, ('P02', 'P22', 'P26'): 1, ('P02', 'P22', 'P24'): 2, ('P02', 'P23', 'P26'): 2, ('P02', 'P23', 'P24'): 1, ('P02', 'P26', 'P24'): 0, ('P04', 'P05', 'P07'): 2, ('P04', 'P05', 'P10'): 2, ('P04', 'P05', 'P13'): 1, ('P04', 'P05', 'P17'): 2, ('P04', 'P05', 'P18'): 3, ('P04', 'P05', 'P20'): 2, ('P04', 'P05', 'P09'): 1, ('P04', 'P05', 'P19'): 2, ('P04', 'P05', 'P12'): 1, ('P04', 'P07', 'P10'): 2, ('P04', 'P07', 'P13'): 2, ('P04', 'P07', 'P17'): 3, ('P04', 'P07', 'P18'): 3, ('P04', 'P07', 'P20'): 3, ('P04', 'P07', 'P09'): 2, ('P04', 'P07', 'P19'): 2, ('P04', 'P07', 'P12'): 3, ('P04', 'P10', 'P13'): 3, ('P04', 'P10', 'P17'): 4, ('P04', 'P10', 'P18'): 3, ('P04', 'P10', 'P20'): 4, ('P04', 'P10', 'P09'): 2, ('P04', 'P10', 'P19'): 2, ('P04', 'P10', 'P12'): 1, ('P04', 'P13', 'P17'): 3, ('P04', 'P13', 'P18'): 2, ('P04', 'P13', 'P20'): 3, ('P04', 'P13', 'P09'): 2, ('P04', 'P13', 'P19'): 1, ('P04', 'P13', 'P12'): 1, ('P04', 'P17', 'P18'): 3, ('P04', 'P17', 'P20'): 5, ('P04', 'P17', 'P09'): 2, ('P04', 'P17', 'P19'): 2, ('P04', 'P17', 'P12'): 1, ('P04', 'P18', 'P20'): 3, ('P04', 'P18', 'P09'): 2, ('P04', 'P18', 'P19'): 4, ('P04', 'P18', 'P12'): 2, ('P04', 'P20', 'P09'): 2, ('P04', 'P20', 'P19'): 2, ('P04', 'P20', 'P12'): 1, ('P04', 'P09', 'P19'): 2, ('P04', 'P09', 'P12'): 2, ('P04', 'P19', 'P12'): 2, ('P05', 'P10', 'P17'): 2, ('P05', 'P10', 'P18'): 2, ('P05', 'P10', 'P19'): 1, ('P05', 'P10', 'P08'): 1, ('P05', 'P10', 'P26'): 1, ('P05', 'P10', 'P03'): 2, ('P05', 'P10', 'P12'): 0, ('P05', 'P17', 'P18'): 2, ('P05', 'P17', 'P19'): 1, ('P05', 'P17', 'P08'): 0, ('P05', 'P17', 'P26'): 1, ('P05', 'P17', 'P03'): 1, ('P05', 'P17', 'P12'): 1, ('P05', 'P18', 'P19'): 3, ('P05', 'P18', 'P08'): 2, ('P05', 'P18', 'P26'): 1, ('P05', 'P18', 'P03'): 2, ('P05', 'P18', 'P12'): 2, ('P05', 'P19', 'P08'): 2, ('P05', 'P19', 'P26'): 1, ('P05', 'P19', 'P03'): 2, ('P05', 'P19', 'P12'): 2, ('P05', 'P08', 'P26'): 2, ('P05', 'P08', 'P03'): 2, ('P05', 'P08', 'P12'): 2, ('P05', 'P26', 'P03'): 2, ('P05', 'P26', 'P12'): 2, ('P05', 'P03', 'P12'): 1, ('P06', 'P13', 'P17'): 1, ('P06', 'P13', 'P18'): 2, ('P06', 'P13', 'P20'): 2, ('P06', 'P13', 'P25'): 2, ('P06', 'P13', 'P21'): 1, ('P06', 'P17', 'P18'): 2, ('P06', 'P17', 'P20'): 3, ('P06', 'P17', 'P25'): 2, ('P06', 'P17', 'P21'): 2, ('P06', 'P18', 'P20'): 3, ('P06', 'P18', 'P25'): 3, ('P06', 'P18', 'P21'): 1, ('P06', 'P20', 'P25'): 3, ('P06', 'P20', 'P21'): 2, ('P06', 'P25', 'P21'): 1, ('P07', 'P13', 'P17'): 2, ('P07', 'P13', 'P18'): 1, ('P07', 'P13', 'P20'): 2, ('P07', 'P13', 'P09'): 2, ('P07', 'P13', 'P19'): 0, ('P07', 'P13', 'P08'): 0, ('P07', 'P13', 'P21'): 2, ('P07', 'P13', 'P22'): 1, ('P07', 'P13', 'P23'): 0, ('P07', 'P13', 'P12'): 1, ('P07', 'P17', 'P18'): 1, ('P07', 'P17', 'P20'): 3, ('P07', 'P17', 'P09'): 1, ('P07', 'P17', 'P19'): 0, ('P07', 'P17', 'P08'): 1, ('P07', 'P17', 'P21'): 2, ('P07', 'P17', 'P22'): 0, ('P07', 'P17', 'P23'): 2, ('P07', 'P17', 'P12'): 1, ('P07', 'P18', 'P20'): 1, ('P07', 'P18', 'P09'): 1, ('P07', 'P18', 'P19'): 2, ('P07', 'P18', 'P08'): 1, ('P07', 'P18', 'P21'): 0, ('P07', 'P18', 'P22'): 1, ('P07', 'P18', 'P23'): 0, ('P07', 'P18', 'P12'): 2, ('P07', 'P20', 'P09'): 1, ('P07', 'P20', 'P19'): 0, ('P07', 'P20', 'P08'): 1, ('P07', 'P20', 'P21'): 2, ('P07', 'P20', 'P22'): 0, ('P07', 'P20', 'P23'): 1, ('P07', 'P20', 'P12'): 1, ('P07', 'P09', 'P19'): 1, ('P07', 'P09', 'P08'): 1, ('P07', 'P09', 'P21'): 2, ('P07', 'P09', 'P22'): 2, ('P07', 'P09', 'P23'): 0, ('P07', 'P09', 'P12'): 2, ('P07', 'P19', 'P08'): 2, ('P07', 'P19', 'P21'): 1, ('P07', 'P19', 'P22'): 2, ('P07', 'P19', 'P23'): 1, ('P07', 'P19', 'P12'): 2, ('P07', 'P08', 'P21'): 2, ('P07', 'P08', 'P22'): 2, ('P07', 'P08', 'P23'): 2, ('P07', 'P08', 'P12'): 1, ('P07', 'P21', 'P22'): 2, ('P07', 'P21', 'P23'): 2, ('P07', 'P21', 'P12'): 1, ('P07', 'P22', 'P23'): 1, ('P07', 'P22', 'P12'): 1, ('P07', 'P23', 'P12'): 0, ('P10', 'P13', 'P17'): 3, ('P10', 'P13', 'P18'): 2, ('P10', 'P13', 'P20'): 3, ('P10', 'P13', 'P25'): 2, ('P10', 'P13', 'P09'): 2, ('P10', 'P13', 'P14'): 1, ('P10', 'P13', 'P26'): 0, ('P10', 'P13', 'P24'): 1, ('P10', 'P13', 'P03'): 0, ('P10', 'P13', 'P12'): 1, ('P10', 'P17', 'P18'): 3, ('P10', 'P17', 'P20'): 4, ('P10', 'P17', 'P25'): 3, ('P10', 'P17', 'P09'): 2, ('P10', 'P17', 'P14'): 2, ('P10', 'P17', 'P26'): 1, ('P10', 'P17', 'P24'): 2, ('P10', 'P17', 'P03'): 2, ('P10', 'P17', 'P12'): 2, ('P10', 'P18', 'P20'): 4, ('P10', 'P18', 'P25'): 1, ('P10', 'P18', 'P09'): 1, ('P10', 'P18', 'P14'): 2, ('P10', 'P18', 'P26'): 0, ('P10', 'P18', 'P24'): 1, ('P10', 'P18', 'P03'): 2, ('P10', 'P18', 'P12'): 0, ('P10', 'P20', 'P25'): 2, ('P10', 'P20', 'P09'): 2, ('P10', 'P20', 'P14'): 2, ('P10', 'P20', 'P26'): 0, ('P10', 'P20', 'P24'): 2, ('P10', 'P20', 'P03'): 2, ('P10', 'P20', 'P12'): 1, ('P10', 'P25', 'P09'): 1, ('P10', 'P25', 'P14'): 1, ('P10', 'P25', 'P26'): 1, ('P10', 'P25', 'P24'): 2, ('P10', 'P25', 'P03'): 1, ('P10', 'P25', 'P12'): 3, ('P10', 'P09', 'P14'): 1, ('P10', 'P09', 'P26'): 1, ('P10', 'P09', 'P24'): 1, ('P10', 'P09', 'P03'): 0, ('P10', 'P09', 'P12'): 1, ('P10', 'P14', 'P26'): 2, ('P10', 'P14', 'P24'): 0, ('P10', 'P14', 'P03'): 3, ('P10', 'P14', 'P12'): 1, ('P10', 'P26', 'P24'): 0, ('P10', 'P26', 'P03'): 2, ('P10', 'P26', 'P12'): 1, ('P10', 'P24', 'P03'): 1, ('P10', 'P24', 'P12'): 2, ('P10', 'P03', 'P12'): 1, ('P13', 'P17', 'P18'): 2, ('P13', 'P17', 'P20'): 3, ('P13', 'P17', 'P25'): 2, ('P13', 'P17', 'P09'): 2, ('P13', 'P17', 'P21'): 1, ('P13', 'P17', 'P24'): 1, ('P13', 'P18', 'P20'): 3, ('P13', 'P18', 'P25'): 2, ('P13', 'P18', 'P09'): 2, ('P13', 'P18', 'P21'): 1, ('P13', 'P18', 'P24'): 2, ('P13', 'P20', 'P25'): 3, ('P13', 'P20', 'P09'): 3, ('P13', 'P20', 'P21'): 1, ('P13', 'P20', 'P24'): 2, ('P13', 'P25', 'P09'): 2, ('P13', 'P25', 'P21'): 1, ('P13', 'P25', 'P24'): 2, ('P13', 'P09', 'P21'): 2, ('P13', 'P09', 'P24'): 2, ('P13', 'P21', 'P24'): 2, ('P17', 'P18', 'P20'): 4, ('P17', 'P18', 'P25'): 2, ('P17', 'P18', 'P09'): 1, ('P17', 'P18', 'P14'): 1, ('P17', 'P18', 'P16'): 2, ('P17', 'P18', 'P19'): 2, ('P17', 'P18', 'P21'): 1, ('P17', 'P18', 'P23'): 0, ('P17', 'P18', 'P26'): 1, ('P17', 'P18', 'P24'): 1, ('P17', 'P18', 'P03'): 1, ('P17', 'P18', 'P12'): 0, ('P17', 'P20', 'P25'): 3, ('P17', 'P20', 'P09'): 2, ('P17', 'P20', 'P14'): 1, ('P17', 'P20', 'P16'): 2, ('P17', 'P20', 'P19'): 2, ('P17', 'P20', 'P21'): 3, ('P17', 'P20', 'P23'): 1, ('P17', 'P20', 'P26'): 1, ('P17', 'P20', 'P24'): 2, ('P17', 'P20', 'P03'): 2, ('P17', 'P20', 'P12'): 1, ('P17', 'P25', 'P09'): 1, ('P17', 'P25', 'P14'): 1, ('P17', 'P25', 'P16'): 0, ('P17', 'P25', 'P19'): 0, ('P17', 'P25', 'P21'): 2, ('P17', 'P25', 'P23'): 0, ('P17', 'P25', 'P26'): 2, ('P17', 'P25', 'P24'): 1, ('P17', 'P25', 'P03'): 1, ('P17', 'P25', 'P12'): 2, ('P17', 'P09', 'P14'): 1, ('P17', 'P09', 'P16'): 1, ('P17', 'P09', 'P19'): 1, ('P17', 'P09', 'P21'): 1, ('P17', 'P09', 'P23'): 1, ('P17', 'P09', 'P26'): 1, ('P17', 'P09', 'P24'): 1, ('P17', 'P09', 'P03'): 0, ('P17', 'P09', 'P12'): 2, ('P17', 'P14', 'P16'): 1, ('P17', 'P14', 'P19'): 1, ('P17', 'P14', 'P21'): 0, ('P17', 'P14', 'P23'): 1, ('P17', 'P14', 'P26'): 1, ('P17', 'P14', 'P24'): 0, ('P17', 'P14', 'P03'): 2, ('P17', 'P14', 'P12'): 1, ('P17', 'P16', 'P19'): 2, ('P17', 'P16', 'P21'): 0, ('P17', 'P16', 'P23'): 1, ('P17', 'P16', 'P26'): 0, ('P17', 'P16', 'P24'): 1, ('P17', 'P16', 'P03'): 1, ('P17', 'P16', 'P12'): 0, ('P17', 'P19', 'P21'): 0, ('P17', 'P19', 'P23'): 0, ('P17', 'P19', 'P26'): 0, ('P17', 'P19', 'P24'): 2, ('P17', 'P19', 'P03'): 1, ('P17', 'P19', 'P12'): 0, ('P17', 'P21', 'P23'): 1, ('P17', 'P21', 'P26'): 1, ('P17', 'P21', 'P24'): 1, ('P17', 'P21', 'P03'): 1, ('P17', 'P21', 'P12'): 1, ('P17', 'P23', 'P26'): 1, ('P17', 'P23', 'P24'): 0, ('P17', 'P23', 'P03'): 2, ('P17', 'P23', 'P12'): 1, ('P17', 'P26', 'P24'): 0, ('P17', 'P26', 'P03'): 1, ('P17', 'P26', 'P12'): 2, ('P17', 'P24', 'P03'): 1, ('P17', 'P24', 'P12'): 1, ('P17', 'P03', 'P12'): 1, ('P18', 'P20', 'P25'): 3, ('P18', 'P20', 'P09'): 2, ('P18', 'P20', 'P14'): 2, ('P18', 'P20', 'P16'): 2, ('P18', 'P20', 'P19'): 2, ('P18', 'P20', 'P08'): 2, ('P18', 'P20', 'P21'): 1, ('P18', 'P20', 'P22'): 1, ('P18', 'P20', 'P23'): 2, ('P18', 'P20', 'P26'): 2, ('P18', 'P20', 'P11'): 1, ('P18', 'P20', 'P24'): 2, ('P18', 'P20', 'P03'): 3, ('P18', 'P20', 'P12'): 0, ('P18', 'P25', 'P09'): 1, ('P18', 'P25', 'P14'): 0, ('P18', 'P25', 'P16'): 0, ('P18', 'P25', 'P19'): 0, ('P18', 'P25', 'P08'): 1, ('P18', 'P25', 'P21'): 1, ('P18', 'P25', 'P22'): 0, ('P18', 'P25', 'P23'): 1, ('P18', 'P25', 'P26'): 2, ('P18', 'P25', 'P11'): 0, ('P18', 'P25', 'P24'): 1, ('P18', 'P25', 'P03'): 1, ('P18', 'P25', 'P12'): 0, ('P18', 'P09', 'P14'): 1, ('P18', 'P09', 'P16'): 1, ('P18', 'P09', 'P19'): 2, ('P18', 'P09', 'P08'): 2, ('P18', 'P09', 'P21'): 0, ('P18', 'P09', 'P22'): 1, ('P18', 'P09', 'P23'): 1, ('P18', 'P09', 'P26'): 1, ('P18', 'P09', 'P11'): 0, ('P18', 'P09', 'P24'): 1, ('P18', 'P09', 'P03'): 1, ('P18', 'P09', 'P12'): 1, ('P18', 'P14', 'P16'): 3, ('P18', 'P14', 'P19'): 2, ('P18', 'P14', 'P08'): 2, ('P18', 'P14', 'P21'): 2, ('P18', 'P14', 'P22'): 3, ('P18', 'P14', 'P23'): 2, ('P18', 'P14', 'P26'): 1, ('P18', 'P14', 'P11'): 2, ('P18', 'P14', 'P24'): 2, ('P18', 'P14', 'P03'): 2, ('P18', 'P14', 'P12'): 1, ('P18', 'P16', 'P19'): 3, ('P18', 'P16', 'P08'): 1, ('P18', 'P16', 'P21'): 2, ('P18', 'P16', 'P22'): 2, ('P18', 'P16', 'P23'): 1, ('P18', 'P16', 'P26'): 1, ('P18', 'P16', 'P11'): 1, ('P18', 'P16', 'P24'): 3, ('P18', 'P16', 'P03'): 2, ('P18', 'P16', 'P12'): 1, ('P18', 'P19', 'P08'): 2, ('P18', 'P19', 'P21'): 1, ('P18', 'P19', 'P22'): 2, ('P18', 'P19', 'P23'): 0, ('P18', 'P19', 'P26'): 2, ('P18', 'P19', 'P11'): 1, ('P18', 'P19', 'P24'): 2, ('P18', 'P19', 'P03'): 2, ('P18', 'P19', 'P12'): 3, ('P18', 'P08', 'P21'): 1, ('P18', 'P08', 'P22'): 3, ('P18', 'P08', 'P23'): 2, ('P18', 'P08', 'P26'): 2, ('P18', 'P08', 'P11'): 1, ('P18', 'P08', 'P24'): 2, ('P18', 'P08', 'P03'): 3, ('P18', 'P08', 'P12'): 2, ('P18', 'P21', 'P22'): 2, ('P18', 'P21', 'P23'): 1, ('P18', 'P21', 'P26'): 2, ('P18', 'P21', 'P11'): 1, ('P18', 'P21', 'P24'): 2, ('P18', 'P21', 'P03'): 1, ('P18', 'P21', 'P12'): 1, ('P18', 'P22', 'P23'): 2, ('P18', 'P22', 'P26'): 1, ('P18', 'P22', 'P11'): 2, ('P18', 'P22', 'P24'): 2, ('P18', 'P22', 'P03'): 2, ('P18', 'P22', 'P12'): 2, ('P18', 'P23', 'P26'): 1, ('P18', 'P23', 'P11'): 2, ('P18', 'P23', 'P24'): 2, ('P18', 'P23', 'P03'): 2, ('P18', 'P23', 'P12'): 0, ('P18', 'P26', 'P11'): 1, ('P18', 'P26', 'P24'): 2, ('P18', 'P26', 'P03'): 2, ('P18', 'P26', 'P12'): 2, ('P18', 'P11', 'P24'): 1, ('P18', 'P11', 'P03'): 1, ('P18', 'P11', 'P12'): 1, ('P18', 'P24', 'P03'): 3, ('P18', 'P24', 'P12'): 1, ('P18', 'P03', 'P12'): 1, ('P20', 'P25', 'P09'): 2, ('P20', 'P25', 'P16'): 0, ('P20', 'P25', 'P08'): 1, ('P20', 'P25', 'P21'): 2, ('P20', 'P25', 'P23'): 1, ('P20', 'P25', 'P24'): 2, ('P20', 'P25', 'P03'): 1, ('P20', 'P09', 'P16'): 1, ('P20', 'P09', 'P08'): 1, ('P20', 'P09', 'P21'): 1, ('P20', 'P09', 'P23'): 1, ('P20', 'P09', 'P24'): 2, ('P20', 'P09', 'P03'): 1, ('P20', 'P16', 'P08'): 0, ('P20', 'P16', 'P21'): 0, ('P20', 'P16', 'P23'): 0, ('P20', 'P16', 'P24'): 1, ('P20', 'P16', 'P03'): 1, ('P20', 'P08', 'P21'): 1, ('P20', 'P08', 'P23'): 3, ('P20', 'P08', 'P24'): 1, ('P20', 'P08', 'P03'): 3, ('P20', 'P21', 'P23'): 1, ('P20', 'P21', 'P24'): 1, ('P20', 'P21', 'P03'): 1, ('P20', 'P23', 'P24'): 1, ('P20', 'P23', 'P03'): 3, ('P20', 'P24', 'P03'): 2, ('P25', 'P21', 'P26'): 1, ('P25', 'P21', 'P24'): 2, ('P25', 'P21', 'P12'): 2, ('P25', 'P26', 'P24'): 1, ('P25', 'P26', 'P12'): 1, ('P25', 'P24', 'P12'): 2, ('P09', 'P19', 'P21'): 1, ('P09', 'P19', 'P26'): 0, ('P09', 'P19', 'P12'): 2, ('P09', 'P21', 'P26'): 0, ('P09', 'P21', 'P12'): 1, ('P09', 'P26', 'P12'): 1, ('P14', 'P16', 'P19'): 3, ('P14', 'P16', 'P08'): 2, ('P14', 'P16', 'P21'): 3, ('P14', 'P16', 'P22'): 2, ('P14', 'P16', 'P23'): 2, ('P14', 'P16', 'P26'): 2, ('P14', 'P16', 'P11'): 1, ('P14', 'P16', 'P03'): 2, ('P14', 'P19', 'P08'): 2, ('P14', 'P19', 'P21'): 2, ('P14', 'P19', 'P22'): 1, ('P14', 'P19', 'P23'): 1, ('P14', 'P19', 'P26'): 2, ('P14', 'P19', 'P11'): 0, ('P14', 'P19', 'P03'): 2, ('P14', 'P08', 'P21'): 2, ('P14', 'P08', 'P22'): 2, ('P14', 'P08', 'P23'): 2, ('P14', 'P08', 'P26'): 3, ('P14', 'P08', 'P11'): 2, ('P14', 'P08', 'P03'): 4, ('P14', 'P21', 'P22'): 2, ('P14', 'P21', 'P23'): 2, ('P14', 'P21', 'P26'): 2, ('P14', 'P21', 'P11'): 1, ('P14', 'P21', 'P03'): 2, ('P14', 'P22', 'P23'): 2, ('P14', 'P22', 'P26'): 1, ('P14', 'P22', 'P11'): 2, ('P14', 'P22', 'P03'): 2, ('P14', 'P23', 'P26'): 1, ('P14', 'P23', 'P11'): 3, ('P14', 'P23', 'P03'): 3, ('P14', 'P26', 'P11'): 1, ('P14', 'P26', 'P03'): 4, ('P14', 'P11', 'P03'): 3, ('P16', 'P19', 'P21'): 2, ('P16', 'P19', 'P23'): 1, ('P16', 'P19', 'P15'): 2, ('P16', 'P19', 'P24'): 2, ('P16', 'P19', 'P03'): 3, ('P16', 'P21', 'P23'): 2, ('P16', 'P21', 'P15'): 2, ('P16', 'P21', 'P24'): 2, ('P16', 'P21', 'P03'): 2, ('P16', 'P23', 'P15'): 2, ('P16', 'P23', 'P24'): 1, ('P16', 'P23', 'P03'): 1, ('P16', 'P15', 'P24'): 2, ('P16', 'P15', 'P03'): 2, ('P16', 'P24', 'P03'): 2, ('P19', 'P08', 'P21'): 3, ('P19', 'P08', 'P22'): 3, ('P19', 'P08', 'P26'): 3, ('P19', 'P08', 'P24'): 1, ('P19', 'P08', 'P03'): 2, ('P19', 'P08', 'P12'): 2, ('P19', 'P21', 'P22'): 2, ('P19', 'P21', 'P26'): 3, ('P19', 'P21', 'P24'): 1, ('P19', 'P21', 'P03'): 2, ('P19', 'P21', 'P12'): 1, ('P19', 'P22', 'P26'): 2, ('P19', 'P22', 'P24'): 1, ('P19', 'P22', 'P03'): 1, ('P19', 'P22', 'P12'): 2, ('P19', 'P26', 'P24'): 1, ('P19', 'P26', 'P03'): 2, ('P19', 'P26', 'P12'): 2, ('P19', 'P24', 'P03'): 2, ('P19', 'P24', 'P12'): 1, ('P19', 'P03', 'P12'): 1, ('P08', 'P21', 'P22'): 2, ('P08', 'P21', 'P23'): 3, ('P08', 'P21', 'P26'): 3, ('P08', 'P21', 'P03'): 3, ('P08', 'P22', 'P23'): 2, ('P08', 'P22', 'P26'): 2, ('P08', 'P22', 'P03'): 2, ('P08', 'P23', 'P26'): 3, ('P08', 'P23', 'P03'): 4, ('P08', 'P26', 'P03'): 4, ('P21', 'P22', 'P23'): 2, ('P21', 'P22', 'P26'): 2, ('P21', 'P22', 'P15'): 2, ('P21', 'P22', 'P24'): 3, ('P21', 'P22', 'P03'): 1, ('P21', 'P22', 'P12'): 2, ('P21', 'P23', 'P26'): 2, ('P21', 'P23', 'P15'): 2, ('P21', 'P23', 'P24'): 1, ('P21', 'P23', 'P03'): 2, ('P21', 'P23', 'P12'): 0, ('P21', 'P26', 'P15'): 1, ('P21', 'P26', 'P24'): 1, ('P21', 'P26', 'P03'): 2, ('P21', 'P26', 'P12'): 1, ('P21', 'P15', 'P24'): 1, ('P21', 'P15', 'P03'): 1, ('P21', 'P15', 'P12'): 0, ('P21', 'P24', 'P03'): 1, ('P21', 'P24', 'P12'): 3, ('P21', 'P03', 'P12'): 1, ('P22', 'P23', 'P24'): 1, ('P22', 'P23', 'P12'): 0, ('P22', 'P24', 'P12'): 2, ('P23', 'P26', 'P11'): 1, ('P23', 'P26', 'P03'): 2, ('P23', 'P11', 'P03'): 2, ('P26', 'P11', 'P03'): 1, ('P26', 'P11', 'P12'): 2, ('P26', 'P03', 'P12'): 2, ('P24', 'P03', 'P12'): 1, ('P02', 'P10', 'P13', 'P17'): 3, ('P02', 'P10', 'P13', 'P20'): 3, ('P02', 'P10', 'P17', 'P20'): 3, ('P02', 'P13', 'P17', 'P20'): 3, ('P02', 'P17', 'P18', 'P20'): 3, ('P02', 'P17', 'P18', 'P25'): 2, ('P02', 'P17', 'P20', 'P25'): 3, ('P02', 'P21', 'P23', 'P26'): 2, ('P04', 'P07', 'P17', 'P18'): 1, ('P04', 'P07', 'P17', 'P20'): 3, ('P04', 'P07', 'P17', 'P12'): 1, ('P04', 'P07', 'P18', 'P20'): 1, ('P04', 'P07', 'P18', 'P12'): 2, ('P04', 'P07', 'P20', 'P12'): 1, ('P04', 'P10', 'P13', 'P17'): 3, ('P04', 'P10', 'P13', 'P18'): 2, ('P04', 'P10', 'P13', 'P20'): 3, ('P04', 'P10', 'P17', 'P18'): 3, ('P04', 'P10', 'P17', 'P20'): 4, ('P04', 'P10', 'P18', 'P20'): 3, ('P04', 'P13', 'P17', 'P20'): 3, ('P04', 'P17', 'P18', 'P20'): 3, ('P04', 'P18', 'P20', 'P19'): 2, ('P06', 'P18', 'P20', 'P25'): 3, ('P10', 'P13', 'P17', 'P20'): 3, ('P10', 'P17', 'P18', 'P20'): 3, ('P10', 'P17', 'P18', 'P25'): 1, ('P10', 'P17', 'P20', 'P25'): 2, ('P13', 'P20', 'P25', 'P09'): 2, ('P17', 'P20', 'P25', 'P21'): 2, ('P18', 'P20', 'P25', 'P03'): 1, ('P18', 'P14', 'P16', 'P22'): 2, ('P18', 'P16', 'P19', 'P24'): 2, ('P18', 'P08', 'P22', 'P03'): 2, ('P20', 'P08', 'P23', 'P03'): 3, ('P14', 'P16', 'P19', 'P21'): 2, ('P14', 'P08', 'P26', 'P03'): 3, ('P14', 'P23', 'P11', 'P03'): 2, ('P19', 'P08', 'P21', 'P22'): 2, ('P19', 'P08', 'P21', 'P26'): 3, ('P19', 'P08', 'P22', 'P26'): 2, ('P08', 'P21', 'P23', 'P26'): 2, ('P08', 'P21', 'P23', 'P03'): 2, ('P08', 'P21', 'P26', 'P03'): 2, ('P08', 'P23', 'P26', 'P03'): 2, ('P04', 'P10', 'P13', 'P17', 'P20'): 3, ('P04', 'P10', 'P17', 'P18', 'P20'): 3}\n"
     ]
    }
   ],
   "source": [
    "print(d_sup_vals)"
   ]
  },
  {
   "cell_type": "code",
   "execution_count": 240,
   "metadata": {},
   "outputs": [
    {
     "name": "stdout",
     "output_type": "stream",
     "text": [
      "P01 7\n",
      "P02 11\n",
      "P04 7\n",
      "P05 6\n",
      "P06 6\n",
      "P07 9\n",
      "P10 9\n",
      "P13 7\n",
      "P17 12\n",
      "P18 11\n",
      "P20 9\n",
      "P25 6\n",
      "P09 9\n",
      "P14 8\n",
      "P16 7\n",
      "P19 10\n",
      "P08 8\n",
      "P21 11\n",
      "P22 8\n",
      "P23 10\n",
      "P26 10\n",
      "P11 7\n",
      "P15 4\n",
      "P24 8\n",
      "P03 9\n",
      "P12 8\n",
      "P02 P04 3\n",
      "P02 P07 4\n",
      "P02 P10 3\n",
      "P02 P13 3\n",
      "P02 P17 5\n",
      "P02 P18 5\n",
      "P02 P20 5\n",
      "P02 P25 3\n",
      "P02 P14 3\n",
      "P02 P16 4\n",
      "P02 P19 3\n",
      "P02 P21 5\n",
      "P02 P22 3\n",
      "P02 P23 4\n",
      "P02 P26 3\n",
      "P02 P24 3\n",
      "P04 P05 3\n",
      "P04 P07 5\n",
      "P04 P10 4\n",
      "P04 P13 3\n",
      "P04 P17 5\n",
      "P04 P18 5\n",
      "P04 P20 5\n",
      "P04 P09 3\n",
      "P04 P19 4\n",
      "P04 P12 3\n",
      "P05 P10 3\n",
      "P05 P17 3\n",
      "P05 P18 4\n",
      "P05 P19 3\n",
      "P05 P08 3\n",
      "P05 P26 3\n",
      "P05 P03 3\n",
      "P05 P12 3\n",
      "P06 P13 3\n",
      "P06 P17 3\n",
      "P06 P18 3\n",
      "P06 P20 4\n",
      "P06 P25 3\n",
      "P06 P21 4\n",
      "P07 P13 3\n",
      "P07 P17 4\n",
      "P07 P18 3\n",
      "P07 P20 4\n",
      "P07 P09 3\n",
      "P07 P19 3\n",
      "P07 P08 3\n",
      "P07 P21 4\n",
      "P07 P22 3\n",
      "P07 P23 3\n",
      "P07 P12 3\n",
      "P10 P13 3\n",
      "P10 P17 5\n",
      "P10 P18 4\n",
      "P10 P20 5\n",
      "P10 P25 4\n",
      "P10 P09 3\n",
      "P10 P14 4\n",
      "P10 P26 3\n",
      "P10 P24 3\n",
      "P10 P03 4\n",
      "P10 P12 3\n",
      "P13 P17 3\n",
      "P13 P18 4\n",
      "P13 P20 4\n",
      "P13 P25 3\n",
      "P13 P09 4\n",
      "P13 P21 4\n",
      "P13 P24 3\n",
      "P17 P18 4\n",
      "P17 P20 6\n",
      "P17 P25 4\n",
      "P17 P09 3\n",
      "P17 P14 3\n",
      "P17 P16 3\n",
      "P17 P19 3\n",
      "P17 P21 3\n",
      "P17 P23 4\n",
      "P17 P26 3\n",
      "P17 P24 4\n",
      "P17 P03 4\n",
      "P17 P12 3\n",
      "P18 P20 6\n",
      "P18 P25 3\n",
      "P18 P09 3\n",
      "P18 P14 4\n",
      "P18 P16 4\n",
      "P18 P19 5\n",
      "P18 P08 4\n",
      "P18 P21 3\n",
      "P18 P22 4\n",
      "P18 P23 3\n",
      "P18 P26 4\n",
      "P18 P11 3\n",
      "P18 P24 4\n",
      "P18 P03 4\n",
      "P18 P12 3\n",
      "P20 P25 4\n",
      "P20 P09 3\n",
      "P20 P16 3\n",
      "P20 P08 3\n",
      "P20 P21 3\n",
      "P20 P23 3\n",
      "P20 P24 3\n",
      "P20 P03 4\n",
      "P25 P21 3\n",
      "P25 P26 3\n",
      "P25 P24 3\n",
      "P25 P12 3\n",
      "P09 P19 4\n",
      "P09 P21 3\n",
      "P09 P26 3\n",
      "P09 P12 4\n",
      "P14 P16 4\n",
      "P14 P19 3\n",
      "P14 P08 4\n",
      "P14 P21 3\n",
      "P14 P22 3\n",
      "P14 P23 4\n",
      "P14 P26 4\n",
      "P14 P11 4\n",
      "P14 P03 6\n",
      "P16 P19 4\n",
      "P16 P21 3\n",
      "P16 P23 3\n",
      "P16 P15 3\n",
      "P16 P24 3\n",
      "P16 P03 3\n",
      "P19 P08 4\n",
      "P19 P21 4\n",
      "P19 P22 3\n",
      "P19 P26 4\n",
      "P19 P24 3\n",
      "P19 P03 3\n",
      "P19 P12 4\n",
      "P08 P21 4\n",
      "P08 P22 4\n",
      "P08 P23 5\n",
      "P08 P26 5\n",
      "P08 P03 6\n",
      "P21 P22 5\n",
      "P21 P23 4\n",
      "P21 P26 4\n",
      "P21 P15 3\n",
      "P21 P24 4\n",
      "P21 P03 3\n",
      "P21 P12 3\n",
      "P22 P23 3\n",
      "P22 P24 4\n",
      "P22 P12 3\n",
      "P23 P26 4\n",
      "P23 P11 4\n",
      "P23 P03 5\n",
      "P26 P11 3\n",
      "P26 P03 5\n",
      "P26 P12 4\n",
      "P11 P03 3\n",
      "P24 P03 3\n",
      "P24 P12 3\n",
      "P02 P07 P20 3\n",
      "P02 P10 P13 3\n",
      "P02 P10 P17 3\n",
      "P02 P10 P20 3\n",
      "P02 P13 P17 3\n",
      "P02 P13 P20 3\n",
      "P02 P17 P18 3\n",
      "P02 P17 P20 4\n",
      "P02 P17 P25 3\n",
      "P02 P18 P20 3\n",
      "P02 P20 P25 3\n",
      "P02 P14 P16 3\n",
      "P02 P21 P23 3\n",
      "P02 P21 P26 3\n",
      "P04 P05 P18 3\n",
      "P04 P07 P17 3\n",
      "P04 P07 P18 3\n",
      "P04 P07 P20 3\n",
      "P04 P07 P12 3\n",
      "P04 P10 P13 3\n",
      "P04 P10 P17 4\n",
      "P04 P10 P18 3\n",
      "P04 P10 P20 4\n",
      "P04 P13 P17 3\n",
      "P04 P13 P20 3\n",
      "P04 P17 P18 3\n",
      "P04 P17 P20 5\n",
      "P04 P18 P20 3\n",
      "P04 P18 P19 4\n",
      "P05 P18 P19 3\n",
      "P06 P17 P20 3\n",
      "P06 P18 P20 3\n",
      "P06 P18 P25 3\n",
      "P06 P20 P25 3\n",
      "P07 P17 P20 3\n",
      "P10 P13 P17 3\n",
      "P10 P13 P20 3\n",
      "P10 P17 P18 3\n",
      "P10 P17 P20 4\n",
      "P10 P17 P25 3\n",
      "P10 P18 P20 4\n",
      "P10 P25 P12 3\n",
      "P10 P14 P03 3\n",
      "P13 P17 P20 3\n",
      "P13 P18 P20 3\n",
      "P13 P20 P25 3\n",
      "P13 P20 P09 3\n",
      "P17 P18 P20 4\n",
      "P17 P20 P25 3\n",
      "P17 P20 P21 3\n",
      "P18 P20 P25 3\n",
      "P18 P20 P03 3\n",
      "P18 P14 P16 3\n",
      "P18 P14 P22 3\n",
      "P18 P16 P19 3\n",
      "P18 P16 P24 3\n",
      "P18 P19 P12 3\n",
      "P18 P08 P22 3\n",
      "P18 P08 P03 3\n",
      "P18 P24 P03 3\n",
      "P20 P08 P23 3\n",
      "P20 P08 P03 3\n",
      "P20 P23 P03 3\n",
      "P14 P16 P19 3\n",
      "P14 P16 P21 3\n",
      "P14 P08 P26 3\n",
      "P14 P08 P03 4\n",
      "P14 P23 P11 3\n",
      "P14 P23 P03 3\n",
      "P14 P26 P03 4\n",
      "P14 P11 P03 3\n",
      "P16 P19 P03 3\n",
      "P19 P08 P21 3\n",
      "P19 P08 P22 3\n",
      "P19 P08 P26 3\n",
      "P19 P21 P26 3\n",
      "P08 P21 P23 3\n",
      "P08 P21 P26 3\n",
      "P08 P21 P03 3\n",
      "P08 P23 P26 3\n",
      "P08 P23 P03 4\n",
      "P08 P26 P03 4\n",
      "P21 P22 P24 3\n",
      "P21 P24 P12 3\n",
      "P02 P10 P13 P17 3\n",
      "P02 P10 P13 P20 3\n",
      "P02 P10 P17 P20 3\n",
      "P02 P13 P17 P20 3\n",
      "P02 P17 P18 P20 3\n",
      "P02 P17 P20 P25 3\n",
      "P04 P07 P17 P20 3\n",
      "P04 P10 P13 P17 3\n",
      "P04 P10 P13 P20 3\n",
      "P04 P10 P17 P18 3\n",
      "P04 P10 P17 P20 4\n",
      "P04 P10 P18 P20 3\n",
      "P04 P13 P17 P20 3\n",
      "P04 P17 P18 P20 3\n",
      "P06 P18 P20 P25 3\n",
      "P10 P13 P17 P20 3\n",
      "P10 P17 P18 P20 3\n",
      "P20 P08 P23 P03 3\n",
      "P14 P08 P26 P03 3\n",
      "P19 P08 P21 P26 3\n",
      "P04 P10 P13 P17 P20 3\n",
      "P04 P10 P17 P18 P20 3\n"
     ]
    }
   ],
   "source": [
    "#Put the results into the output file\n",
    "for k in range(len(freq_itemsets)):\n",
    "    for itemset in freq_itemsets[k]:\n",
    "        out_set = \"\"\n",
    "        for item in itemset:\n",
    "            out_set += item\n",
    "            out_set += \" \"\n",
    "        out_set += str(d_sup_vals[tuple(itemset)])\n",
    "        print(out_set)     "
   ]
  },
  {
   "cell_type": "code",
   "execution_count": null,
   "metadata": {
    "collapsed": true
   },
   "outputs": [],
   "source": []
  }
 ],
 "metadata": {
  "kernelspec": {
   "display_name": "Python 3",
   "language": "python",
   "name": "python3"
  },
  "language_info": {
   "codemirror_mode": {
    "name": "ipython",
    "version": 3
   },
   "file_extension": ".py",
   "mimetype": "text/x-python",
   "name": "python",
   "nbconvert_exporter": "python",
   "pygments_lexer": "ipython3",
   "version": "3.6.4"
  }
 },
 "nbformat": 4,
 "nbformat_minor": 2
}
