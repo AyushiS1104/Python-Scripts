{
 "cells": [
  {
   "cell_type": "markdown",
   "metadata": {},
   "source": [
    "# Author Text Generation:"
   ]
  },
  {
   "cell_type": "markdown",
   "metadata": {},
   "source": [
    "The goal of this notebook is to use different methods of text generation to attempt to create passages 'in the style of' different authors.\n",
    "\n",
    "What I mean by that is, can we train a model that can capture a certain authors tone and style, and apply it to writing on different prompts?\n",
    "\n",
    "The motivation for this project comes from those mall photo booths that take your picture as it were drawn by Picasso, or Monet, or some other artist. I want to do the same sort of thing with my books.\n",
    "\n",
    "This will probably work better more prolific authors, so I'll choose some of my favorites to start with.\n",
    "\n",
    "Sir Terry Pratchett's Discworld immiediately comes to mind. With over 40 books in the series, with a remarkably consistent style of writing, lets see if we can capture some of his magic with an algorithm."
   ]
  },
  {
   "cell_type": "markdown",
   "metadata": {},
   "source": [
    "## Methods to use:\n",
    "\n",
    "Since we are experimenting here, lets use a few different methods of text generation I've been meaning to play around with:\n",
    "\n",
    "1. Hidden Markov Models: We'll use the python package markovify\n",
    "2. Pre-trained Neural Networks: Lets use GPT-2, retrained on the entire series of Discworld"
   ]
  },
  {
   "cell_type": "markdown",
   "metadata": {},
   "source": [
    "### Hidden Markov Models (HMM) with Markovify"
   ]
  },
  {
   "cell_type": "code",
   "execution_count": 14,
   "metadata": {},
   "outputs": [],
   "source": [
    "import markovify\n",
    "import numpy as np"
   ]
  },
  {
   "cell_type": "code",
   "execution_count": 89,
   "metadata": {},
   "outputs": [],
   "source": [
    "#Read text into string\n",
    "input_file = r\"C:\\Users\\amuth\\Calibre Library\\Corpus Dataset\\Terry Pratchett.txt\"\n",
    "#f = open(input_file,'r',encoding='utf-8')\n",
    "with open(input_file,'r',encoding='utf-8') as f:\n",
    "    text_model = markovify.Text(f, retain_original=False,state_size=2,well_formed=True)"
   ]
  },
  {
   "cell_type": "code",
   "execution_count": 90,
   "metadata": {},
   "outputs": [],
   "source": [
    "#text_model = markovify.Text(text, state_size = 2)"
   ]
  },
  {
   "cell_type": "code",
   "execution_count": 95,
   "metadata": {},
   "outputs": [
    {
     "name": "stdout",
     "output_type": "stream",
     "text": [
      "“Oh yes.\n",
      "My word, we’re practically the city’s oldest jail, Moist was being looked after the girl.“They’ll catch us,” she said.\n",
      "“I walked over to a point.Rincewind lumbered to a really good thing to do,’ said the raven darkly.They waited again.She wondered what kind of an accent, though.”“Languages is part of your socks, but it…a…it makes a hash of this, which was just because of the sourcerer, the wickedness of the crew tagging along, and replied, ‘That animal is called for Granny Weatherwax to the air and overturned.“That’s right!” roared Granny.“That was nearly through, half-sprawled among the wizards, and then damp.\n",
      "The Luggage was born.\n",
      "He went with two stripes hanging from walls and a D were scribbled quickly.GOLEM MUST HAVE had a lot of effort and much more fun if you’re rich.”The silence returned and picked Arthur first; ten seconds later the Luggage with us.\n",
      "‘But still it wasn't entirely clear about that.”The tone of voice.\n",
      "He’s got Assassins looking for the funeral was over.\n",
      "It wasn’t that much but I don’t know what I am leaving.’\n",
      "Wart cure.\n",
      "“Even so, this should go after an oil slick, as colourful as a result of perfectly ordinary for wizards.”“People acting out of the clink, then you start with visions of carnal gratification?”\n"
     ]
    }
   ],
   "source": [
    "for i in range(10):\n",
    "    print(text_model.make_sentence())"
   ]
  },
  {
   "cell_type": "markdown",
   "metadata": {},
   "source": [
    "Hmm. Looks like I should try cleaning my text data a bit better before trying to generate with markovify, since right now I have an entire book per line. This will not be ideal.\n",
    "\n",
    "However, apart from this, another issue I have with markovify is it doesn't really generate paragraphs. The documentation suggests that I could modify the source code so that it will, but this goes hand in hand with my above comment that my data needs to be in a different format for that. For now it generates individual sentences only.\n",
    "\n",
    "All in all, not bad for a first try, and definitely something I'm going to explore more later. For now though, lets move on. The point of this notebook is a wide trial, not a deep dive."
   ]
  },
  {
   "cell_type": "code",
   "execution_count": null,
   "metadata": {},
   "outputs": [],
   "source": []
  }
 ],
 "metadata": {
  "kernelspec": {
   "display_name": "Python 3",
   "language": "python",
   "name": "python3"
  },
  "language_info": {
   "codemirror_mode": {
    "name": "ipython",
    "version": 3
   },
   "file_extension": ".py",
   "mimetype": "text/x-python",
   "name": "python",
   "nbconvert_exporter": "python",
   "pygments_lexer": "ipython3",
   "version": "3.7.4"
  }
 },
 "nbformat": 4,
 "nbformat_minor": 2
}
