{
 "cells": [
  {
   "cell_type": "code",
   "execution_count": 1,
   "metadata": {
    "collapsed": true
   },
   "outputs": [],
   "source": [
    "from urllib.request import urlopen"
   ]
  },
  {
   "cell_type": "code",
   "execution_count": 2,
   "metadata": {
    "collapsed": true
   },
   "outputs": [],
   "source": [
    "from bs4 import BeautifulSoup\n",
    "import pandas as pd\n",
    "import re"
   ]
  },
  {
   "cell_type": "code",
   "execution_count": 3,
   "metadata": {
    "collapsed": false
   },
   "outputs": [],
   "source": [
    "# Determine if entry is a useful table entry\n",
    "def is_beer_entry(table_row):\n",
    "    #find all cells that are within a table\n",
    "    row_cells = table_row.find_all(\"td\")\n",
    "    #get the cells in the first column, which should be beer_id\n",
    "    beer_id = get_beer_id(row_cells[0].text)\n",
    "    #check if the entry looks like a beer entry\n",
    "    return ( len(row_cells) == 8 and beer_id)\n"
   ]
  },
  {
   "cell_type": "code",
   "execution_count": 4,
   "metadata": {
    "collapsed": true
   },
   "outputs": [],
   "source": [
    "#Get valid beer_ids from the table\n",
    "def get_beer_id(cell_value):\n",
    "    #regex to find valid beer id\n",
    "    r = re.match(\"^(\\d{1,4})\\.$\", cell_value)\n",
    "    if r and len(r.groups()) == 1:\n",
    "        beer_id = r.group(1)\n",
    "        return int(beer_id)\n",
    "    else:\n",
    "        return None\n",
    "   "
   ]
  },
  {
   "cell_type": "code",
   "execution_count": 5,
   "metadata": {
    "collapsed": true
   },
   "outputs": [],
   "source": [
    "def get_all_beers(html_soup):\n",
    "    beers=[]\n",
    "    all_rows_in_html_page=html_soup.find_all(\"tr\")\n",
    "    for table_row in all_rows_in_html_page:\n",
    "        if is_beer_entry(table_row):\n",
    "            row_cells = table_row.find_all(\"td\")\n",
    "            beer_entry = {\n",
    "                \"id\":get_beer_id(row_cells[0].text),\n",
    "                \"name\":row_cells[1].text,\n",
    "                \"brewery_name\":row_cells[2].text,\n",
    "                \"brewery_location\":row_cells[3].text,\n",
    "                \"style\":row_cells[4].text,\n",
    "                \"size\":row_cells[5].text,\n",
    "                \"abv\":row_cells[6].text,\n",
    "                \"ibu\":row_cells[7].text\n",
    "            }\n",
    "            beers.append(beer_entry)\n",
    "    return beers\n"
   ]
  },
  {
   "cell_type": "code",
   "execution_count": 6,
   "metadata": {
    "collapsed": false,
    "scrolled": true
   },
   "outputs": [],
   "source": [
    "html = urlopen(\"http://craftcans.com/db.php?search=all&sort=beerid&ord=desc&view=text\")\n",
    "html_soup = BeautifulSoup(html,'html.parser')\n",
    "beers_list = get_all_beers(html_soup)"
   ]
  },
  {
   "cell_type": "code",
   "execution_count": 7,
   "metadata": {
    "collapsed": false
   },
   "outputs": [
    {
     "data": {
      "text/html": [
       "<div>\n",
       "<table border=\"1\" class=\"dataframe\">\n",
       "  <thead>\n",
       "    <tr style=\"text-align: right;\">\n",
       "      <th></th>\n",
       "      <th>abv</th>\n",
       "      <th>brewery_location</th>\n",
       "      <th>brewery_name</th>\n",
       "      <th>ibu</th>\n",
       "      <th>id</th>\n",
       "      <th>name</th>\n",
       "      <th>size</th>\n",
       "      <th>style</th>\n",
       "    </tr>\n",
       "  </thead>\n",
       "  <tbody>\n",
       "    <tr>\n",
       "      <th>0</th>\n",
       "      <td>4.5%</td>\n",
       "      <td>Minneapolis, MN</td>\n",
       "      <td>NorthGate Brewing</td>\n",
       "      <td>50</td>\n",
       "      <td>2692</td>\n",
       "      <td>Get Together</td>\n",
       "      <td>16 oz.</td>\n",
       "      <td>American IPA</td>\n",
       "    </tr>\n",
       "    <tr>\n",
       "      <th>1</th>\n",
       "      <td>4.9%</td>\n",
       "      <td>Minneapolis, MN</td>\n",
       "      <td>NorthGate Brewing</td>\n",
       "      <td>26</td>\n",
       "      <td>2691</td>\n",
       "      <td>Maggie's Leap</td>\n",
       "      <td>16 oz.</td>\n",
       "      <td>Milk / Sweet Stout</td>\n",
       "    </tr>\n",
       "    <tr>\n",
       "      <th>2</th>\n",
       "      <td>4.8%</td>\n",
       "      <td>Minneapolis, MN</td>\n",
       "      <td>NorthGate Brewing</td>\n",
       "      <td>19</td>\n",
       "      <td>2690</td>\n",
       "      <td>Wall's End</td>\n",
       "      <td>16 oz.</td>\n",
       "      <td>English Brown Ale</td>\n",
       "    </tr>\n",
       "    <tr>\n",
       "      <th>3</th>\n",
       "      <td>6.0%</td>\n",
       "      <td>Minneapolis, MN</td>\n",
       "      <td>NorthGate Brewing</td>\n",
       "      <td>38</td>\n",
       "      <td>2689</td>\n",
       "      <td>Pumpion</td>\n",
       "      <td>16 oz.</td>\n",
       "      <td>Pumpkin Ale</td>\n",
       "    </tr>\n",
       "    <tr>\n",
       "      <th>4</th>\n",
       "      <td>6.0%</td>\n",
       "      <td>Minneapolis, MN</td>\n",
       "      <td>NorthGate Brewing</td>\n",
       "      <td>25</td>\n",
       "      <td>2688</td>\n",
       "      <td>Stronghold</td>\n",
       "      <td>16 oz.</td>\n",
       "      <td>American Porter</td>\n",
       "    </tr>\n",
       "  </tbody>\n",
       "</table>\n",
       "</div>"
      ],
      "text/plain": [
       "    abv brewery_location        brewery_name ibu    id           name    size  \\\n",
       "0  4.5%  Minneapolis, MN  NorthGate Brewing   50  2692   Get Together  16 oz.   \n",
       "1  4.9%  Minneapolis, MN  NorthGate Brewing   26  2691  Maggie's Leap  16 oz.   \n",
       "2  4.8%  Minneapolis, MN  NorthGate Brewing   19  2690     Wall's End  16 oz.   \n",
       "3  6.0%  Minneapolis, MN  NorthGate Brewing   38  2689        Pumpion  16 oz.   \n",
       "4  6.0%  Minneapolis, MN  NorthGate Brewing   25  2688     Stronghold  16 oz.   \n",
       "\n",
       "                style  \n",
       "0        American IPA  \n",
       "1  Milk / Sweet Stout  \n",
       "2   English Brown Ale  \n",
       "3         Pumpkin Ale  \n",
       "4     American Porter  "
      ]
     },
     "execution_count": 7,
     "metadata": {},
     "output_type": "execute_result"
    }
   ],
   "source": [
    "df = pd.DataFrame(beers_list)\n",
    "df.head(5)"
   ]
  },
  {
   "cell_type": "code",
   "execution_count": 68,
   "metadata": {
    "collapsed": false
   },
   "outputs": [
    {
     "name": "stdout",
     "output_type": "stream",
     "text": [
      "<class 'pandas.core.frame.DataFrame'>\n",
      "RangeIndex: 2410 entries, 0 to 2409\n",
      "Data columns (total 8 columns):\n",
      "abv                 2410 non-null object\n",
      "brewery_location    2410 non-null object\n",
      "brewery_name        2410 non-null object\n",
      "ibu                 2410 non-null object\n",
      "id                  2410 non-null int64\n",
      "name                2410 non-null object\n",
      "size                2410 non-null object\n",
      "style               2410 non-null object\n",
      "dtypes: int64(1), object(7)\n",
      "memory usage: 150.7+ KB\n"
     ]
    }
   ],
   "source": [
    "df.info()"
   ]
  },
  {
   "cell_type": "code",
   "execution_count": 69,
   "metadata": {
    "collapsed": false
   },
   "outputs": [
    {
     "data": {
      "text/html": [
       "<div>\n",
       "<table border=\"1\" class=\"dataframe\">\n",
       "  <thead>\n",
       "    <tr style=\"text-align: right;\">\n",
       "      <th></th>\n",
       "      <th>brewery_location</th>\n",
       "      <th>brewery_name</th>\n",
       "      <th>id</th>\n",
       "    </tr>\n",
       "  </thead>\n",
       "  <tbody>\n",
       "    <tr>\n",
       "      <th>0</th>\n",
       "      <td>Minneapolis, MN</td>\n",
       "      <td>NorthGate Brewing</td>\n",
       "      <td>0</td>\n",
       "    </tr>\n",
       "    <tr>\n",
       "      <th>1</th>\n",
       "      <td>Louisville, KY</td>\n",
       "      <td>Against the Grain Brewery</td>\n",
       "      <td>1</td>\n",
       "    </tr>\n",
       "    <tr>\n",
       "      <th>2</th>\n",
       "      <td>Framingham, MA</td>\n",
       "      <td>Jack's Abby Craft Lagers</td>\n",
       "      <td>2</td>\n",
       "    </tr>\n",
       "    <tr>\n",
       "      <th>3</th>\n",
       "      <td>San Diego, CA</td>\n",
       "      <td>Mike Hess Brewing Company</td>\n",
       "      <td>3</td>\n",
       "    </tr>\n",
       "    <tr>\n",
       "      <th>4</th>\n",
       "      <td>San Francisco, CA</td>\n",
       "      <td>Fort Point Beer Company</td>\n",
       "      <td>4</td>\n",
       "    </tr>\n",
       "  </tbody>\n",
       "</table>\n",
       "</div>"
      ],
      "text/plain": [
       "    brewery_location               brewery_name  id\n",
       "0    Minneapolis, MN         NorthGate Brewing    0\n",
       "1     Louisville, KY  Against the Grain Brewery   1\n",
       "2     Framingham, MA   Jack's Abby Craft Lagers   2\n",
       "3      San Diego, CA  Mike Hess Brewing Company   3\n",
       "4  San Francisco, CA    Fort Point Beer Company   4"
      ]
     },
     "execution_count": 69,
     "metadata": {},
     "output_type": "execute_result"
    }
   ],
   "source": [
    "breweries = df[[\"brewery_location\",\"brewery_name\"]]\n",
    "breweries = breweries.drop_duplicates().reset_index(drop=True)\n",
    "breweries[\"id\"] = breweries.index\n",
    "breweries.head(5)"
   ]
  },
  {
   "cell_type": "code",
   "execution_count": 70,
   "metadata": {
    "collapsed": false
   },
   "outputs": [
    {
     "data": {
      "text/html": [
       "<div>\n",
       "<table border=\"1\" class=\"dataframe\">\n",
       "  <thead>\n",
       "    <tr style=\"text-align: right;\">\n",
       "      <th></th>\n",
       "      <th>brewery_location</th>\n",
       "      <th>brewery_name</th>\n",
       "      <th>id</th>\n",
       "      <th>city</th>\n",
       "      <th>state</th>\n",
       "    </tr>\n",
       "  </thead>\n",
       "  <tbody>\n",
       "    <tr>\n",
       "      <th>0</th>\n",
       "      <td>Minneapolis, MN</td>\n",
       "      <td>NorthGate Brewing</td>\n",
       "      <td>0</td>\n",
       "      <td>Minneapolis</td>\n",
       "      <td>MN</td>\n",
       "    </tr>\n",
       "    <tr>\n",
       "      <th>1</th>\n",
       "      <td>Louisville, KY</td>\n",
       "      <td>Against the Grain Brewery</td>\n",
       "      <td>1</td>\n",
       "      <td>Louisville</td>\n",
       "      <td>KY</td>\n",
       "    </tr>\n",
       "    <tr>\n",
       "      <th>2</th>\n",
       "      <td>Framingham, MA</td>\n",
       "      <td>Jack's Abby Craft Lagers</td>\n",
       "      <td>2</td>\n",
       "      <td>Framingham</td>\n",
       "      <td>MA</td>\n",
       "    </tr>\n",
       "    <tr>\n",
       "      <th>3</th>\n",
       "      <td>San Diego, CA</td>\n",
       "      <td>Mike Hess Brewing Company</td>\n",
       "      <td>3</td>\n",
       "      <td>San Diego</td>\n",
       "      <td>CA</td>\n",
       "    </tr>\n",
       "    <tr>\n",
       "      <th>4</th>\n",
       "      <td>San Francisco, CA</td>\n",
       "      <td>Fort Point Beer Company</td>\n",
       "      <td>4</td>\n",
       "      <td>San Francisco</td>\n",
       "      <td>CA</td>\n",
       "    </tr>\n",
       "  </tbody>\n",
       "</table>\n",
       "</div>"
      ],
      "text/plain": [
       "    brewery_location               brewery_name  id           city state\n",
       "0    Minneapolis, MN         NorthGate Brewing    0    Minneapolis    MN\n",
       "1     Louisville, KY  Against the Grain Brewery   1     Louisville    KY\n",
       "2     Framingham, MA   Jack's Abby Craft Lagers   2     Framingham    MA\n",
       "3      San Diego, CA  Mike Hess Brewing Company   3      San Diego    CA\n",
       "4  San Francisco, CA    Fort Point Beer Company   4  San Francisco    CA"
      ]
     },
     "execution_count": 70,
     "metadata": {},
     "output_type": "execute_result"
    }
   ],
   "source": [
    "breweries['city']=breweries['brewery_location'].apply(lambda x:x.split(',')[0])\n",
    "breweries['state']=breweries['brewery_location'].apply(lambda x:x.split(',')[1])\n",
    "breweries.head()"
   ]
  },
  {
   "cell_type": "code",
   "execution_count": 74,
   "metadata": {
    "collapsed": false
   },
   "outputs": [
    {
     "data": {
      "text/html": [
       "<div>\n",
       "<table border=\"1\" class=\"dataframe\">\n",
       "  <thead>\n",
       "    <tr style=\"text-align: right;\">\n",
       "      <th></th>\n",
       "      <th>name</th>\n",
       "      <th>city</th>\n",
       "      <th>state</th>\n",
       "    </tr>\n",
       "  </thead>\n",
       "  <tbody>\n",
       "    <tr>\n",
       "      <th>0</th>\n",
       "      <td>NorthGate Brewing</td>\n",
       "      <td>Minneapolis</td>\n",
       "      <td>MN</td>\n",
       "    </tr>\n",
       "    <tr>\n",
       "      <th>1</th>\n",
       "      <td>Against the Grain Brewery</td>\n",
       "      <td>Louisville</td>\n",
       "      <td>KY</td>\n",
       "    </tr>\n",
       "    <tr>\n",
       "      <th>2</th>\n",
       "      <td>Jack's Abby Craft Lagers</td>\n",
       "      <td>Framingham</td>\n",
       "      <td>MA</td>\n",
       "    </tr>\n",
       "    <tr>\n",
       "      <th>3</th>\n",
       "      <td>Mike Hess Brewing Company</td>\n",
       "      <td>San Diego</td>\n",
       "      <td>CA</td>\n",
       "    </tr>\n",
       "    <tr>\n",
       "      <th>4</th>\n",
       "      <td>Fort Point Beer Company</td>\n",
       "      <td>San Francisco</td>\n",
       "      <td>CA</td>\n",
       "    </tr>\n",
       "  </tbody>\n",
       "</table>\n",
       "</div>"
      ],
      "text/plain": [
       "                        name           city state\n",
       "0         NorthGate Brewing     Minneapolis    MN\n",
       "1  Against the Grain Brewery     Louisville    KY\n",
       "2   Jack's Abby Craft Lagers     Framingham    MA\n",
       "3  Mike Hess Brewing Company      San Diego    CA\n",
       "4    Fort Point Beer Company  San Francisco    CA"
      ]
     },
     "execution_count": 74,
     "metadata": {},
     "output_type": "execute_result"
    }
   ],
   "source": [
    "breweries = breweries[[\"brewery_name\",\"city\",\"state\"]]\n",
    "breweries.rename(inplace=True,columns={'brewery_name':'name'})\n",
    "breweries.head()"
   ]
  },
  {
   "cell_type": "code",
   "execution_count": null,
   "metadata": {
    "collapsed": true
   },
   "outputs": [],
   "source": []
  }
 ],
 "metadata": {
  "anaconda-cloud": {},
  "kernelspec": {
   "display_name": "Python [default]",
   "language": "python",
   "name": "python3"
  },
  "language_info": {
   "codemirror_mode": {
    "name": "ipython",
    "version": 3
   },
   "file_extension": ".py",
   "mimetype": "text/x-python",
   "name": "python",
   "nbconvert_exporter": "python",
   "pygments_lexer": "ipython3",
   "version": "3.5.2"
  }
 },
 "nbformat": 4,
 "nbformat_minor": 1
}
