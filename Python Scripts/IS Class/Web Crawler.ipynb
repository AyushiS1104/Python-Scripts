{
 "cells": [
  {
   "cell_type": "code",
   "execution_count": 1,
   "metadata": {
    "collapsed": true
   },
   "outputs": [],
   "source": [
    "from urllib.request import urlopen\n",
    "from bs4 import BeautifulSoup\n",
    "import requests\n",
    "import types\n",
    "import time\n",
    "import re\n",
    "import queue\n",
    "import string\n",
    "import os"
   ]
  },
  {
   "cell_type": "code",
   "execution_count": 2,
   "metadata": {
    "collapsed": false
   },
   "outputs": [],
   "source": [
    "#Get Seed URLs and URLs from the seed URL\n",
    "def getQueue(url_lst):\n",
    "    q = queue.Queue()\n",
    "    for url in url_lst:\n",
    "        r = requests.get(\"http://\" + url)\n",
    "        data = r.text\n",
    "        soup = BeautifulSoup(data,\"lxml\")\n",
    "        for link in soup.find_all('a'):\n",
    "            link = link.get('href')\n",
    "            if link!=None:\n",
    "                q.put(link)\n",
    "    return q"
   ]
  },
  {
   "cell_type": "code",
   "execution_count": 3,
   "metadata": {
    "collapsed": true
   },
   "outputs": [],
   "source": [
    "#Determine if page is relevant (before downloading)\n",
    "def classRel(url,html,rel_list):\n",
    "    soup = BeautifulSoup(html,\"lxml\")\n",
    "    text = soup.get_text()\n",
    "    text=text.lower()\n",
    "    rel_count=0\n",
    "    for item in rel_list:\n",
    "        item=item.lower()\n",
    "        if item in text:\n",
    "            rel_count += 1\n",
    "        else:\n",
    "            continue\n",
    "    if rel_count>=2:\n",
    "        return True\n",
    "    else:\n",
    "        return False"
   ]
  },
  {
   "cell_type": "code",
   "execution_count": 4,
   "metadata": {
    "collapsed": false
   },
   "outputs": [],
   "source": [
    "#Make sure the url is valid before crawling\n",
    "def makeVal(url):\n",
    "    if 'redlink' in url:\n",
    "        return None\n",
    "    name = getName(url)\n",
    "    name = re.sub(\"[^a-zA-Z]\",\"\",name)\n",
    "    if name == None:\n",
    "        return None\n",
    "    try:\n",
    "        if '#' in url:\n",
    "            return None\n",
    "        elif url[1]=='w':\n",
    "            url = \"http://en.wikipedia.org\" + url\n",
    "            return url\n",
    "        else:\n",
    "            return None\n",
    "    except IndexError:\n",
    "        print (\"bad page name\")"
   ]
  },
  {
   "cell_type": "code",
   "execution_count": 5,
   "metadata": {
    "collapsed": true
   },
   "outputs": [],
   "source": [
    "#Create a valid file name for the downloaded page\n",
    "def getName(url):\n",
    "    name = url.split('/')[-1]\n",
    "    if '.' in name:\n",
    "        name = name.split('.')[0]\n",
    "    return name"
   ]
  },
  {
   "cell_type": "code",
   "execution_count": 6,
   "metadata": {
    "collapsed": false
   },
   "outputs": [],
   "source": [
    "#Download pages from the urls in the queue\n",
    "def getPage(url,rel_list,path):\n",
    "    html = urlopen(url).read()\n",
    "    name = getName(url)\n",
    "    try:\n",
    "        if classRel(url,html,rel_list):\n",
    "            file = open(path+name+'.html',\"w\")\n",
    "            file.write(str(html))\n",
    "            file.close()\n",
    "            file_vis = open('Report_Crawler.txt','a')\n",
    "            file_vis.write(url + '\\n')\n",
    "    except OSError as e:\n",
    "        print (e)"
   ]
  },
  {
   "cell_type": "code",
   "execution_count": 7,
   "metadata": {
    "collapsed": false
   },
   "outputs": [],
   "source": [
    "#Get the relevant search terms from the user\n",
    "def getRelList():\n",
    "    rel_list = []\n",
    "    counter = 0\n",
    "    b = True\n",
    "    while b==True:\n",
    "        term = input('Enter a search term(Leave blank to end): ')\n",
    "        if term==\"\" and counter>=2:\n",
    "            b=False\n",
    "        elif term==\"\" and counter<2:\n",
    "            print('You need at least 2 search terms')\n",
    "            continue\n",
    "        else:\n",
    "            rel_list.append(term)\n",
    "            counter+=1\n",
    "    return rel_list"
   ]
  },
  {
   "cell_type": "code",
   "execution_count": 8,
   "metadata": {
    "collapsed": false
   },
   "outputs": [],
   "source": [
    "#Get the Seed URLs fromt the user\n",
    "def getSeeds():\n",
    "    seed_URLs = []\n",
    "    counter = 0\n",
    "    b = True\n",
    "    while b==True:\n",
    "        term = input('Enter a seed URL(Leave blank to end):')\n",
    "        if term==\"\" and counter>=1:\n",
    "            b=False\n",
    "        elif term==\"\" and counter<1:\n",
    "            print('You need at least 1 seed URL')\n",
    "            continue\n",
    "        else:\n",
    "            seed_URLs.append(term)\n",
    "            counter+=1\n",
    "    return seed_URLs"
   ]
  },
  {
   "cell_type": "code",
   "execution_count": 9,
   "metadata": {
    "collapsed": false
   },
   "outputs": [],
   "source": [
    "def makefile(path):\n",
    "    if not os.path.exists(path):\n",
    "        os.makedirs(path)"
   ]
  },
  {
   "cell_type": "code",
   "execution_count": 10,
   "metadata": {
    "collapsed": false,
    "scrolled": true
   },
   "outputs": [
    {
     "name": "stdout",
     "output_type": "stream",
     "text": [
      "All Done!\n"
     ]
    }
   ],
   "source": [
    "#below lists are hard-coded seed urls and relevant terms\n",
    "seed_URLs = ['en.wikipedia.org/wiki/Cricket','en.wikipedia.org/wiki/Cricket_World_Cup']\n",
    "rel_list = ['kapil','kohli','Dhoni','test','pitch','t20','world cup','wicket','ganguly','tendulkar']\n",
    "#Below functions can be activated if user input is desired.\n",
    "#seed_URLs = getSeeds()\n",
    "#rel_list = getRelList()\n",
    "q=getQueue(seed_URLs)\n",
    "vis_URLs = []\n",
    "#Create a folder to put the crawled pages in\n",
    "path = \"Crawled_Pages/\"\n",
    "makefile(path)\n",
    "#Create the report of the crawled pages\n",
    "file_vis = open('Report_Crawler.txt','w')\n",
    "file_vis.write('Topic: Cricket in India')\n",
    "file_vis.write('Seed URLs: ')\n",
    "for url in seed_URLs:\n",
    "    file_vis.write(url + ', ')\n",
    "file_vis.write('\\n')\n",
    "file_vis.write('Related Terms: ')\n",
    "for term in rel_list:\n",
    "    file_vis.write(term + ', ')\n",
    "file_vis.write('\\n')\n",
    "file_vis.write(\"This crawler works by utilizing the urllib library to go to the webpage,\")\n",
    "file_vis.write('\\n')\n",
    "file_vis.write(\"then using the package BeautifulSoup to create a queue of urls,\") \n",
    "file_vis.write('\\n')\n",
    "file_vis.write(\"and then save the pages to the crawled collection\")\n",
    "file_vis.write('\\n')\n",
    "file_vis.write('URLs visited by the crawler:' + '\\n')\n",
    "file_vis.close()\n",
    "#Crawl all the URLs in the queue\n",
    "while not q.empty():\n",
    "    url = q.get()\n",
    "    url = makeVal(url)\n",
    "    if url != None and url not in vis_URLs:\n",
    "        getPage(url,rel_list,path)\n",
    "        vis_URLs.append(url)\n",
    "    else:\n",
    "        continue\n",
    "#Add the number of crawled pages to the report\n",
    "file_vis = open('Report_Crawler.txt','r')\n",
    "rep_lines = file_vis.readlines()\n",
    "num_lines = len(rep_lines)\n",
    "file_vis.close()\n",
    "file_vis = open('Report_Crawler.txt','a')\n",
    "file_vis.write('Number of files crawled = ')\n",
    "file_vis.write(str(num_lines-6))\n",
    "file_vis.close()\n",
    "print('All Done!')"
   ]
  },
  {
   "cell_type": "code",
   "execution_count": null,
   "metadata": {
    "collapsed": true
   },
   "outputs": [],
   "source": []
  }
 ],
 "metadata": {
  "anaconda-cloud": {},
  "kernelspec": {
   "display_name": "Python 3",
   "language": "python",
   "name": "python3"
  },
  "language_info": {
   "codemirror_mode": {
    "name": "ipython",
    "version": 3
   },
   "file_extension": ".py",
   "mimetype": "text/x-python",
   "name": "python",
   "nbconvert_exporter": "python",
   "pygments_lexer": "ipython3",
   "version": "3.5.2"
  }
 },
 "nbformat": 4,
 "nbformat_minor": 1
}
